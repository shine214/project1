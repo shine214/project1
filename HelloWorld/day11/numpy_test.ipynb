{
 "cells": [
  {
   "metadata": {},
   "cell_type": "markdown",
   "source": "# ndarray 和 原声list 的速度对比 ",
   "id": "619066b4d6001138"
  },
  {
   "metadata": {
    "ExecuteTime": {
     "end_time": "2025-01-06T13:33:12.229983Z",
     "start_time": "2025-01-06T13:33:00.300386Z"
    }
   },
   "cell_type": "code",
   "source": [
    "import random\n",
    "import time\n",
    "import numpy as np\n",
    "a = []\n",
    "for i in range(100000000):\n",
    "    a.append(random.random())\n",
    "\n",
    "t1 = time.time()\n",
    "sum1 = sum(a)\n",
    "t2 = time.time()\n",
    "\n",
    "b = np.array(a)\n",
    "t4 = time.time()\n",
    "sum3 = np.sum(b)\n",
    "t5 = time.time()\n",
    "print(t2 - t1, t5 - t4)"
   ],
   "id": "initial_id",
   "outputs": [
    {
     "name": "stdout",
     "output_type": "stream",
     "text": [
      "1.492516040802002 0.16065216064453125\n"
     ]
    }
   ],
   "execution_count": 1
  },
  {
   "metadata": {},
   "cell_type": "markdown",
   "source": " # numpy的nd array对象",
   "id": "f4367427e7745102"
  },
  {
   "metadata": {
    "ExecuteTime": {
     "end_time": "2025-01-06T13:39:17.067445Z",
     "start_time": "2025-01-06T13:39:17.063673Z"
    }
   },
   "cell_type": "code",
   "source": [
    "import numpy\n",
    "list1 = [1,2,3,4]\n",
    "oneArray = numpy.array(list1)\n",
    "print(type(oneArray))\n",
    "print(oneArray)\n",
    "\n",
    "# np创建数组\n",
    "    #1\n",
    "t1 = numpy.array([1,2,3])\n",
    "print(t1)\n",
    "print(type(t1))\n",
    "\n",
    "    #2\n",
    "t2 = np.array(range(10))\n",
    "print(t2)\n",
    "\n",
    "    #3 np里的range\n",
    "t3 = numpy.arange(0,10,2)\n",
    "print(t3)\n"
   ],
   "id": "45e1b2f92ccbfd11",
   "outputs": [
    {
     "name": "stdout",
     "output_type": "stream",
     "text": [
      "<class 'numpy.ndarray'>\n",
      "[1 2 3 4]\n",
      "[1 2 3]\n",
      "<class 'numpy.ndarray'>\n",
      "[0 1 2 3 4 5 6 7 8 9]\n",
      "[0 2 4 6 8]\n"
     ]
    }
   ],
   "execution_count": 6
  },
  {
   "metadata": {},
   "cell_type": "markdown",
   "source": "# 创建二维数组",
   "id": "54781b07c7bacc24"
  },
  {
   "metadata": {
    "ExecuteTime": {
     "end_time": "2025-01-06T13:41:19.113277Z",
     "start_time": "2025-01-06T13:41:19.106573Z"
    }
   },
   "cell_type": "code",
   "source": [
    "import numpy\n",
    "list2 = [[1,2],[3,4],[5,6]]\n",
    "twoArray = numpy.array(list2)\n",
    "print(twoArray)"
   ],
   "id": "40564e78fc05fe24",
   "outputs": [
    {
     "name": "stdout",
     "output_type": "stream",
     "text": [
      "[[1 2]\n",
      " [3 4]\n",
      " [5 6]]\n"
     ]
    }
   ],
   "execution_count": 7
  },
  {
   "metadata": {},
   "cell_type": "markdown",
   "source": "# 常用属性",
   "id": "7ae921077cbfbc01"
  },
  {
   "metadata": {
    "ExecuteTime": {
     "end_time": "2025-01-06T13:43:11.375194Z",
     "start_time": "2025-01-06T13:43:11.370917Z"
    }
   },
   "cell_type": "code",
   "source": [
    "list2 = [[1,2],[3,4],[5,6]]\n",
    "twoArray2 = numpy.array(list2)\n",
    "\n",
    "#ndim 获取维度\n",
    "print(twoArray2.ndim)\n",
    "\n",
    "#形状\n",
    "print(twoArray2.shape)\n",
    "\n",
    "#有多少个元素\n",
    "print(twoArray2.size)"
   ],
   "id": "ccdde374312c8359",
   "outputs": [
    {
     "name": "stdout",
     "output_type": "stream",
     "text": [
      "2\n",
      "(3, 2)\n",
      "6\n"
     ]
    }
   ],
   "execution_count": 10
  },
  {
   "metadata": {},
   "cell_type": "markdown",
   "source": "# 调整数组的形状",
   "id": "f09c20a151264028"
  },
  {
   "metadata": {
    "ExecuteTime": {
     "end_time": "2025-01-06T13:55:27.348645Z",
     "start_time": "2025-01-06T13:55:27.339073Z"
    }
   },
   "cell_type": "code",
   "source": [
    "three = numpy.array([[1,2,3],[4,5,6]])\n",
    "# 修改的是原来的数组\n",
    "three.shape = (3,2)\n",
    "\n",
    "#返回一个新数组 reshape传递的参数应为一个（a,b）的元组形式\n",
    "four = three.reshape(3,2)\n",
    "print(f'four = {four}')\n",
    "\n",
    "\n",
    "#两种方式变一维数组  这里一定得是6， 才能变成1x6的矩阵，  \n",
    "# 若是6,1的话 每个元素会变成一个单独的矩阵\n",
    "\n",
    "# F （Fortran风格） 意味着以列的顺序展开，默认是C 以行展开\n",
    "five = four.reshape((6,),order = 'F')\n",
    "six = four.flatten(order = 'F')\n",
    "print(f'five = {five}')\n",
    "print(f'six = {six}')\n",
    "#数组的形状\n",
    "t = numpy.arange(24)\n",
    "print(f't = {t}')\n",
    "print(t.shape)\n",
    "\n",
    "#将t转换为二维\n",
    "\n",
    "t1 = t.reshape((4,6))  # 两个括弧\n",
    "print(f't1 = {t1}')\n",
    "print(t1.shape)"
   ],
   "id": "a4a2db9f662da7f9",
   "outputs": [
    {
     "name": "stdout",
     "output_type": "stream",
     "text": [
      "four = [[1 2]\n",
      " [3 4]\n",
      " [5 6]]\n",
      "five = [1 3 5 2 4 6]\n",
      "six = [1 3 5 2 4 6]\n",
      "t = [ 0  1  2  3  4  5  6  7  8  9 10 11 12 13 14 15 16 17 18 19 20 21 22 23]\n",
      "(24,)\n",
      "t1 = [[ 0  1  2  3  4  5]\n",
      " [ 6  7  8  9 10 11]\n",
      " [12 13 14 15 16 17]\n",
      " [18 19 20 21 22 23]]\n",
      "(4, 6)\n"
     ]
    }
   ],
   "execution_count": 29
  },
  {
   "metadata": {},
   "cell_type": "markdown",
   "source": "# 所以reshape的一个括号和两个括号都可以作为和法参数",
   "id": "50380ad203c445"
  },
  {
   "metadata": {},
   "cell_type": "code",
   "outputs": [
    {
     "name": "stdout",
     "output_type": "stream",
     "text": [
      "t = [ 0  1  2  3  4  5  6  7  8  9 10 11 12 13 14 15 16 17 18 19 20 21 22 23]\n",
      "t.shape = (24,)\n",
      "t1 = [[ 0  1  2  3  4  5]\n",
      " [ 6  7  8  9 10 11]\n",
      " [12 13 14 15 16 17]\n",
      " [18 19 20 21 22 23]]\n",
      "t2 = [[ 0  1  2  3  4  5]\n",
      " [ 6  7  8  9 10 11]\n",
      " [12 13 14 15 16 17]\n",
      " [18 19 20 21 22 23]]\n",
      "t1.shape = (4, 6)\n",
      "t2.shape = (4, 6)\n"
     ]
    }
   ],
   "execution_count": 33,
   "source": [
    "t = numpy.arange(24)\n",
    "print(f't = {t}')\n",
    "print(f't.shape = {t.shape}')\n",
    "t1 = t.reshape((4,6))\n",
    "t2 = t.reshape(4,6)\n",
    "print(f't1 = {t1}')\n",
    "print(f't2 = {t2}')\n",
    "print(f't1.shape = {t1.shape}')\n",
    "print(f't2.shape = {t2.shape}')"
   ],
   "id": "678598ad7d388710"
  },
  {
   "metadata": {},
   "cell_type": "markdown",
   "source": "# 将数组转换为list",
   "id": "4e102fb978fe01e1"
  },
  {
   "metadata": {},
   "cell_type": "code",
   "outputs": [
    {
     "name": "stdout",
     "output_type": "stream",
     "text": [
      "list_a = [9, 12, 77, 26, 38]\n",
      "type of list_a = <class 'list'>)\n"
     ]
    }
   ],
   "execution_count": 34,
   "source": [
    "a = numpy.array([9,12,77,26,38])\n",
    "list_a = a.tolist()\n",
    "print(f'list_a = {list_a}')\n",
    "print(f'type of list_a = {type(list_a)})')"
   ],
   "id": "f7710905c633abe"
  },
  {
   "metadata": {},
   "cell_type": "markdown",
   "source": "# numpy 的数据类型",
   "id": "d0d10511c6a2ca70"
  },
  {
   "metadata": {
    "ExecuteTime": {
     "end_time": "2025-01-06T14:07:59.411202Z",
     "start_time": "2025-01-06T14:07:59.408238Z"
    }
   },
   "cell_type": "code",
   "source": [
    "import random\n",
    "# 返回数组中每个元素的字节单位长度，dtype设置数据类型\n",
    "f = numpy.array([1,2,3,4,5], dtype = numpy.int16)\n",
    "print(f.itemsize) # 1 np.int8(一个字节)\n",
    "\n",
    "# 获取数据类型\n",
    "print(f.dtype)\n",
    "\n",
    "# 调整数据类型\n",
    "f1 = f.astype(numpy.int64)\n",
    "print(f1.dtype)\n",
    "\n",
    "# 拓展随机生成小数\n",
    "# 使用python语法，保留两位\n",
    "print(round(random.random(),2))\n",
    "arr = numpy.array([random.random() for i in range(10)])\n",
    "\n",
    "# 取小数点后两位\n",
    "print(numpy.round(arr,2))"
   ],
   "id": "4d88038b11a1d1e4",
   "outputs": [
    {
     "name": "stdout",
     "output_type": "stream",
     "text": [
      "2\n",
      "int16\n",
      "int64\n",
      "0.3\n",
      "[0.26 0.92 0.02 0.22 0.4  0.94 0.86 0.64 0.36 0.18]\n"
     ]
    }
   ],
   "execution_count": 38
  },
  {
   "metadata": {},
   "cell_type": "markdown",
   "source": [
    "# 数组的计算\n",
    "numpy的广播机制存在，加减乘除的值被广播到所有元素上\n",
    "也就是说numpy数组的加减乘除一个常数，结果是数组中的所有元素进行加减乘除这个常数"
   ],
   "id": "f0e90f48a07942ca"
  },
  {
   "metadata": {
    "ExecuteTime": {
     "end_time": "2025-01-06T14:12:11.908325Z",
     "start_time": "2025-01-06T14:12:11.904266Z"
    }
   },
   "cell_type": "code",
   "source": [
    "\n",
    "t1 = numpy.arange(24).reshape(6,4)\n",
    "print(t1+2)\n",
    "\n",
    "print('-'*50)\n",
    "print(t1*2)\n",
    "print('-'*50)\n",
    "print(t1/2)"
   ],
   "id": "60ce5f5ab8297e17",
   "outputs": [
    {
     "name": "stdout",
     "output_type": "stream",
     "text": [
      "[[ 2  3  4  5]\n",
      " [ 6  7  8  9]\n",
      " [10 11 12 13]\n",
      " [14 15 16 17]\n",
      " [18 19 20 21]\n",
      " [22 23 24 25]]\n",
      "--------------------------------------------------\n",
      "[[ 0  2  4  6]\n",
      " [ 8 10 12 14]\n",
      " [16 18 20 22]\n",
      " [24 26 28 30]\n",
      " [32 34 36 38]\n",
      " [40 42 44 46]]\n",
      "--------------------------------------------------\n",
      "[[ 0.   0.5  1.   1.5]\n",
      " [ 2.   2.5  3.   3.5]\n",
      " [ 4.   4.5  5.   5.5]\n",
      " [ 6.   6.5  7.   7.5]\n",
      " [ 8.   8.5  9.   9.5]\n",
      " [10.  10.5 11.  11.5]]\n"
     ]
    }
   ],
   "execution_count": 42
  },
  {
   "metadata": {},
   "cell_type": "markdown",
   "source": [
    "# 数组之间的操作\n",
    "同种形状的数组对应位置进行计算"
   ],
   "id": "c4494e1861b39631"
  },
  {
   "metadata": {
    "ExecuteTime": {
     "end_time": "2025-01-06T14:15:09.554945Z",
     "start_time": "2025-01-06T14:15:09.551487Z"
    }
   },
   "cell_type": "code",
   "source": [
    "t1 = numpy.arange(24).reshape(6,4)\n",
    "t2 = numpy.arange(100,124).reshape(6,4)\n",
    "print(t1+t2)\n",
    "print('-'*50)\n",
    "print(t1*t2)"
   ],
   "id": "b0fc6fea2f3ee1da",
   "outputs": [
    {
     "name": "stdout",
     "output_type": "stream",
     "text": [
      "[[100 102 104 106]\n",
      " [108 110 112 114]\n",
      " [116 118 120 122]\n",
      " [124 126 128 130]\n",
      " [132 134 136 138]\n",
      " [140 142 144 146]]\n",
      "--------------------------------------------------\n",
      "[[   0  101  204  309]\n",
      " [ 416  525  636  749]\n",
      " [ 864  981 1100 1221]\n",
      " [1344 1469 1596 1725]\n",
      " [1856 1989 2124 2261]\n",
      " [2400 2541 2684 2829]]\n"
     ]
    }
   ],
   "execution_count": 43
  },
  {
   "metadata": {},
   "cell_type": "markdown",
   "source": "不同形状的多维数组不能计算",
   "id": "72ae311268371c12"
  },
  {
   "metadata": {
    "ExecuteTime": {
     "end_time": "2025-01-06T14:16:13.782281Z",
     "start_time": "2025-01-06T14:16:13.764737Z"
    }
   },
   "cell_type": "code",
   "source": [
    "t1 = numpy.arange(24).reshape(4,6)\n",
    "t2 = numpy.arange(18).reshape(3,6)\n",
    "print(t1-t2)\n",
    "# ValueError: operands could not be broadcast together with shapes (4,6) (3,6)"
   ],
   "id": "4fee34c123e94300",
   "outputs": [
    {
     "ename": "ValueError",
     "evalue": "operands could not be broadcast together with shapes (4,6) (3,6) ",
     "output_type": "error",
     "traceback": [
      "\u001B[0;31m---------------------------------------------------------------------------\u001B[0m",
      "\u001B[0;31mValueError\u001B[0m                                Traceback (most recent call last)",
      "Cell \u001B[0;32mIn[44], line 3\u001B[0m\n\u001B[1;32m      1\u001B[0m t1 \u001B[38;5;241m=\u001B[39m numpy\u001B[38;5;241m.\u001B[39marange(\u001B[38;5;241m24\u001B[39m)\u001B[38;5;241m.\u001B[39mreshape(\u001B[38;5;241m4\u001B[39m,\u001B[38;5;241m6\u001B[39m)\n\u001B[1;32m      2\u001B[0m t2 \u001B[38;5;241m=\u001B[39m numpy\u001B[38;5;241m.\u001B[39marange(\u001B[38;5;241m18\u001B[39m)\u001B[38;5;241m.\u001B[39mreshape(\u001B[38;5;241m3\u001B[39m,\u001B[38;5;241m6\u001B[39m)\n\u001B[0;32m----> 3\u001B[0m \u001B[38;5;28mprint\u001B[39m(\u001B[43mt1\u001B[49m\u001B[38;5;241;43m-\u001B[39;49m\u001B[43mt2\u001B[49m)\n",
      "\u001B[0;31mValueError\u001B[0m: operands could not be broadcast together with shapes (4,6) (3,6) "
     ]
    }
   ],
   "execution_count": 44
  },
  {
   "metadata": {},
   "cell_type": "markdown",
   "source": [
    "行数或者列数相同的一维数组和多维数组可以进行计算：\n",
    "\n",
    "行形状相同（会与每一行数组的对应位相操作)"
   ],
   "id": "b2562e03c420bfe5"
  },
  {
   "metadata": {
    "ExecuteTime": {
     "end_time": "2025-01-06T14:18:25.516731Z",
     "start_time": "2025-01-06T14:18:25.512032Z"
    }
   },
   "cell_type": "code",
   "source": [
    "t1 = np.arange(24).reshape((4,6))\n",
    "t2 = np.arange(0,6)\n",
    "print(t1)\n",
    "print(t2)\n",
    "print('-'*50)\n",
    "print(t1-t2)"
   ],
   "id": "a1671111a5cd82b2",
   "outputs": [
    {
     "name": "stdout",
     "output_type": "stream",
     "text": [
      "[[ 0  1  2  3  4  5]\n",
      " [ 6  7  8  9 10 11]\n",
      " [12 13 14 15 16 17]\n",
      " [18 19 20 21 22 23]]\n",
      "[0 1 2 3 4 5]\n",
      "--------------------------------------------------\n",
      "[[ 0  0  0  0  0  0]\n",
      " [ 6  6  6  6  6  6]\n",
      " [12 12 12 12 12 12]\n",
      " [18 18 18 18 18 18]]\n"
     ]
    }
   ],
   "execution_count": 47
  },
  {
   "metadata": {},
   "cell_type": "markdown",
   "source": "列形状相同（会与每一个相同维度的数组的对应位相操作)",
   "id": "451a96340db8afe3"
  },
  {
   "metadata": {
    "ExecuteTime": {
     "end_time": "2025-01-06T14:17:44.353620Z",
     "start_time": "2025-01-06T14:17:44.349860Z"
    }
   },
   "cell_type": "code",
   "source": [
    "t1 = np.arange(24).reshape((4,6))\n",
    "t2 = np.arange(4).reshape((4,1))\n",
    "print(t1-t2)"
   ],
   "id": "e71d24f9962d8615",
   "outputs": [
    {
     "name": "stdout",
     "output_type": "stream",
     "text": [
      "[[ 0  1  2  3  4  5]\n",
      " [ 5  6  7  8  9 10]\n",
      " [10 11 12 13 14 15]\n",
      " [15 16 17 18 19 20]]\n"
     ]
    }
   ],
   "execution_count": 46
  },
  {
   "metadata": {},
   "cell_type": "markdown",
   "source": "# 轴",
   "id": "4893672725b916f2"
  },
  {
   "metadata": {
    "ExecuteTime": {
     "end_time": "2025-01-06T14:19:35.923256Z",
     "start_time": "2025-01-06T14:19:35.870096Z"
    }
   },
   "cell_type": "code",
   "source": [
    "import numpy as np\n",
    "a = np.array([[1,2,3],[4,5,6]])\n",
    "print(np.sum(a,axis=0)) # [5 7 9]\n",
    "print(np.sum(a,axis = 1)) # [ 6 15]\n",
    "print(np.sum(a))\n",
    "a=np.arange(27).reshape((3,3,3))\n",
    "print(a)\n",
    "b=np.sum(a, axis=0)\n",
    "print(\"-\"*20)\n",
    "print(b)\n",
    "c=np.sum(a, axis=1)\n",
    "print(\"-\"*20)\n",
    "print(c)\n",
    "d=np.sum(a, axis=2)\n",
    "print(\"-\"*20)\n",
    "print(d)"
   ],
   "id": "ce796619e3093cd8",
   "outputs": [
    {
     "name": "stdout",
     "output_type": "stream",
     "text": [
      "[5 7 9]\n",
      "[ 6 15]\n",
      "21\n",
      "[[[ 0  1  2]\n",
      "  [ 3  4  5]\n",
      "  [ 6  7  8]]\n",
      "\n",
      " [[ 9 10 11]\n",
      "  [12 13 14]\n",
      "  [15 16 17]]\n",
      "\n",
      " [[18 19 20]\n",
      "  [21 22 23]\n",
      "  [24 25 26]]]\n",
      "--------------------\n",
      "[[27 30 33]\n",
      " [36 39 42]\n",
      " [45 48 51]]\n",
      "--------------------\n",
      "[[ 9 12 15]\n",
      " [36 39 42]\n",
      " [63 66 69]]\n",
      "--------------------\n",
      "[[ 3 12 21]\n",
      " [30 39 48]\n",
      " [57 66 75]]\n"
     ]
    }
   ],
   "execution_count": 48
  },
  {
   "metadata": {},
   "cell_type": "markdown",
   "source": "# 数组的索引与切片",
   "id": "4ef50005c1b31ed9"
  },
  {
   "metadata": {},
   "cell_type": "markdown",
   "source": "一维数组的操作方法",
   "id": "8e4d423ecff27f8b"
  },
  {
   "metadata": {
    "ExecuteTime": {
     "end_time": "2025-01-06T14:24:40.717910Z",
     "start_time": "2025-01-06T14:24:40.713320Z"
    }
   },
   "cell_type": "code",
   "source": [
    "import numpy as np\n",
    "a = np.arange(10)  \n",
    "print(a[2:7:2])# 冒号分割切片参数 start:stop:step 从索引 2 开始到索引 7 停止，间隔为 2\n",
    "# 如果只放置一个参数，如 [2]，将返回与该索引相对应的单个元素\n",
    "print(a[2],a)\n",
    "# 如果为 [2:]，表示从该索引开始以后的所有项都将被提取\n",
    "print(a[2:])"
   ],
   "id": "1f4ecda4b6106a2e",
   "outputs": [
    {
     "name": "stdout",
     "output_type": "stream",
     "text": [
      "[2 4 6]\n",
      "2 [0 1 2 3 4 5 6 7 8 9]\n",
      "[2 3 4 5 6 7 8 9]\n"
     ]
    }
   ],
   "execution_count": 49
  },
  {
   "metadata": {
    "ExecuteTime": {
     "end_time": "2025-01-06T14:25:00.069019Z",
     "start_time": "2025-01-06T14:25:00.065750Z"
    }
   },
   "cell_type": "code",
   "source": [
    "import numpy as np\n",
    "t1 = np.arange(24).reshape(4,6)\n",
    "print(t1)\n",
    "print('*'*20)\n",
    "print(t1[1]) # 取一行(一行代表是一条数据，索引也是从0开始的) print(t1[1,:]) # 取一行\n",
    "print('*'*20)\n",
    "print(t1[1:])# 取连续的多行\n",
    "print('*'*20)\n",
    "print(t1[1:3,:])# 取连续的多行\n",
    "print('*'*20)\n",
    "print(t1[[0,2,3]])# 取不连续的多行\n",
    "print('*'*20)\n",
    "print(t1[[0,2,3],:])# 取不连续的多行\n",
    "print('*'*20)\n",
    "print(t1[:,1])# 取一列\n",
    "print('*'*20)\n",
    "print(t1[:,1:])# 连续的多列\n",
    "print('*'*20)\n",
    "print(t1[:,[0,2,3]])# 取不连续的多列\n",
    "print('*'*20)\n",
    "print(t1[2,3])# # 取某一个值,三行四列\n",
    "print('*'*20)"
   ],
   "id": "5797787c9d80d36f",
   "outputs": [
    {
     "name": "stdout",
     "output_type": "stream",
     "text": [
      "[[ 0  1  2  3  4  5]\n",
      " [ 6  7  8  9 10 11]\n",
      " [12 13 14 15 16 17]\n",
      " [18 19 20 21 22 23]]\n",
      "********************\n",
      "[ 6  7  8  9 10 11]\n",
      "********************\n",
      "[[ 6  7  8  9 10 11]\n",
      " [12 13 14 15 16 17]\n",
      " [18 19 20 21 22 23]]\n",
      "********************\n",
      "[[ 6  7  8  9 10 11]\n",
      " [12 13 14 15 16 17]]\n",
      "********************\n",
      "[[ 0  1  2  3  4  5]\n",
      " [12 13 14 15 16 17]\n",
      " [18 19 20 21 22 23]]\n",
      "********************\n",
      "[[ 0  1  2  3  4  5]\n",
      " [12 13 14 15 16 17]\n",
      " [18 19 20 21 22 23]]\n",
      "********************\n",
      "[ 1  7 13 19]\n",
      "********************\n",
      "[[ 1  2  3  4  5]\n",
      " [ 7  8  9 10 11]\n",
      " [13 14 15 16 17]\n",
      " [19 20 21 22 23]]\n",
      "********************\n",
      "[[ 0  2  3]\n",
      " [ 6  8  9]\n",
      " [12 14 15]\n",
      " [18 20 21]]\n",
      "********************\n",
      "15\n",
      "********************\n"
     ]
    }
   ],
   "execution_count": 50
  },
  {
   "metadata": {},
   "cell_type": "markdown",
   "source": "# 数组中数值的修改",
   "id": "8f77b1d224bd60f5"
  },
  {
   "metadata": {
    "ExecuteTime": {
     "end_time": "2025-01-06T14:26:23.975232Z",
     "start_time": "2025-01-06T14:26:23.969353Z"
    }
   },
   "cell_type": "code",
   "source": [
    "import numpy as np\n",
    "t = np.arange( 24 ).reshape( 4, 6 )\n",
    "# # 修改某一行的值\n",
    "t[1, :] = 0\n",
    "#\n",
    "# # 修改某一列的值\n",
    "t[:, 1] = 0\n",
    "# # 修改连续多行\n",
    "t[1:3, :] = 0\n",
    "#\n",
    "# # 修改连续多列\n",
    "t[:, 1:4] = 0\n",
    "#\n",
    "# # 修改多行多列，取第二行到第四行，第三列到第五列\n",
    "# t[1:4,2:5]=0\n",
    "#\n",
    "# # 修改多个不相邻的点\n",
    "# t[[0,1],[0,3]]=0\n",
    "# print(t)\n",
    "# 可以根据条件修改，比如讲小于 10 的值改掉\n",
    "t[t < 10] = 0\n",
    "# print(t)\n",
    "# 使用逻辑判断\n",
    "# np.logical_and & # np.logical_or |\n",
    "# np.logical_not ~\n",
    "t[(t > 2) & (t < 6)] = 0 # 与\n",
    "t[(t < 2) | (t > 6)] = 0 # 或\n",
    "t[~(t > 6)] = 0 # 非\n",
    "# print(t)\n",
    "t=t.clip(10,18)\n",
    "print(t)\n",
    "# # 拓 展\n",
    "# # 三目运算（ np.where(condition, x, y)满足条件(condition)，输出 x，不满足输出y。)）\n",
    "score = np.array( [[80, 88], [82, 81], [75, 81]] )\n",
    "result = np.where( score > 80, True, False )\n",
    "print( result )"
   ],
   "id": "bd7eca9110ef1412",
   "outputs": [
    {
     "name": "stdout",
     "output_type": "stream",
     "text": [
      "[[10 10 10 10 10 10]\n",
      " [10 10 10 10 10 10]\n",
      " [10 10 10 10 10 10]\n",
      " [10 10 10 10 10 10]]\n",
      "[[False  True]\n",
      " [ True  True]\n",
      " [False  True]]\n"
     ]
    }
   ],
   "execution_count": 51
  }
 ],
 "metadata": {
  "kernelspec": {
   "display_name": "Python 3",
   "language": "python",
   "name": "python3"
  },
  "language_info": {
   "codemirror_mode": {
    "name": "ipython",
    "version": 2
   },
   "file_extension": ".py",
   "mimetype": "text/x-python",
   "name": "python",
   "nbconvert_exporter": "python",
   "pygments_lexer": "ipython2",
   "version": "2.7.6"
  }
 },
 "nbformat": 4,
 "nbformat_minor": 5
}
