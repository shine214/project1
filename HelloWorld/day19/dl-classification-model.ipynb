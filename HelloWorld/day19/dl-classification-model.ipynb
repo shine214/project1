{
 "cells": [
  {
   "cell_type": "code",
   "id": "initial_id",
   "metadata": {
    "collapsed": true,
    "ExecuteTime": {
     "end_time": "2025-02-03T07:55:07.899344Z",
     "start_time": "2025-02-03T07:55:00.797631Z"
    }
   },
   "source": [
    "import matplotlib as mpl\n",
    "import matplotlib.pyplot as plt\n",
    "%matplotlib inline\n",
    "import numpy as np\n",
    "import sklearn\n",
    "import pandas as pd\n",
    "import os\n",
    "import sys\n",
    "import time\n",
    "from tqdm.auto import tqdm\n",
    "import torch\n",
    "import torch.nn as nn\n",
    "import torch.nn.functional as F\n",
    "\n",
    "print(sys.version_info)\n",
    "for module in mpl, np, pd, sklearn, torch:\n",
    "    print(module.__name__, module.__version__)\n",
    "\n",
    "# m1芯片要用mps，NVIDIA 用cuda:0  0 表示第一个GPU 也可以是1、2、3、4\n",
    "device = torch.device(\"mps\") if torch.backends.mps.is_available() else torch.device(\"cpu\")\n",
    "\n",
    "print(device)\n"
   ],
   "outputs": [
    {
     "name": "stdout",
     "output_type": "stream",
     "text": [
      "sys.version_info(major=3, minor=12, micro=3, releaselevel='final', serial=0)\n",
      "matplotlib 3.10.0\n",
      "numpy 2.2.1\n",
      "pandas 2.2.3\n",
      "sklearn 1.6.0\n",
      "torch 2.6.0\n",
      "mps\n"
     ]
    }
   ],
   "execution_count": 1
  },
  {
   "metadata": {},
   "cell_type": "markdown",
   "source": "## 数据准备\n",
   "id": "b87a1a6b5c7ced68"
  },
  {
   "metadata": {
    "ExecuteTime": {
     "end_time": "2025-02-03T11:02:05.573543Z",
     "start_time": "2025-02-03T11:02:05.551193Z"
    }
   },
   "cell_type": "code",
   "source": [
    "# 首先导入数据处理的库， 一个是数据集、一个是处理数据的工具集\n",
    "from torchvision import datasets,transforms\n",
    "\n",
    "# 定义一个数据集的变化过程，说白了就是封装对数据集的操作，后续方便处理\n",
    "\n",
    "transform = transforms.Compose([\n",
    "    transforms.ToTensor(), # 转化为tensor，进行归一化\n",
    "    # transforms.Normalize(mean,std) # 标准化\n",
    "])\n",
    "# fashion_mnist图像分类数据集，衣服分类，60000张训练图片，10000张测试图片\n",
    "train_ds = datasets.FashionMNIST(\n",
    "    root=\"data\",\n",
    "    train=True,\n",
    "    download=True,\n",
    "    transform=transform\n",
    ")\n",
    "\n",
    "test_ds = datasets.FashionMNIST(\n",
    "    root=\"data\",\n",
    "    train=False,\n",
    "    download=True,\n",
    "    transform=transform\n",
    ")\n"
   ],
   "id": "66dae125232a6dbf",
   "outputs": [],
   "execution_count": 17
  },
  {
   "metadata": {
    "ExecuteTime": {
     "end_time": "2025-02-03T08:58:13.551876Z",
     "start_time": "2025-02-03T08:58:13.537514Z"
    }
   },
   "cell_type": "code",
   "source": "train_ds[0]",
   "id": "f972332eeebf50c5",
   "outputs": [
    {
     "data": {
      "text/plain": [
       "(tensor([[[0.0000, 0.0000, 0.0000, 0.0000, 0.0000, 0.0000, 0.0000, 0.0000,\n",
       "           0.0000, 0.0000, 0.0000, 0.0000, 0.0000, 0.0000, 0.0000, 0.0000,\n",
       "           0.0000, 0.0000, 0.0000, 0.0000, 0.0000, 0.0000, 0.0000, 0.0000,\n",
       "           0.0000, 0.0000, 0.0000, 0.0000],\n",
       "          [0.0000, 0.0000, 0.0000, 0.0000, 0.0000, 0.0000, 0.0000, 0.0000,\n",
       "           0.0000, 0.0000, 0.0000, 0.0000, 0.0000, 0.0000, 0.0000, 0.0000,\n",
       "           0.0000, 0.0000, 0.0000, 0.0000, 0.0000, 0.0000, 0.0000, 0.0000,\n",
       "           0.0000, 0.0000, 0.0000, 0.0000],\n",
       "          [0.0000, 0.0000, 0.0000, 0.0000, 0.0000, 0.0000, 0.0000, 0.0000,\n",
       "           0.0000, 0.0000, 0.0000, 0.0000, 0.0000, 0.0000, 0.0000, 0.0000,\n",
       "           0.0000, 0.0000, 0.0000, 0.0000, 0.0000, 0.0000, 0.0000, 0.0000,\n",
       "           0.0000, 0.0000, 0.0000, 0.0000],\n",
       "          [0.0000, 0.0000, 0.0000, 0.0000, 0.0000, 0.0000, 0.0000, 0.0000,\n",
       "           0.0000, 0.0000, 0.0000, 0.0000, 0.0039, 0.0000, 0.0000, 0.0510,\n",
       "           0.2863, 0.0000, 0.0000, 0.0039, 0.0157, 0.0000, 0.0000, 0.0000,\n",
       "           0.0000, 0.0039, 0.0039, 0.0000],\n",
       "          [0.0000, 0.0000, 0.0000, 0.0000, 0.0000, 0.0000, 0.0000, 0.0000,\n",
       "           0.0000, 0.0000, 0.0000, 0.0000, 0.0118, 0.0000, 0.1412, 0.5333,\n",
       "           0.4980, 0.2431, 0.2118, 0.0000, 0.0000, 0.0000, 0.0039, 0.0118,\n",
       "           0.0157, 0.0000, 0.0000, 0.0118],\n",
       "          [0.0000, 0.0000, 0.0000, 0.0000, 0.0000, 0.0000, 0.0000, 0.0000,\n",
       "           0.0000, 0.0000, 0.0000, 0.0000, 0.0235, 0.0000, 0.4000, 0.8000,\n",
       "           0.6902, 0.5255, 0.5647, 0.4824, 0.0902, 0.0000, 0.0000, 0.0000,\n",
       "           0.0000, 0.0471, 0.0392, 0.0000],\n",
       "          [0.0000, 0.0000, 0.0000, 0.0000, 0.0000, 0.0000, 0.0000, 0.0000,\n",
       "           0.0000, 0.0000, 0.0000, 0.0000, 0.0000, 0.0000, 0.6078, 0.9255,\n",
       "           0.8118, 0.6980, 0.4196, 0.6118, 0.6314, 0.4275, 0.2510, 0.0902,\n",
       "           0.3020, 0.5098, 0.2824, 0.0588],\n",
       "          [0.0000, 0.0000, 0.0000, 0.0000, 0.0000, 0.0000, 0.0000, 0.0000,\n",
       "           0.0000, 0.0000, 0.0000, 0.0039, 0.0000, 0.2706, 0.8118, 0.8745,\n",
       "           0.8549, 0.8471, 0.8471, 0.6392, 0.4980, 0.4745, 0.4784, 0.5725,\n",
       "           0.5529, 0.3451, 0.6745, 0.2588],\n",
       "          [0.0000, 0.0000, 0.0000, 0.0000, 0.0000, 0.0000, 0.0000, 0.0000,\n",
       "           0.0000, 0.0039, 0.0039, 0.0039, 0.0000, 0.7843, 0.9098, 0.9098,\n",
       "           0.9137, 0.8980, 0.8745, 0.8745, 0.8431, 0.8353, 0.6431, 0.4980,\n",
       "           0.4824, 0.7686, 0.8980, 0.0000],\n",
       "          [0.0000, 0.0000, 0.0000, 0.0000, 0.0000, 0.0000, 0.0000, 0.0000,\n",
       "           0.0000, 0.0000, 0.0000, 0.0000, 0.0000, 0.7176, 0.8824, 0.8471,\n",
       "           0.8745, 0.8941, 0.9216, 0.8902, 0.8784, 0.8706, 0.8784, 0.8667,\n",
       "           0.8745, 0.9608, 0.6784, 0.0000],\n",
       "          [0.0000, 0.0000, 0.0000, 0.0000, 0.0000, 0.0000, 0.0000, 0.0000,\n",
       "           0.0000, 0.0000, 0.0000, 0.0000, 0.0000, 0.7569, 0.8941, 0.8549,\n",
       "           0.8353, 0.7765, 0.7059, 0.8314, 0.8235, 0.8275, 0.8353, 0.8745,\n",
       "           0.8627, 0.9529, 0.7922, 0.0000],\n",
       "          [0.0000, 0.0000, 0.0000, 0.0000, 0.0000, 0.0000, 0.0000, 0.0000,\n",
       "           0.0000, 0.0039, 0.0118, 0.0000, 0.0471, 0.8588, 0.8627, 0.8314,\n",
       "           0.8549, 0.7529, 0.6627, 0.8902, 0.8157, 0.8549, 0.8784, 0.8314,\n",
       "           0.8863, 0.7725, 0.8196, 0.2039],\n",
       "          [0.0000, 0.0000, 0.0000, 0.0000, 0.0000, 0.0000, 0.0000, 0.0000,\n",
       "           0.0000, 0.0000, 0.0235, 0.0000, 0.3882, 0.9569, 0.8706, 0.8627,\n",
       "           0.8549, 0.7961, 0.7765, 0.8667, 0.8431, 0.8353, 0.8706, 0.8627,\n",
       "           0.9608, 0.4667, 0.6549, 0.2196],\n",
       "          [0.0000, 0.0000, 0.0000, 0.0000, 0.0000, 0.0000, 0.0000, 0.0000,\n",
       "           0.0000, 0.0157, 0.0000, 0.0000, 0.2157, 0.9255, 0.8941, 0.9020,\n",
       "           0.8941, 0.9412, 0.9098, 0.8353, 0.8549, 0.8745, 0.9176, 0.8510,\n",
       "           0.8510, 0.8196, 0.3608, 0.0000],\n",
       "          [0.0000, 0.0000, 0.0039, 0.0157, 0.0235, 0.0275, 0.0078, 0.0000,\n",
       "           0.0000, 0.0000, 0.0000, 0.0000, 0.9294, 0.8863, 0.8510, 0.8745,\n",
       "           0.8706, 0.8588, 0.8706, 0.8667, 0.8471, 0.8745, 0.8980, 0.8431,\n",
       "           0.8549, 1.0000, 0.3020, 0.0000],\n",
       "          [0.0000, 0.0118, 0.0000, 0.0000, 0.0000, 0.0000, 0.0000, 0.0000,\n",
       "           0.0000, 0.2431, 0.5686, 0.8000, 0.8941, 0.8118, 0.8353, 0.8667,\n",
       "           0.8549, 0.8157, 0.8275, 0.8549, 0.8784, 0.8745, 0.8588, 0.8431,\n",
       "           0.8784, 0.9569, 0.6235, 0.0000],\n",
       "          [0.0000, 0.0000, 0.0000, 0.0000, 0.0706, 0.1725, 0.3216, 0.4196,\n",
       "           0.7412, 0.8941, 0.8627, 0.8706, 0.8510, 0.8863, 0.7843, 0.8039,\n",
       "           0.8275, 0.9020, 0.8784, 0.9176, 0.6902, 0.7373, 0.9804, 0.9725,\n",
       "           0.9137, 0.9333, 0.8431, 0.0000],\n",
       "          [0.0000, 0.2235, 0.7333, 0.8157, 0.8784, 0.8667, 0.8784, 0.8157,\n",
       "           0.8000, 0.8392, 0.8157, 0.8196, 0.7843, 0.6235, 0.9608, 0.7569,\n",
       "           0.8078, 0.8745, 1.0000, 1.0000, 0.8667, 0.9176, 0.8667, 0.8275,\n",
       "           0.8627, 0.9098, 0.9647, 0.0000],\n",
       "          [0.0118, 0.7922, 0.8941, 0.8784, 0.8667, 0.8275, 0.8275, 0.8392,\n",
       "           0.8039, 0.8039, 0.8039, 0.8627, 0.9412, 0.3137, 0.5882, 1.0000,\n",
       "           0.8980, 0.8667, 0.7373, 0.6039, 0.7490, 0.8235, 0.8000, 0.8196,\n",
       "           0.8706, 0.8941, 0.8824, 0.0000],\n",
       "          [0.3843, 0.9137, 0.7765, 0.8235, 0.8706, 0.8980, 0.8980, 0.9176,\n",
       "           0.9765, 0.8627, 0.7608, 0.8431, 0.8510, 0.9451, 0.2549, 0.2863,\n",
       "           0.4157, 0.4588, 0.6588, 0.8588, 0.8667, 0.8431, 0.8510, 0.8745,\n",
       "           0.8745, 0.8784, 0.8980, 0.1137],\n",
       "          [0.2941, 0.8000, 0.8314, 0.8000, 0.7569, 0.8039, 0.8275, 0.8824,\n",
       "           0.8471, 0.7255, 0.7725, 0.8078, 0.7765, 0.8353, 0.9412, 0.7647,\n",
       "           0.8902, 0.9608, 0.9373, 0.8745, 0.8549, 0.8314, 0.8196, 0.8706,\n",
       "           0.8627, 0.8667, 0.9020, 0.2627],\n",
       "          [0.1882, 0.7961, 0.7176, 0.7608, 0.8353, 0.7725, 0.7255, 0.7451,\n",
       "           0.7608, 0.7529, 0.7922, 0.8392, 0.8588, 0.8667, 0.8627, 0.9255,\n",
       "           0.8824, 0.8471, 0.7804, 0.8078, 0.7294, 0.7098, 0.6941, 0.6745,\n",
       "           0.7098, 0.8039, 0.8078, 0.4510],\n",
       "          [0.0000, 0.4784, 0.8588, 0.7569, 0.7020, 0.6706, 0.7176, 0.7686,\n",
       "           0.8000, 0.8235, 0.8353, 0.8118, 0.8275, 0.8235, 0.7843, 0.7686,\n",
       "           0.7608, 0.7490, 0.7647, 0.7490, 0.7765, 0.7529, 0.6902, 0.6118,\n",
       "           0.6549, 0.6941, 0.8235, 0.3608],\n",
       "          [0.0000, 0.0000, 0.2902, 0.7412, 0.8314, 0.7490, 0.6863, 0.6745,\n",
       "           0.6863, 0.7098, 0.7255, 0.7373, 0.7412, 0.7373, 0.7569, 0.7765,\n",
       "           0.8000, 0.8196, 0.8235, 0.8235, 0.8275, 0.7373, 0.7373, 0.7608,\n",
       "           0.7529, 0.8471, 0.6667, 0.0000],\n",
       "          [0.0078, 0.0000, 0.0000, 0.0000, 0.2588, 0.7843, 0.8706, 0.9294,\n",
       "           0.9373, 0.9490, 0.9647, 0.9529, 0.9569, 0.8667, 0.8627, 0.7569,\n",
       "           0.7490, 0.7020, 0.7137, 0.7137, 0.7098, 0.6902, 0.6510, 0.6588,\n",
       "           0.3882, 0.2275, 0.0000, 0.0000],\n",
       "          [0.0000, 0.0000, 0.0000, 0.0000, 0.0000, 0.0000, 0.0000, 0.1569,\n",
       "           0.2392, 0.1725, 0.2824, 0.1608, 0.1373, 0.0000, 0.0000, 0.0000,\n",
       "           0.0000, 0.0000, 0.0000, 0.0000, 0.0000, 0.0000, 0.0000, 0.0000,\n",
       "           0.0000, 0.0000, 0.0000, 0.0000],\n",
       "          [0.0000, 0.0000, 0.0000, 0.0000, 0.0000, 0.0000, 0.0000, 0.0000,\n",
       "           0.0000, 0.0000, 0.0000, 0.0000, 0.0000, 0.0000, 0.0000, 0.0000,\n",
       "           0.0000, 0.0000, 0.0000, 0.0000, 0.0000, 0.0000, 0.0000, 0.0000,\n",
       "           0.0000, 0.0000, 0.0000, 0.0000],\n",
       "          [0.0000, 0.0000, 0.0000, 0.0000, 0.0000, 0.0000, 0.0000, 0.0000,\n",
       "           0.0000, 0.0000, 0.0000, 0.0000, 0.0000, 0.0000, 0.0000, 0.0000,\n",
       "           0.0000, 0.0000, 0.0000, 0.0000, 0.0000, 0.0000, 0.0000, 0.0000,\n",
       "           0.0000, 0.0000, 0.0000, 0.0000]]]),\n",
       " 9)"
      ]
     },
     "execution_count": 3,
     "metadata": {},
     "output_type": "execute_result"
    }
   ],
   "execution_count": 3
  },
  {
   "metadata": {
    "ExecuteTime": {
     "end_time": "2025-02-03T11:00:57.192892Z",
     "start_time": "2025-02-03T11:00:57.176301Z"
    }
   },
   "cell_type": "code",
   "source": [
    "# 查看train_ds 的每一个数据就发现特征和标签和在一起的，于是将他们分开\n",
    "img,label = train_ds[0]\n",
    "img.shape\n"
   ],
   "id": "87b8b5064637f65b",
   "outputs": [
    {
     "ename": "AttributeError",
     "evalue": "'Image' object has no attribute 'shape'",
     "output_type": "error",
     "traceback": [
      "\u001B[0;31m---------------------------------------------------------------------------\u001B[0m",
      "\u001B[0;31mAttributeError\u001B[0m                            Traceback (most recent call last)",
      "Cell \u001B[0;32mIn[13], line 3\u001B[0m\n\u001B[1;32m      1\u001B[0m \u001B[38;5;66;03m# 查看train_ds 的每一个数据就发现特征和标签和在一起的，于是将他们分开\u001B[39;00m\n\u001B[1;32m      2\u001B[0m img,label \u001B[38;5;241m=\u001B[39m train_ds[\u001B[38;5;241m0\u001B[39m]\n\u001B[0;32m----> 3\u001B[0m \u001B[43mimg\u001B[49m\u001B[38;5;241;43m.\u001B[39;49m\u001B[43mshape\u001B[49m\n",
      "\u001B[0;31mAttributeError\u001B[0m: 'Image' object has no attribute 'shape'"
     ]
    }
   ],
   "execution_count": 13
  },
  {
   "metadata": {},
   "cell_type": "markdown",
   "source": "手动计算均值和方差",
   "id": "fd462deafc06a9ff"
  },
  {
   "metadata": {},
   "cell_type": "code",
   "outputs": [],
   "execution_count": null,
   "source": [
    "#计算均值和方差\n",
    "def cal_mean_std(ds):\n",
    "    mean = 0.\n",
    "    std = 0.\n",
    "    for img, _ in ds: # 遍历每张图片,img.shape=[1,28,28]\n",
    "        mean += img.mean(dim=(1, 2))\n",
    "        std += img.std(dim=(1, 2))\n",
    "    mean /= len(ds)\n",
    "    std /= len(ds)\n",
    "    return mean, std\n",
    "\n",
    "\n",
    "print(cal_mean_std(train_ds))"
   ],
   "id": "2e0070ba7f771019"
  },
  {
   "metadata": {},
   "cell_type": "markdown",
   "source": "生成图像",
   "id": "77cbb3403dde8e06"
  },
  {
   "metadata": {
    "ExecuteTime": {
     "end_time": "2025-02-03T11:01:00.775591Z",
     "start_time": "2025-02-03T11:01:00.771064Z"
    }
   },
   "cell_type": "code",
   "source": [
    "# 显示图片，这里需要把transforms.ToTensor(),进行归一化注释掉，否则是不行的\n",
    "def show_img_content(img):\n",
    "    from PIL import Image\n",
    "\n",
    "    # 打开一个图像文件\n",
    "    # img = Image.open(img)\n",
    "\n",
    "\n",
    "    print(\"图像大小:\", img.size)\n",
    "    print(\"图像模式:\", img.mode)\n",
    "\n",
    "\n",
    "    # 如果图像是单通道的，比如灰度图，你可以这样获取像素值列表：\n",
    "    if img.mode == 'L':\n",
    "        pixel_values = list(img.getdata())\n",
    "        print(pixel_values)\n",
    "show_img_content(img) #这里必须把上面的 transforms.ToTensor(), # 转换为tensor，进行归一化注释掉，否则是不行的"
   ],
   "id": "8fed817cee82fc01",
   "outputs": [
    {
     "name": "stdout",
     "output_type": "stream",
     "text": [
      "图像大小: (28, 28)\n",
      "图像模式: L\n",
      "[0, 0, 0, 0, 0, 0, 0, 0, 0, 0, 0, 0, 0, 0, 0, 0, 0, 0, 0, 0, 0, 0, 0, 0, 0, 0, 0, 0, 0, 0, 0, 0, 0, 0, 0, 0, 0, 0, 0, 0, 0, 0, 0, 0, 0, 0, 0, 0, 0, 0, 0, 0, 0, 0, 0, 0, 0, 0, 0, 0, 0, 0, 0, 0, 0, 0, 0, 0, 0, 0, 0, 0, 0, 0, 0, 0, 0, 0, 0, 0, 0, 0, 0, 0, 0, 0, 0, 0, 0, 0, 0, 0, 0, 0, 0, 0, 1, 0, 0, 13, 73, 0, 0, 1, 4, 0, 0, 0, 0, 1, 1, 0, 0, 0, 0, 0, 0, 0, 0, 0, 0, 0, 0, 0, 3, 0, 36, 136, 127, 62, 54, 0, 0, 0, 1, 3, 4, 0, 0, 3, 0, 0, 0, 0, 0, 0, 0, 0, 0, 0, 0, 0, 6, 0, 102, 204, 176, 134, 144, 123, 23, 0, 0, 0, 0, 12, 10, 0, 0, 0, 0, 0, 0, 0, 0, 0, 0, 0, 0, 0, 0, 0, 155, 236, 207, 178, 107, 156, 161, 109, 64, 23, 77, 130, 72, 15, 0, 0, 0, 0, 0, 0, 0, 0, 0, 0, 0, 1, 0, 69, 207, 223, 218, 216, 216, 163, 127, 121, 122, 146, 141, 88, 172, 66, 0, 0, 0, 0, 0, 0, 0, 0, 0, 1, 1, 1, 0, 200, 232, 232, 233, 229, 223, 223, 215, 213, 164, 127, 123, 196, 229, 0, 0, 0, 0, 0, 0, 0, 0, 0, 0, 0, 0, 0, 0, 183, 225, 216, 223, 228, 235, 227, 224, 222, 224, 221, 223, 245, 173, 0, 0, 0, 0, 0, 0, 0, 0, 0, 0, 0, 0, 0, 0, 193, 228, 218, 213, 198, 180, 212, 210, 211, 213, 223, 220, 243, 202, 0, 0, 0, 0, 0, 0, 0, 0, 0, 0, 1, 3, 0, 12, 219, 220, 212, 218, 192, 169, 227, 208, 218, 224, 212, 226, 197, 209, 52, 0, 0, 0, 0, 0, 0, 0, 0, 0, 0, 6, 0, 99, 244, 222, 220, 218, 203, 198, 221, 215, 213, 222, 220, 245, 119, 167, 56, 0, 0, 0, 0, 0, 0, 0, 0, 0, 4, 0, 0, 55, 236, 228, 230, 228, 240, 232, 213, 218, 223, 234, 217, 217, 209, 92, 0, 0, 0, 1, 4, 6, 7, 2, 0, 0, 0, 0, 0, 237, 226, 217, 223, 222, 219, 222, 221, 216, 223, 229, 215, 218, 255, 77, 0, 0, 3, 0, 0, 0, 0, 0, 0, 0, 62, 145, 204, 228, 207, 213, 221, 218, 208, 211, 218, 224, 223, 219, 215, 224, 244, 159, 0, 0, 0, 0, 0, 18, 44, 82, 107, 189, 228, 220, 222, 217, 226, 200, 205, 211, 230, 224, 234, 176, 188, 250, 248, 233, 238, 215, 0, 0, 57, 187, 208, 224, 221, 224, 208, 204, 214, 208, 209, 200, 159, 245, 193, 206, 223, 255, 255, 221, 234, 221, 211, 220, 232, 246, 0, 3, 202, 228, 224, 221, 211, 211, 214, 205, 205, 205, 220, 240, 80, 150, 255, 229, 221, 188, 154, 191, 210, 204, 209, 222, 228, 225, 0, 98, 233, 198, 210, 222, 229, 229, 234, 249, 220, 194, 215, 217, 241, 65, 73, 106, 117, 168, 219, 221, 215, 217, 223, 223, 224, 229, 29, 75, 204, 212, 204, 193, 205, 211, 225, 216, 185, 197, 206, 198, 213, 240, 195, 227, 245, 239, 223, 218, 212, 209, 222, 220, 221, 230, 67, 48, 203, 183, 194, 213, 197, 185, 190, 194, 192, 202, 214, 219, 221, 220, 236, 225, 216, 199, 206, 186, 181, 177, 172, 181, 205, 206, 115, 0, 122, 219, 193, 179, 171, 183, 196, 204, 210, 213, 207, 211, 210, 200, 196, 194, 191, 195, 191, 198, 192, 176, 156, 167, 177, 210, 92, 0, 0, 74, 189, 212, 191, 175, 172, 175, 181, 185, 188, 189, 188, 193, 198, 204, 209, 210, 210, 211, 188, 188, 194, 192, 216, 170, 0, 2, 0, 0, 0, 66, 200, 222, 237, 239, 242, 246, 243, 244, 221, 220, 193, 191, 179, 182, 182, 181, 176, 166, 168, 99, 58, 0, 0, 0, 0, 0, 0, 0, 0, 0, 40, 61, 44, 72, 41, 35, 0, 0, 0, 0, 0, 0, 0, 0, 0, 0, 0, 0, 0, 0, 0, 0, 0, 0, 0, 0, 0, 0, 0, 0, 0, 0, 0, 0, 0, 0, 0, 0, 0, 0, 0, 0, 0, 0, 0, 0, 0, 0, 0, 0, 0, 0, 0, 0, 0, 0, 0, 0, 0, 0, 0, 0, 0, 0, 0, 0, 0, 0, 0, 0, 0, 0, 0, 0, 0, 0, 0]\n"
     ]
    }
   ],
   "execution_count": 14
  },
  {
   "metadata": {
    "ExecuteTime": {
     "end_time": "2025-02-03T11:01:02.934128Z",
     "start_time": "2025-02-03T11:01:02.746436Z"
    }
   },
   "cell_type": "code",
   "source": [
    "#这个代码必须是注释了上面的 transforms.ToTensor()才能够运行的\n",
    "def show_single_image(img_arr):\n",
    "    plt.imshow(img_arr, cmap=\"binary\") # 显示图片\n",
    "    plt.colorbar() # 显示颜色条\n",
    "    plt.show()\n",
    "\n",
    "\n",
    "show_single_image(img)"
   ],
   "id": "5297ed89a6e192c9",
   "outputs": [
    {
     "data": {
      "text/plain": [
       "<Figure size 640x480 with 2 Axes>"
      ],
      "image/png": "[encoded data removed]"
     },
     "metadata": {},
     "output_type": "display_data"
    }
   ],
   "execution_count": 15
  },
  {
   "metadata": {},
   "cell_type": "markdown",
   "source": "展示图片群",
   "id": "63a190bcd931bbea"
  },
  {
   "metadata": {
    "ExecuteTime": {
     "end_time": "2025-02-03T11:03:11.374922Z",
     "start_time": "2025-02-03T11:03:11.118252Z"
    }
   },
   "cell_type": "code",
   "source": [
    "def show_imgs(n_rows, n_cols, train_ds, class_names):\n",
    "    assert n_rows * n_cols < len(train_ds)  #确保打印的图片小于总样本数\n",
    "    plt.figure(figsize = (n_cols * 1.4, n_rows * 1.6))  #宽1.4高1.6，宽，高\n",
    "    for row in range(n_rows):\n",
    "        for col in range(n_cols):\n",
    "            index = n_cols * row + col  # 计算索引，从0开始\n",
    "            plt.subplot(n_rows, n_cols, index+1)#因为从1开始\n",
    "            img_arr, label = train_ds[index]\n",
    "            img_arr = np.transpose(img_arr, (1, 2, 0))  # 通道换到最后一维\n",
    "            plt.imshow(img_arr, cmap=\"binary\",\n",
    "                       interpolation = 'nearest')#interpolation='nearest'是临近插值\n",
    "            plt.axis('off')#去除坐标系\n",
    "            plt.title(class_names[label]) # 显示类别名称\n",
    "    plt.show()\n",
    "    \n",
    "    \n",
    "\n",
    "#已知的图片类别\n",
    "# lables在这个路径https://github.com/zalandoresearch/fashion-mnist\n",
    "class_names = ['T-shirt', 'Trouser', 'Pullover', 'Dress',\n",
    "               'Coat', 'Sandal', 'Shirt', 'Sneaker',\n",
    "               'Bag', 'Ankle boot'] #0-9分别代表的类别\n",
    "#只是打印了前15个样本\n",
    "show_imgs(5, 5, train_ds, class_names)\n"
   ],
   "id": "cb190be7998d9fe3",
   "outputs": [
    {
     "data": {
      "text/plain": [
       "<Figure size 700x800 with 25 Axes>"
      ],
      "image/png": "[encoded data removed]"
     },
     "metadata": {},
     "output_type": "display_data"
    }
   ],
   "execution_count": 19
  },
  {
   "metadata": {
    "ExecuteTime": {
     "end_time": "2025-02-03T11:04:01.570694Z",
     "start_time": "2025-02-03T11:04:01.567029Z"
    }
   },
   "cell_type": "code",
   "source": [
    "# 从数据集到dataloader\n",
    "train_loader = torch.utils.data.DataLoader(train_ds, batch_size=32, shuffle=True) #batch_size分批，shuffle洗牌\n",
    "val_loader = torch.utils.data.DataLoader(test_ds, batch_size=32, shuffle=False)"
   ],
   "id": "c96eab48f34ce954",
   "outputs": [],
   "execution_count": 20
  },
  {
   "metadata": {},
   "cell_type": "markdown",
   "source": [
    "在PyTorch中，`DataLoader`是一个迭代器，它封装了数据的加载和预处理过程，使得在训练机器学习模型时可以方便地批量加载数据。`DataLoader`主要负责以下几个方面：\n",
    "\n",
    "1. **批量加载数据**：`DataLoader`可以将数据集（Dataset）切分为更小的批次（batch），每次迭代提供一小批量数据，而不是单个数据点。这有助于模型学习数据中的统计依赖性，并且可以更高效地利用GPU等硬件的并行计算能力。\n",
    "\n",
    "2. **数据打乱**：默认情况下，`DataLoader`会在每个epoch（训练周期）开始时打乱数据的顺序。这有助于模型训练时避免陷入局部最优解，并且可以提高模型的泛化能力。\n",
    "\n",
    "3. **多线程数据加载**：`DataLoader`支持多线程（通过参数`num_workers`）来并行地加载数据，这可以显著减少训练过程中的等待时间，尤其是在处理大规模数据集时。\n",
    "\n",
    "4. **数据预处理**：`DataLoader`可以与`transforms`结合使用，对加载的数据进行预处理，如归一化、标准化、数据增强等操作。\n",
    "\n",
    "5. **内存管理**：`DataLoader`负责管理数据的内存使用，确保在训练过程中不会耗尽内存资源。\n",
    "\n",
    "6. **易用性**：`DataLoader`提供了一个简单的接口，可以很容易地集成到训练循环中。\n",
    "\n"
   ],
   "id": "5dcacae46dd5edb1"
  },
  {
   "metadata": {},
   "cell_type": "markdown",
   "source": "## 定义模型",
   "id": "f4f7e08051202381"
  },
  {
   "metadata": {},
   "cell_type": "code",
   "outputs": [],
   "execution_count": null,
   "source": [
    "\"\"\"\n",
    "    自定义模型的参数初始化分为：\n",
    "        1.简单随机初始化：均匀分布tf.random.uniform() 和 正态分布torch.randn()\n",
    "        2.基于激活函数的初始化：\n",
    "            Xavier/Glorot 初始化：适用于 Sigmoid、Tanh 等激活函数，根据输入和输出的维度调整初始化的方差。\n",
    "                sigmoid 为饱和型激活函数，若初始化权重过大，会导致激活值进入饱和区导致梯度消失\n",
    "            He/Kaiming 初始化：适用于 ReLU 及其变体，调整方差以适应 ReLU 的激活特性。\n",
    "                ReLU 为非饱和性激活函数（正区间无界、负区间输出0），导致激活后的分布不再沿0对称\n",
    "                由于ReLU会杀死一半的神经元（负值置零），输出的方差会减半，He初始化通过将方差放大一倍来补偿这种信息损失，确保梯度在反向传播时不会消失\n",
    "        3.特殊初始化\n",
    "    初始化的实际影响\n",
    "        模型收敛速度：合理的初始化可以加速模型收敛。\n",
    "        模型性能：糟糕的初始化可能导致模型无法收敛（如梯度爆炸）或陷入局部最优。\n",
    "\"\"\""
   ],
   "id": "32ceca272219f409"
  },
  {
   "metadata": {
    "ExecuteTime": {
     "end_time": "2025-02-03T11:05:44.768082Z",
     "start_time": "2025-02-03T11:05:44.762824Z"
    }
   },
   "cell_type": "code",
   "source": [
    "class NeuralNetwork(nn.Module):\n",
    "    def __init__(self):\n",
    "        super().__init__() # 继承父类的初始化方法，子类有父类的属性\n",
    "        self.flatten = nn.Flatten()  # 展平层\n",
    "        \n",
    "        #将模型内部训练方法封装，便于后续使用\n",
    "        self.linear_relu_stack = nn.Sequential(\n",
    "            nn.Linear(784, 300),  # in_features=784, out_features=300, 784是输入特征数，300是输出特征数\n",
    "            nn.ReLU(), # 激活函数\n",
    "            nn.Linear(300, 100),#隐藏层神经元数100\n",
    "            nn.ReLU(), # 激活函数\n",
    "            nn.Linear(100, 10),#输出层神经元数10\n",
    "        )\n",
    "    \n",
    "    def forward(self, x): # 前向计算\n",
    "        # x.shape [batch size, 1, 28, 28]\n",
    "        x = self.flatten(x)  \n",
    "        # 展平后 x.shape [batch size, 784]\n",
    "        logits = self.linear_relu_stack(x)\n",
    "        # logits.shape [batch size, 10]\n",
    "        return logits #没有经过softmax,称为logits\n",
    "    \n",
    "model = NeuralNetwork()"
   ],
   "id": "205bd5c2cfb20c03",
   "outputs": [],
   "execution_count": 21
  },
  {
   "metadata": {
    "ExecuteTime": {
     "end_time": "2025-02-03T11:18:01.471992Z",
     "start_time": "2025-02-03T11:18:01.466150Z"
    }
   },
   "cell_type": "code",
   "source": [
    "# 看看网络结构\n",
    "model"
   ],
   "id": "ef5312ceb60168c9",
   "outputs": [
    {
     "data": {
      "text/plain": [
       "NeuralNetwork(\n",
       "  (flatten): Flatten(start_dim=1, end_dim=-1)\n",
       "  (linear_relu_stack): Sequential(\n",
       "    (0): Linear(in_features=784, out_features=300, bias=True)\n",
       "    (1): ReLU()\n",
       "    (2): Linear(in_features=300, out_features=100, bias=True)\n",
       "    (3): ReLU()\n",
       "    (4): Linear(in_features=100, out_features=10, bias=True)\n",
       "  )\n",
       ")"
      ]
     },
     "execution_count": 22,
     "metadata": {},
     "output_type": "execute_result"
    }
   ],
   "execution_count": 22
  },
  {
   "metadata": {
    "ExecuteTime": {
     "end_time": "2025-02-03T11:20:02.009608Z",
     "start_time": "2025-02-03T11:20:02.001506Z"
    }
   },
   "cell_type": "code",
   "source": [
    "for name, param in model.named_parameters(): # 打印模型参数\n",
    "      print(name, param.shape)"
   ],
   "id": "7eb48201eb1e2e0a",
   "outputs": [
    {
     "name": "stdout",
     "output_type": "stream",
     "text": [
      "linear_relu_stack.0.weight torch.Size([300, 784])\n",
      "linear_relu_stack.0.bias torch.Size([300])\n",
      "linear_relu_stack.2.weight torch.Size([100, 300])\n",
      "linear_relu_stack.2.bias torch.Size([100])\n",
      "linear_relu_stack.4.weight torch.Size([10, 100])\n",
      "linear_relu_stack.4.bias torch.Size([10])\n"
     ]
    }
   ],
   "execution_count": 23
  },
  {
   "metadata": {
    "ExecuteTime": {
     "end_time": "2025-02-03T11:20:09.562579Z",
     "start_time": "2025-02-03T11:20:09.549823Z"
    }
   },
   "cell_type": "code",
   "source": [
    "# 看看模型参数\n",
    "list(model.parameters())  # 这种方法拿到模型的所有可学习参数,requires_grad=True\n"
   ],
   "id": "a8fd86e7155d90b0",
   "outputs": [
    {
     "data": {
      "text/plain": [
       "[Parameter containing:\n",
       " tensor([[ 0.0078,  0.0131,  0.0249,  ...,  0.0115,  0.0009, -0.0341],\n",
       "         [ 0.0214, -0.0118, -0.0107,  ..., -0.0036, -0.0262,  0.0031],\n",
       "         [-0.0235, -0.0203, -0.0184,  ...,  0.0070,  0.0034,  0.0201],\n",
       "         ...,\n",
       "         [ 0.0133,  0.0077,  0.0118,  ..., -0.0080, -0.0289, -0.0117],\n",
       "         [ 0.0302,  0.0352,  0.0048,  ..., -0.0114,  0.0356, -0.0207],\n",
       "         [-0.0287,  0.0230, -0.0144,  ...,  0.0183,  0.0078,  0.0267]],\n",
       "        requires_grad=True),\n",
       " Parameter containing:\n",
       " tensor([-2.4924e-02,  4.0668e-03,  2.8799e-02, -3.2683e-02, -2.5517e-02,\n",
       "          1.7863e-02, -5.2386e-03, -1.1192e-02,  2.3495e-03,  2.7277e-02,\n",
       "         -6.1925e-03,  1.5458e-02,  2.1734e-02,  3.3125e-02,  3.3000e-02,\n",
       "          4.2503e-03, -5.4279e-04,  4.9296e-03,  3.0560e-02,  1.7605e-02,\n",
       "          1.9723e-03, -2.4513e-02,  3.5585e-02,  2.7144e-02, -1.2711e-02,\n",
       "          3.1764e-02,  1.2740e-02, -2.0146e-02, -1.6751e-02, -3.0889e-02,\n",
       "         -2.8325e-02, -2.9518e-02, -1.1160e-02,  2.6155e-02, -1.2152e-02,\n",
       "         -3.2910e-02, -6.4287e-03,  2.1304e-02, -2.5133e-02,  5.4607e-03,\n",
       "         -2.2008e-03, -1.2849e-02,  1.0688e-02, -2.5940e-03, -1.9804e-02,\n",
       "         -3.9176e-03,  2.5947e-03,  6.7134e-03,  1.6269e-02,  3.5880e-03,\n",
       "          2.3036e-02, -2.7265e-02, -3.4743e-02,  7.0415e-03, -2.4818e-02,\n",
       "          2.5012e-02, -7.4891e-03, -1.5814e-02,  8.7534e-03, -1.5028e-02,\n",
       "         -2.3148e-02,  2.2496e-02,  2.0351e-02,  2.0567e-03, -7.7269e-03,\n",
       "         -3.2320e-02,  2.1555e-03, -2.2469e-02,  3.2854e-02, -7.6725e-03,\n",
       "          3.1922e-02,  3.6804e-03, -3.4618e-02, -2.5043e-02, -3.2837e-02,\n",
       "          2.2737e-02,  2.1224e-02,  2.8964e-02,  3.5623e-02,  1.5551e-02,\n",
       "          6.0066e-03, -2.8130e-02,  3.5650e-02,  1.3422e-03,  4.3596e-03,\n",
       "          3.0284e-02,  2.4809e-02, -3.0611e-02, -7.2822e-03, -3.4781e-03,\n",
       "          4.9354e-03, -1.2596e-02,  1.2643e-02,  3.2483e-02, -2.5439e-02,\n",
       "         -3.0092e-02, -3.2138e-02,  2.8315e-02, -1.2294e-02, -8.8224e-03,\n",
       "          2.4768e-02,  2.7605e-02,  7.5583e-03, -1.2343e-02,  9.0095e-04,\n",
       "          2.8441e-02, -2.0794e-02, -4.7730e-03, -2.8505e-02, -3.2049e-02,\n",
       "          2.7718e-02, -1.8639e-03,  3.1717e-02, -8.3998e-03,  8.0997e-03,\n",
       "         -3.1122e-03,  3.4427e-02,  8.1750e-03,  8.2252e-03,  1.2434e-03,\n",
       "          9.2565e-03, -1.4800e-03, -2.1839e-02, -7.6753e-04,  1.5769e-02,\n",
       "          7.0047e-03, -2.6478e-02, -1.5501e-02, -3.1998e-02, -9.1673e-03,\n",
       "          1.1364e-02,  2.0606e-02,  2.4173e-02,  2.5764e-02,  3.3378e-02,\n",
       "          1.2454e-02, -2.8349e-02,  2.8695e-02,  1.0920e-02,  2.8744e-03,\n",
       "         -1.8182e-02, -1.3335e-02,  1.3354e-02, -1.6069e-02, -1.7672e-02,\n",
       "          9.0320e-03, -1.6855e-02, -2.9629e-02, -2.6396e-03, -1.6832e-02,\n",
       "          2.8968e-02,  2.0402e-02, -3.1849e-02, -2.6386e-02, -1.2997e-02,\n",
       "          8.9486e-03, -1.9375e-02, -1.7793e-02, -1.4401e-02,  1.1945e-02,\n",
       "          1.7356e-04, -3.4069e-02,  1.1044e-02,  2.1094e-02, -8.7895e-03,\n",
       "          2.0455e-02, -4.8571e-03,  2.8526e-02,  9.7381e-05,  2.5502e-02,\n",
       "         -2.3148e-03,  3.2190e-02,  1.1906e-02, -2.1176e-02,  1.6107e-02,\n",
       "          1.6801e-02,  3.2927e-02,  2.8362e-02, -2.7201e-02,  3.1263e-03,\n",
       "          1.8542e-02, -2.5378e-03, -1.8067e-02,  2.1327e-02,  3.3680e-02,\n",
       "          3.2364e-02, -2.8334e-02,  1.0455e-02, -1.5623e-02, -2.0863e-02,\n",
       "         -1.8603e-02,  2.1214e-02,  1.3808e-03, -3.2834e-02,  1.3394e-02,\n",
       "         -3.0822e-03,  2.5063e-02, -2.9700e-02,  2.8356e-02,  2.0261e-02,\n",
       "          7.9541e-03,  1.1964e-02, -3.3766e-02,  2.7588e-02, -2.0382e-02,\n",
       "         -1.9332e-02,  2.7931e-02, -8.9369e-04, -2.7369e-02, -2.9443e-02,\n",
       "         -3.2059e-02, -2.6223e-02,  9.2301e-03, -3.0541e-02, -2.0291e-02,\n",
       "          2.0198e-02, -2.3350e-02,  2.1021e-02,  4.6914e-03, -1.2450e-02,\n",
       "          1.0851e-02, -1.1657e-02,  3.3946e-02,  3.2181e-02,  1.3552e-02,\n",
       "          3.1693e-02, -4.1555e-03,  5.3851e-03, -5.9879e-03, -3.3433e-02,\n",
       "          3.3498e-02,  8.5279e-03,  8.7746e-03,  3.2578e-02,  2.9678e-02,\n",
       "         -1.2446e-02, -2.8603e-02,  2.3409e-02,  1.5755e-02,  1.5766e-02,\n",
       "          1.8509e-02, -3.1692e-02,  1.7408e-02,  2.1628e-02,  2.2032e-02,\n",
       "         -4.2590e-04,  8.0272e-03,  9.7511e-04, -7.2612e-04, -2.8725e-02,\n",
       "          2.9147e-02,  8.9150e-03, -2.2032e-02,  2.9982e-02,  1.6286e-02,\n",
       "          1.5115e-02, -1.3786e-03, -3.1107e-02,  3.4697e-02, -1.4642e-02,\n",
       "         -8.9969e-03,  1.7657e-02, -1.8268e-02,  2.0798e-02, -2.3987e-02,\n",
       "          7.9623e-03, -9.5706e-03,  2.4906e-02, -8.1492e-03,  1.5065e-02,\n",
       "          2.3413e-02, -1.1858e-02, -2.1945e-02, -2.0562e-02,  2.5007e-02,\n",
       "         -1.7780e-04, -3.4974e-02, -4.9276e-03, -2.1583e-02, -2.2132e-02,\n",
       "          2.5910e-02, -1.2958e-02,  1.9608e-02,  1.3839e-02,  9.3271e-03,\n",
       "          2.5842e-02,  1.3095e-02,  1.2209e-02, -3.5432e-02,  2.5261e-02,\n",
       "          6.2612e-03,  1.7115e-02,  2.0724e-02,  1.2796e-02, -3.3411e-02,\n",
       "          6.3465e-03, -1.5463e-02,  2.5245e-03, -1.0872e-03, -2.7152e-02],\n",
       "        requires_grad=True),\n",
       " Parameter containing:\n",
       " tensor([[ 0.0487, -0.0538,  0.0117,  ..., -0.0034, -0.0248, -0.0452],\n",
       "         [ 0.0070,  0.0094,  0.0106,  ...,  0.0196,  0.0265, -0.0181],\n",
       "         [-0.0330,  0.0355,  0.0276,  ...,  0.0081,  0.0447,  0.0398],\n",
       "         ...,\n",
       "         [-0.0502,  0.0299, -0.0361,  ..., -0.0109, -0.0050,  0.0400],\n",
       "         [-0.0284,  0.0265,  0.0185,  ...,  0.0040, -0.0039,  0.0244],\n",
       "         [-0.0469,  0.0114,  0.0338,  ..., -0.0342, -0.0300, -0.0435]],\n",
       "        requires_grad=True),\n",
       " Parameter containing:\n",
       " tensor([ 0.0556,  0.0284, -0.0392, -0.0478,  0.0183, -0.0267, -0.0509, -0.0473,\n",
       "          0.0384, -0.0409,  0.0189, -0.0537, -0.0324, -0.0052, -0.0301, -0.0217,\n",
       "         -0.0063,  0.0221,  0.0520,  0.0355, -0.0078, -0.0437,  0.0224, -0.0284,\n",
       "          0.0418, -0.0468, -0.0529,  0.0543, -0.0038,  0.0301,  0.0352, -0.0240,\n",
       "         -0.0193,  0.0080, -0.0321, -0.0096,  0.0301,  0.0458, -0.0102, -0.0034,\n",
       "          0.0195, -0.0205, -0.0144,  0.0229,  0.0078, -0.0291, -0.0129,  0.0416,\n",
       "         -0.0378, -0.0336, -0.0514, -0.0123, -0.0297, -0.0058, -0.0102, -0.0130,\n",
       "         -0.0277, -0.0433, -0.0519, -0.0175,  0.0119, -0.0388, -0.0246,  0.0289,\n",
       "          0.0322,  0.0076,  0.0237, -0.0019,  0.0259,  0.0363, -0.0528, -0.0331,\n",
       "          0.0111, -0.0234,  0.0480,  0.0057,  0.0291, -0.0104, -0.0370, -0.0352,\n",
       "         -0.0130,  0.0047,  0.0047,  0.0186, -0.0201,  0.0537, -0.0170,  0.0140,\n",
       "          0.0519,  0.0471, -0.0045,  0.0173,  0.0492,  0.0501, -0.0142,  0.0231,\n",
       "         -0.0520, -0.0129,  0.0079, -0.0064], requires_grad=True),\n",
       " Parameter containing:\n",
       " tensor([[-0.0552,  0.0894,  0.0445,  0.0516,  0.0672,  0.0129,  0.0455,  0.0298,\n",
       "           0.0595,  0.0794,  0.0924,  0.0798,  0.0854,  0.0261,  0.0303,  0.0381,\n",
       "          -0.0667,  0.0033,  0.0432, -0.0223,  0.0654,  0.0449, -0.0130, -0.0208,\n",
       "           0.0254,  0.0187, -0.0655,  0.0734, -0.0879,  0.0026, -0.0387,  0.0748,\n",
       "           0.0855,  0.0359, -0.0924,  0.0561,  0.0621,  0.0819,  0.0446,  0.0171,\n",
       "          -0.0450,  0.0821, -0.0113,  0.0145,  0.0903,  0.0350,  0.0061,  0.0258,\n",
       "          -0.0362,  0.0278, -0.0560, -0.0406, -0.0947,  0.0274,  0.0163,  0.0796,\n",
       "          -0.0658,  0.0503,  0.0930, -0.0764, -0.0075,  0.0144,  0.0187,  0.0958,\n",
       "           0.0526, -0.0692,  0.0512, -0.0500,  0.0963,  0.0236,  0.0643, -0.0778,\n",
       "           0.0922,  0.0853,  0.0873, -0.0101, -0.0714, -0.0216, -0.0275,  0.0703,\n",
       "           0.0698,  0.0854, -0.0069, -0.0643, -0.0075,  0.0334, -0.0592, -0.0795,\n",
       "          -0.0901,  0.0127,  0.0064, -0.0149,  0.0299, -0.0812, -0.0222,  0.0490,\n",
       "           0.0252, -0.0252,  0.0819, -0.0837],\n",
       "         [-0.0020, -0.0290,  0.0661,  0.0665, -0.0299,  0.0081, -0.0591,  0.0002,\n",
       "          -0.0463, -0.0304,  0.0700,  0.0696,  0.0756, -0.0567, -0.0244,  0.0352,\n",
       "           0.0456,  0.0139,  0.0821,  0.0359,  0.0272,  0.0629, -0.0249, -0.0108,\n",
       "           0.0065, -0.0908, -0.0436, -0.0092, -0.0439,  0.0089, -0.0049, -0.0703,\n",
       "           0.0640,  0.0198,  0.0613, -0.0876,  0.0513, -0.0067, -0.0354,  0.0906,\n",
       "          -0.0085, -0.0523,  0.0290, -0.0365,  0.0750,  0.0262, -0.0145,  0.0741,\n",
       "          -0.0402, -0.0907, -0.0300, -0.0776,  0.0352, -0.0987,  0.0630, -0.0286,\n",
       "           0.0735, -0.0729,  0.0964,  0.0041,  0.0115,  0.0254,  0.0948, -0.0912,\n",
       "           0.0607,  0.0620,  0.0078,  0.0662, -0.0655, -0.0947,  0.0866, -0.0331,\n",
       "          -0.0479,  0.0785,  0.0706,  0.0410, -0.0688, -0.0786, -0.0781,  0.0985,\n",
       "          -0.0415,  0.0382, -0.0707, -0.0123, -0.0819, -0.0232, -0.0251,  0.0563,\n",
       "          -0.0525, -0.0425, -0.0596, -0.0792, -0.0741,  0.0987,  0.0791, -0.0765,\n",
       "           0.0539, -0.0207, -0.0996, -0.0239],\n",
       "         [-0.0453,  0.0291, -0.0294, -0.0793, -0.0890, -0.0329, -0.0699,  0.0595,\n",
       "          -0.0122, -0.0056,  0.0946, -0.0349, -0.0718,  0.0026,  0.0950, -0.0776,\n",
       "          -0.0006,  0.0144, -0.0805, -0.0521,  0.0865,  0.0762,  0.0695, -0.0583,\n",
       "           0.0896,  0.0461,  0.0426, -0.0583,  0.0194, -0.0875, -0.0634,  0.0044,\n",
       "          -0.0191,  0.0371,  0.0346, -0.0958, -0.0854, -0.0712,  0.0903, -0.0549,\n",
       "           0.0432, -0.0933, -0.0320, -0.0179, -0.0775, -0.0012,  0.0675,  0.0691,\n",
       "           0.0081,  0.0880, -0.0360,  0.0819,  0.0605, -0.0150,  0.0962,  0.0881,\n",
       "          -0.0262, -0.0662, -0.0101,  0.0761,  0.0614, -0.0743, -0.0533,  0.0362,\n",
       "          -0.0214, -0.0216,  0.0423, -0.0387,  0.0072,  0.0342, -0.0238,  0.0715,\n",
       "           0.0388, -0.0961,  0.0060,  0.0504, -0.0367,  0.0212,  0.0519, -0.0044,\n",
       "          -0.0312,  0.0141, -0.0146, -0.0967,  0.0154,  0.0690, -0.0855, -0.0927,\n",
       "          -0.0070,  0.0340,  0.0445, -0.0807, -0.0078, -0.0849,  0.0389, -0.0929,\n",
       "          -0.0235, -0.0465,  0.0126, -0.0188],\n",
       "         [-0.0155,  0.0468, -0.0749,  0.0267,  0.0151, -0.0138, -0.0726,  0.0429,\n",
       "           0.0282, -0.0621, -0.0628,  0.0003,  0.0478,  0.0073,  0.0885, -0.0907,\n",
       "           0.0188,  0.0113,  0.0592, -0.0534, -0.0976,  0.0457, -0.0483,  0.0289,\n",
       "           0.0894,  0.0549,  0.0292, -0.0298, -0.0761,  0.0216,  0.0984, -0.0963,\n",
       "           0.0304,  0.0782,  0.0138,  0.0804,  0.0910, -0.0363, -0.0315, -0.0630,\n",
       "           0.0840, -0.0215, -0.0431, -0.0445, -0.0515,  0.0006,  0.0869,  0.0859,\n",
       "           0.0386,  0.0716,  0.0006, -0.0468,  0.0274,  0.0336, -0.0642, -0.0777,\n",
       "          -0.0297, -0.0477,  0.0351, -0.0118, -0.0963,  0.0838,  0.0249, -0.0244,\n",
       "           0.0722,  0.0256,  0.0212, -0.0827,  0.0481, -0.0656, -0.0789,  0.0737,\n",
       "          -0.0696,  0.0080,  0.0976,  0.0598, -0.0460, -0.0839, -0.0543,  0.0469,\n",
       "          -0.0859,  0.0175,  0.0805,  0.0072, -0.0670, -0.0673, -0.0746,  0.0875,\n",
       "          -0.0848, -0.0901, -0.0904, -0.0326, -0.0811, -0.0577, -0.0616, -0.0838,\n",
       "          -0.0601,  0.0263,  0.0388, -0.0093],\n",
       "         [ 0.0081, -0.0544, -0.0458,  0.0818,  0.0378,  0.0177,  0.0771,  0.0602,\n",
       "           0.0240, -0.0196, -0.0159,  0.0026, -0.0370, -0.0913, -0.0849, -0.0172,\n",
       "          -0.0078, -0.0416, -0.0967, -0.0788, -0.0823, -0.0488, -0.0072, -0.0069,\n",
       "          -0.0965,  0.0432,  0.0246,  0.0611,  0.0775,  0.0088,  0.0258, -0.0596,\n",
       "           0.0389, -0.0673, -0.0286, -0.0937,  0.0102,  0.0562, -0.0987, -0.0795,\n",
       "           0.0026, -0.0092, -0.0573,  0.0622, -0.0414,  0.0188, -0.0814,  0.0524,\n",
       "           0.0614, -0.0781, -0.0887,  0.0986,  0.0656,  0.0031, -0.0102,  0.0749,\n",
       "           0.0740,  0.0081,  0.0513,  0.0270, -0.0152,  0.0196, -0.0882, -0.0813,\n",
       "          -0.0886,  0.0945,  0.0453, -0.0450,  0.0851,  0.0535,  0.0294,  0.0319,\n",
       "          -0.0675,  0.0751,  0.0330, -0.0550, -0.0761, -0.0605, -0.0163, -0.0921,\n",
       "          -0.0969,  0.0753,  0.0476, -0.0637,  0.0751,  0.0738,  0.0343,  0.0788,\n",
       "          -0.0361,  0.0959, -0.0735,  0.0046,  0.0004, -0.0298, -0.0780, -0.0160,\n",
       "           0.0339, -0.0103, -0.0881, -0.0505],\n",
       "         [-0.0332,  0.0051, -0.0283, -0.0686, -0.0121,  0.0467, -0.0014,  0.0323,\n",
       "          -0.0237,  0.0656, -0.0055,  0.0820, -0.0876, -0.0127,  0.0846,  0.0538,\n",
       "           0.0767, -0.0891, -0.0415, -0.0650,  0.0323,  0.0584, -0.0245,  0.0222,\n",
       "           0.0673, -0.0520,  0.0186, -0.0143, -0.0298,  0.0551, -0.0030,  0.0959,\n",
       "          -0.0014,  0.0572, -0.0080, -0.0314,  0.0274, -0.0904, -0.0627, -0.0922,\n",
       "          -0.0636,  0.0440,  0.0725,  0.0147,  0.0797, -0.0267,  0.0806,  0.0043,\n",
       "          -0.0185, -0.0164,  0.0014,  0.0861,  0.0603,  0.0733, -0.0506,  0.0009,\n",
       "           0.0781,  0.0142,  0.0859, -0.0538, -0.0338, -0.0999, -0.0219, -0.0207,\n",
       "          -0.0032, -0.0702,  0.0547, -0.0395, -0.0791, -0.0809, -0.0445, -0.0958,\n",
       "          -0.0274, -0.0427, -0.0177, -0.0313, -0.0405,  0.0044,  0.0375,  0.0739,\n",
       "           0.0389,  0.0608,  0.0304, -0.0803,  0.0943,  0.0397,  0.0448, -0.0098,\n",
       "          -0.0646,  0.0025,  0.0775, -0.0336, -0.0761, -0.0814,  0.0681,  0.0774,\n",
       "           0.0650,  0.0326, -0.0271,  0.0878],\n",
       "         [-0.0188, -0.0217,  0.0161, -0.0573, -0.0207,  0.0214, -0.0089, -0.0847,\n",
       "          -0.0004,  0.0580, -0.0153,  0.0103,  0.0394, -0.0385, -0.0073,  0.0761,\n",
       "          -0.0975, -0.0945, -0.0147, -0.0058, -0.0267,  0.0589, -0.0730,  0.0795,\n",
       "          -0.0185,  0.0803,  0.0254, -0.0151,  0.0054, -0.0646, -0.0982,  0.0265,\n",
       "          -0.0279,  0.0772,  0.0628,  0.0813,  0.0716, -0.0535,  0.0367,  0.0019,\n",
       "          -0.0042,  0.0130, -0.0890, -0.0909, -0.0702,  0.0418,  0.0080, -0.0890,\n",
       "          -0.0407,  0.0356, -0.0166,  0.0135,  0.0847, -0.0398, -0.0848, -0.0739,\n",
       "           0.0708, -0.0082, -0.0488, -0.0368, -0.0547,  0.0117,  0.0608, -0.0344,\n",
       "           0.0098, -0.0537,  0.0021,  0.0270, -0.0556,  0.0857,  0.0194,  0.0876,\n",
       "           0.0718, -0.0737,  0.0247, -0.0788,  0.0110, -0.0483, -0.0522, -0.0935,\n",
       "           0.0522, -0.0693,  0.0474,  0.0797, -0.0296,  0.0061,  0.0962, -0.0552,\n",
       "           0.0789, -0.0564,  0.0026, -0.0368,  0.0667, -0.0017, -0.0454, -0.0990,\n",
       "          -0.0338, -0.0480,  0.0418, -0.0251],\n",
       "         [-0.0215, -0.0730,  0.0435, -0.0497, -0.0690, -0.0700, -0.0849,  0.0010,\n",
       "          -0.0124, -0.0808,  0.0729,  0.0794,  0.0578,  0.0952,  0.0799,  0.0918,\n",
       "           0.0051, -0.0928,  0.0656, -0.0061, -0.0050,  0.0574,  0.0953,  0.0836,\n",
       "          -0.0373, -0.0431, -0.0261,  0.0578,  0.0718,  0.0833, -0.0882,  0.0932,\n",
       "           0.0665, -0.0107, -0.0799, -0.0058,  0.0590,  0.0419, -0.0078, -0.0860,\n",
       "          -0.0457,  0.0556, -0.0060,  0.0477, -0.0544, -0.0435,  0.0750,  0.0188,\n",
       "          -0.0237, -0.0101,  0.0950,  0.0485, -0.0662,  0.0323,  0.0384, -0.0242,\n",
       "          -0.0519,  0.0412,  0.0824,  0.0251, -0.0649,  0.0165,  0.0469,  0.0058,\n",
       "           0.0229,  0.0147,  0.0900, -0.0589, -0.0426, -0.0083, -0.0396,  0.0516,\n",
       "          -0.0403, -0.0644, -0.0785,  0.0099, -0.0315, -0.0178,  0.0992,  0.0023,\n",
       "          -0.0176,  0.0638,  0.0508,  0.0655, -0.0188,  0.0997, -0.0415,  0.0210,\n",
       "          -0.0660, -0.0971,  0.0061,  0.0513, -0.0823,  0.0696,  0.0658,  0.0976,\n",
       "           0.0187, -0.0232,  0.0189,  0.0412],\n",
       "         [-0.0537,  0.0290, -0.0878, -0.0741, -0.0714,  0.0958, -0.0098, -0.0598,\n",
       "          -0.0356,  0.0772,  0.0322, -0.0280,  0.0721, -0.0399,  0.0187, -0.0297,\n",
       "           0.0610,  0.0167, -0.0482, -0.0535,  0.0093, -0.0748,  0.0077,  0.0640,\n",
       "           0.0122, -0.0163,  0.0845, -0.0342, -0.0078,  0.0352,  0.0185, -0.0613,\n",
       "           0.0861, -0.0867, -0.0428,  0.0642, -0.0243,  0.0827,  0.0740,  0.0812,\n",
       "          -0.0540,  0.0594, -0.0468, -0.0713, -0.0387,  0.0244,  0.0433,  0.0065,\n",
       "          -0.0199,  0.0615, -0.0011,  0.0574, -0.0217,  0.0568,  0.0295, -0.0768,\n",
       "           0.0120,  0.0333,  0.0841,  0.0438, -0.0642,  0.0761,  0.0937,  0.0894,\n",
       "           0.0959,  0.0194,  0.0882,  0.0121,  0.0906, -0.0340, -0.0949,  0.0444,\n",
       "          -0.0124, -0.0827,  0.0706, -0.0820,  0.0569,  0.0358,  0.0187,  0.0490,\n",
       "          -0.0227, -0.0163, -0.0610,  0.0878, -0.0516,  0.0040,  0.0545,  0.0014,\n",
       "           0.0592, -0.0994,  0.0584, -0.0448,  0.0656, -0.0604, -0.0634,  0.0962,\n",
       "           0.0357, -0.0247,  0.0932, -0.0137],\n",
       "         [ 0.0834, -0.0097,  0.0776,  0.0694, -0.0009, -0.0189, -0.0334, -0.0236,\n",
       "          -0.0072,  0.0062,  0.0148,  0.0223, -0.0502, -0.0266,  0.0199, -0.0996,\n",
       "           0.0038,  0.0986,  0.0262, -0.0595,  0.0923, -0.0853, -0.0355, -0.0290,\n",
       "           0.0129,  0.0286, -0.0660,  0.0251, -0.0269, -0.0451,  0.0045,  0.0302,\n",
       "           0.0835, -0.0985,  0.0765,  0.0785, -0.0112,  0.0404, -0.0641, -0.0333,\n",
       "          -0.0750,  0.0003,  0.0210, -0.0831, -0.0418, -0.0665,  0.0993, -0.0418,\n",
       "           0.0870,  0.0622, -0.0222,  0.0637,  0.0881, -0.0350,  0.0041, -0.0787,\n",
       "          -0.0866,  0.0987, -0.0599,  0.0111,  0.0158, -0.0780, -0.0980,  0.0102,\n",
       "           0.0824,  0.0424,  0.0300, -0.0429, -0.0289, -0.0470,  0.0614, -0.0865,\n",
       "          -0.0678, -0.0379, -0.0901,  0.0448,  0.0866,  0.0783, -0.0706, -0.0769,\n",
       "           0.0783, -0.0256,  0.0890,  0.0895,  0.0908, -0.0456, -0.0840,  0.0761,\n",
       "          -0.0607,  0.0137,  0.0180,  0.0103, -0.0475, -0.0094, -0.0020,  0.0675,\n",
       "          -0.0989, -0.0386,  0.0127,  0.0730]], requires_grad=True),\n",
       " Parameter containing:\n",
       " tensor([ 0.0092, -0.0760, -0.0932, -0.0922,  0.0640,  0.0783, -0.0589, -0.0271,\n",
       "          0.0446, -0.0213], requires_grad=True)]"
      ]
     },
     "execution_count": 24,
     "metadata": {},
     "output_type": "execute_result"
    }
   ],
   "execution_count": 24
  },
  {
   "metadata": {
    "ExecuteTime": {
     "end_time": "2025-02-03T11:20:20.495630Z",
     "start_time": "2025-02-03T11:20:20.493625Z"
    }
   },
   "cell_type": "code",
   "source": "# model.state_dict()  # 这种方法用于保存模型参数，看能看见参数属于模型的哪一部分",
   "id": "55d0d64bb3abdae8",
   "outputs": [],
   "execution_count": 25
  },
  {
   "metadata": {},
   "cell_type": "markdown",
   "source": [
    "## 训练\n",
    "\n",
    "pytorch的训练需要自行实现，包括\n",
    "1. 定义损失函数\n",
    "2. 定义优化器\n",
    "3. 定义训练步\n",
    "4. 训练"
   ],
   "id": "89fe52f6d983dd42"
  },
  {
   "metadata": {},
   "cell_type": "markdown",
   "source": [
    "1. 定义损失函数\n",
    "2. 定义优化器"
   ],
   "id": "309655017a2552d5"
  },
  {
   "metadata": {
    "ExecuteTime": {
     "end_time": "2025-02-03T11:21:10.544295Z",
     "start_time": "2025-02-03T11:21:10.531869Z"
    }
   },
   "cell_type": "code",
   "source": [
    "loss_fct = nn.CrossEntropyLoss()\n",
    "\n",
    "optimizer = torch.optim.SGD(model.parameters(), lr=0.001, momentum=0.9)"
   ],
   "id": "eff7d509502e3865",
   "outputs": [],
   "execution_count": 26
  },
  {
   "metadata": {},
   "cell_type": "markdown",
   "source": "这里先写一个训练方法，验证也是训练中的一步",
   "id": "b76a38471fb3dac"
  },
  {
   "metadata": {
    "ExecuteTime": {
     "end_time": "2025-02-03T11:28:54.041752Z",
     "start_time": "2025-02-03T11:28:53.490649Z"
    }
   },
   "cell_type": "code",
   "source": [
    "from sklearn.metrics import accuracy_score\n",
    "\n",
    "#验证过程中就不用反向传播了\n",
    "@torch.no_grad() # 装饰器，禁止反向传播，节省内存\n",
    "def evaluating(model, dataloader, loss_fct):\n",
    "    loss_list = [] # 记录损失\n",
    "    pred_list = [] # 记录预测\n",
    "    label_list = [] # 记录标签\n",
    "    for datas, labels in dataloader:#10000/32=312\n",
    "        \n",
    "        #将数据转到GPU\n",
    "        datas = datas.to(device)\n",
    "        labels = labels.to(device) \n",
    "        # 前向计算\n",
    "        logits = model(datas)\n",
    "        loss = loss_fct(logits, labels)         # 验证集损失\n",
    "        loss_list.append(loss.item()) # 记录损失\n",
    "        \n",
    "        preds = logits.argmax(axis=-1)    # 验证集预测,argmax返回最大值索引,就是返回对每一个样本的预测结果，生成数组，拿去跟label原类别数组进行比较，求准确率\n",
    "        # print(preds)\n",
    "        pred_list.extend(preds.cpu().numpy().tolist())#将PyTorch张量转换为NumPy数组。只有当张量在CPU上时，这个转换才是合法的\n",
    "        # print(preds.cpu().numpy().tolist())\n",
    "        label_list.extend(labels.cpu().numpy().tolist())\n",
    "        \n",
    "    acc = accuracy_score(label_list, pred_list) # 计算准确率\n",
    "    return np.mean(loss_list), acc\n"
   ],
   "id": "66c3ca5be5aa6a33",
   "outputs": [],
   "execution_count": 28
  },
  {
   "metadata": {},
   "cell_type": "markdown",
   "source": "接下来是训练函数",
   "id": "85cf592ca38d8086"
  },
  {
   "metadata": {
    "ExecuteTime": {
     "end_time": "2025-02-03T11:32:27.413328Z",
     "start_time": "2025-02-03T11:28:56.857661Z"
    }
   },
   "cell_type": "code",
   "source": [
    "# 训练\n",
    "def training(model, train_loader, val_loader, epoch, loss_fct, optimizer, eval_step=500):\n",
    "    record_dict = {\n",
    "        \"train\": [],\n",
    "        \"val\": []\n",
    "    }\n",
    "    \n",
    "    global_step = 0\n",
    "    model.train()\n",
    "    with tqdm(total=epoch * len(train_loader)) as pbar: # 进度条 1875*20,60000/32=1875\n",
    "        for epoch_id in range(epoch): # 训练epoch次\n",
    "            # training\n",
    "            for datas, labels in train_loader: #执行次数是60000/32=1875\n",
    "                datas = datas.to(device) #datas尺寸是[batch_size,1,28,28]\n",
    "                labels = labels.to(device) #labels尺寸是[batch_size]\n",
    "                # 梯度清空\n",
    "                optimizer.zero_grad()\n",
    "                # 模型前向计算\n",
    "                logits = model(datas)\n",
    "                # 计算损失\n",
    "                loss = loss_fct(logits, labels)\n",
    "                # 梯度回传，loss.backward()会计算梯度，loss对模型参数求导\n",
    "                loss.backward()\n",
    "                # 调整优化器，包括学习率的变动等,优化器的学习率会随着训练的进行而减小，更新w,b\n",
    "                optimizer.step() #梯度是计算并存储在模型参数的 .grad 属性中，优化器使用这些存储的梯度来更新模型参数\n",
    "\n",
    "                preds = logits.argmax(axis=-1) # 训练集预测\n",
    "                acc = accuracy_score(labels.cpu().numpy(), preds.cpu().numpy())   # 计算准确率，numpy可以\n",
    "                loss = loss.cpu().item() # 损失转到CPU，item()取值,一个数值\n",
    "                # record\n",
    "                \n",
    "                record_dict[\"train\"].append({\n",
    "                    \"loss\": loss, \"acc\": acc, \"step\": global_step\n",
    "                }) # 记录训练集信息，每一步的损失，准确率，步数\n",
    "                \n",
    "                # evaluating\n",
    "                if global_step % eval_step == 0:\n",
    "                    model.eval() # 进入评估模式\n",
    "                    val_loss, val_acc = evaluating(model, val_loader, loss_fct)\n",
    "                    record_dict[\"val\"].append({\n",
    "                        \"loss\": val_loss, \"acc\": val_acc, \"step\": global_step\n",
    "                    })\n",
    "                    model.train() # 进入训练模式\n",
    "\n",
    "                # udate step\n",
    "                global_step += 1 # 全局步数加1\n",
    "                pbar.update(1) # 更新进度条\n",
    "                pbar.set_postfix({\"epoch\": epoch_id}) # 设置进度条显示信息\n",
    "        \n",
    "    return record_dict\n",
    "        \n",
    "\n",
    "epoch = 20 #改为40\n",
    "model = model.to(device)\n",
    "record = training(model, train_loader, val_loader, epoch, loss_fct, optimizer, eval_step=1000)"
   ],
   "id": "af64f73b6e7520ee",
   "outputs": [
    {
     "data": {
      "text/plain": [
       "  0%|          | 0/37500 [00:00<?, ?it/s]"
      ],
      "application/vnd.jupyter.widget-view+json": {
       "version_major": 2,
       "version_minor": 0,
       "model_id": "b35dfedf36874457a3411f0e605df164"
      }
     },
     "metadata": {},
     "output_type": "display_data"
    }
   ],
   "execution_count": 29
  },
  {
   "metadata": {},
   "cell_type": "code",
   "outputs": [],
   "execution_count": null,
   "source": [
    "# 查看结果\n",
    "record[\"train\"][-5:]"
   ],
   "id": "aa2abc2a88ec5295"
  },
  {
   "metadata": {},
   "cell_type": "code",
   "outputs": [],
   "execution_count": null,
   "source": "record[\"val\"][-5:]",
   "id": "a17158cc8e952f1c"
  },
  {
   "metadata": {
    "ExecuteTime": {
     "end_time": "2025-02-03T11:46:00.434605Z",
     "start_time": "2025-02-03T11:46:00.323261Z"
    }
   },
   "cell_type": "code",
   "source": [
    "#画线要注意的是损失是不一定在零到1之间的\n",
    "def plot_learning_curves(record_dict, sample_step=1000):\n",
    "    # build DataFrame 把步数作为索引\n",
    "    train_df = pd.DataFrame(record_dict[\"train\"]).set_index(\"step\").iloc[::sample_step] # 每1000步抓一个\n",
    "    val_df = pd.DataFrame(record_dict[\"val\"]).set_index(\"step\")\n",
    "    last_step = train_df.index[-1] # 最后一步的步数\n",
    "    # print(train_df.columns)\n",
    "    print(train_df['acc'])\n",
    "    print(val_df['acc'])\n",
    "    # plot\n",
    "    fig_num = len(train_df.columns) # 画几张图,分别是损失和准确率\n",
    "    fig, axs = plt.subplots(1, fig_num, figsize=(5 * fig_num, 5))\n",
    "    for idx, item in enumerate(train_df.columns):\n",
    "        # print(train_df[item].values)\n",
    "        axs[idx].plot(train_df.index, train_df[item], label=f\"train_{item}\")\n",
    "        axs[idx].plot(val_df.index, val_df[item], label=f\"val_{item}\")\n",
    "        axs[idx].grid() # 显示网格\n",
    "        axs[idx].legend() # 显示图例\n",
    "        axs[idx].set_xticks(range(0, train_df.index[-1], 5000)) # 设置x轴刻度\n",
    "        axs[idx].set_xticklabels(map(lambda x: f\"{int(x/1000)}k\", range(0, last_step, 5000))) # 设置x轴标签\n",
    "        axs[idx].set_xlabel(\"step\")\n",
    "    \n",
    "    plt.show()\n",
    "\n",
    "plot_learning_curves(record)  #横坐标是 steps"
   ],
   "id": "bf7aa3812997fafb",
   "outputs": [
    {
     "name": "stdout",
     "output_type": "stream",
     "text": [
      "step\n",
      "0        0.12500\n",
      "1000     0.59375\n",
      "2000     0.87500\n",
      "3000     0.78125\n",
      "4000     0.87500\n",
      "5000     0.81250\n",
      "6000     0.84375\n",
      "7000     0.87500\n",
      "8000     0.81250\n",
      "9000     0.78125\n",
      "10000    0.81250\n",
      "11000    0.81250\n",
      "12000    0.87500\n",
      "13000    0.84375\n",
      "14000    0.90625\n",
      "15000    0.90625\n",
      "16000    0.78125\n",
      "17000    0.87500\n",
      "18000    0.84375\n",
      "19000    0.90625\n",
      "20000    0.87500\n",
      "21000    0.96875\n",
      "22000    0.93750\n",
      "23000    0.90625\n",
      "24000    0.75000\n",
      "25000    0.93750\n",
      "26000    0.87500\n",
      "27000    0.87500\n",
      "28000    0.87500\n",
      "29000    0.87500\n",
      "30000    0.84375\n",
      "31000    0.81250\n",
      "32000    0.96875\n",
      "33000    0.87500\n",
      "34000    0.93750\n",
      "35000    0.90625\n",
      "36000    0.90625\n",
      "37000    0.96875\n",
      "Name: acc, dtype: float64\n",
      "step\n",
      "0        0.1017\n",
      "1000     0.6766\n",
      "2000     0.7557\n",
      "3000     0.7884\n",
      "4000     0.8087\n",
      "5000     0.8188\n",
      "6000     0.8208\n",
      "7000     0.8273\n",
      "8000     0.8359\n",
      "9000     0.8341\n",
      "10000    0.8387\n",
      "11000    0.8414\n",
      "12000    0.8341\n",
      "13000    0.8496\n",
      "14000    0.8499\n",
      "15000    0.8549\n",
      "16000    0.8519\n",
      "17000    0.8518\n",
      "18000    0.8550\n",
      "19000    0.8598\n",
      "20000    0.8557\n",
      "21000    0.8601\n",
      "22000    0.8566\n",
      "23000    0.8618\n",
      "24000    0.8646\n",
      "25000    0.8656\n",
      "26000    0.8644\n",
      "27000    0.8652\n",
      "28000    0.8685\n",
      "29000    0.8666\n",
      "30000    0.8671\n",
      "31000    0.8668\n",
      "32000    0.8667\n",
      "33000    0.8718\n",
      "34000    0.8694\n",
      "35000    0.8718\n",
      "36000    0.8707\n",
      "37000    0.8713\n",
      "Name: acc, dtype: float64\n"
     ]
    },
    {
     "data": {
      "text/plain": [
       "<Figure size 1000x500 with 2 Axes>"
      ],
      "image/png": "[encoded data removed]"
     },
     "metadata": {},
     "output_type": "display_data"
    }
   ],
   "execution_count": 30
  },
  {
   "metadata": {},
   "cell_type": "markdown",
   "source": "## 评估",
   "id": "6ab526ded7051711"
  },
  {
   "metadata": {},
   "cell_type": "code",
   "outputs": [],
   "execution_count": null,
   "source": "",
   "id": "b452b9e82a8e876e"
  },
  {
   "metadata": {
    "ExecuteTime": {
     "end_time": "2025-02-03T11:47:54.356289Z",
     "start_time": "2025-02-03T11:47:53.425320Z"
    }
   },
   "cell_type": "code",
   "source": [
    "# dataload for evaluating\n",
    "\n",
    "model.eval() # 进入评估模式\n",
    "loss, acc = evaluating(model, val_loader, loss_fct)\n",
    "print(f\"loss:     {loss:.4f}\\naccuracy: {acc:.4f}\")"
   ],
   "id": "b883b43c2fab53fe",
   "outputs": [
    {
     "name": "stdout",
     "output_type": "stream",
     "text": [
      "loss:     0.3564\n",
      "accuracy: 0.8710\n"
     ]
    }
   ],
   "execution_count": 31
  }
 ],
 "metadata": {
  "kernelspec": {
   "display_name": "Python 3",
   "language": "python",
   "name": "python3"
  },
  "language_info": {
   "codemirror_mode": {
    "name": "ipython",
    "version": 2
   },
   "file_extension": ".py",
   "mimetype": "text/x-python",
   "name": "python",
   "nbconvert_exporter": "python",
   "pygments_lexer": "ipython2",
   "version": "2.7.6"
  }
 },
 "nbformat": 4,
 "nbformat_minor": 5
}
