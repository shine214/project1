{
 "cells": [
  {
   "metadata": {},
   "cell_type": "markdown",
   "source": "# 数据结构 Series",
   "id": "28f433858df831b8"
  },
  {
   "metadata": {
    "ExecuteTime": {
     "end_time": "2025-01-07T10:32:09.972545Z",
     "start_time": "2025-01-07T10:32:09.968668Z"
    }
   },
   "cell_type": "code",
   "source": [
    "import pandas as pd\n",
    "ser_obj = pd.Series(range(10))\n",
    "print(ser_obj)\n",
    "print('\\n')\n",
    "\n",
    "#看头几个元素\n",
    "print(ser_obj.head(3))\n",
    "print(type(ser_obj))"
   ],
   "id": "initial_id",
   "outputs": [
    {
     "name": "stdout",
     "output_type": "stream",
     "text": [
      "0    0\n",
      "1    1\n",
      "2    2\n",
      "3    3\n",
      "4    4\n",
      "5    5\n",
      "6    6\n",
      "7    7\n",
      "8    8\n",
      "9    9\n",
      "dtype: int64\n",
      "\n",
      "\n",
      "0    0\n",
      "1    1\n",
      "2    2\n",
      "dtype: int64\n",
      "<class 'pandas.core.series.Series'>\n"
     ]
    }
   ],
   "execution_count": 5
  },
  {
   "metadata": {},
   "cell_type": "markdown",
   "source": "索引操作",
   "id": "11328bb0371f0ea9"
  },
  {
   "metadata": {
    "ExecuteTime": {
     "end_time": "2025-01-07T10:34:41.986341Z",
     "start_time": "2025-01-07T10:34:41.981750Z"
    }
   },
   "cell_type": "code",
   "source": [
    "print(ser_obj.values)\n",
    "print(ser_obj.index)\n",
    "print(type(ser_obj.values))\n",
    "print(type(ser_obj.index))\n",
    "\n",
    "\n",
    "#通过索引获取数据\n",
    "print(ser_obj[0])\n",
    "print(ser_obj[8])"
   ],
   "id": "46a121b46f980859",
   "outputs": [
    {
     "name": "stdout",
     "output_type": "stream",
     "text": [
      "[0 1 2 3 4 5 6 7 8 9]\n",
      "RangeIndex(start=0, stop=10, step=1)\n",
      "<class 'numpy.ndarray'>\n",
      "<class 'pandas.core.indexes.range.RangeIndex'>\n",
      "0\n",
      "8\n"
     ]
    }
   ],
   "execution_count": 10
  },
  {
   "metadata": {},
   "cell_type": "markdown",
   "source": "索引与数据的对应关系不被运算结果影响",
   "id": "76ffb6babe88582f"
  },
  {
   "metadata": {
    "ExecuteTime": {
     "end_time": "2025-01-07T10:35:15.889074Z",
     "start_time": "2025-01-07T10:35:15.880540Z"
    }
   },
   "cell_type": "code",
   "source": [
    "# 索引与数据的对应关系不被运算结果影响\n",
    "print(ser_obj * 2)\n",
    "print(ser_obj > 15)\n"
   ],
   "id": "a4b3760db4c40ec9",
   "outputs": [
    {
     "name": "stdout",
     "output_type": "stream",
     "text": [
      "0     0\n",
      "1     2\n",
      "2     4\n",
      "3     6\n",
      "4     8\n",
      "5    10\n",
      "6    12\n",
      "7    14\n",
      "8    16\n",
      "9    18\n",
      "dtype: int64\n",
      "0    False\n",
      "1    False\n",
      "2    False\n",
      "3    False\n",
      "4    False\n",
      "5    False\n",
      "6    False\n",
      "7    False\n",
      "8    False\n",
      "9    False\n",
      "dtype: bool\n"
     ]
    }
   ],
   "execution_count": 11
  },
  {
   "metadata": {},
   "cell_type": "markdown",
   "source": "通过字典dict构建series",
   "id": "699802e3f0f265d5"
  },
  {
   "metadata": {
    "ExecuteTime": {
     "end_time": "2025-01-07T10:36:56.108990Z",
     "start_time": "2025-01-07T10:36:56.103827Z"
    }
   },
   "cell_type": "code",
   "source": [
    "# 通过 dict 构建 Series\n",
    "year_data = {2001: 17.8, 2002: 20.1, 2003: 16.5}\n",
    "ser_obj2 = pd.Series(year_data)\n",
    "print(ser_obj2.head())\n",
    "print(ser_obj2.index)\n",
    "print(ser_obj2[2001])"
   ],
   "id": "fb10e5eeb15af612",
   "outputs": [
    {
     "name": "stdout",
     "output_type": "stream",
     "text": [
      "2001    17.8\n",
      "2002    20.1\n",
      "2003    16.5\n",
      "dtype: float64\n",
      "Index([2001, 2002, 2003], dtype='int64')\n",
      "17.8\n"
     ]
    }
   ],
   "execution_count": 13
  },
  {
   "metadata": {},
   "cell_type": "markdown",
   "source": " name 属性",
   "id": "e338b692de2fa988"
  },
  {
   "metadata": {
    "ExecuteTime": {
     "end_time": "2025-01-07T10:38:37.652402Z",
     "start_time": "2025-01-07T10:38:37.647161Z"
    }
   },
   "cell_type": "code",
   "source": [
    "# name 属性\n",
    "# series 数组本身和 index可以赋予name名字，value没有\n",
    "\n",
    "ser_obj2.name = 'temp'\n",
    "ser_obj2.index.name = 'year'\n",
    "print(ser_obj2.head())\n"
   ],
   "id": "5dfcd8344f0485e0",
   "outputs": [
    {
     "name": "stdout",
     "output_type": "stream",
     "text": [
      "year\n",
      "2001    17.8\n",
      "2002    20.1\n",
      "2003    16.5\n",
      "Name: temp, dtype: float64\n"
     ]
    }
   ],
   "execution_count": 16
  },
  {
   "metadata": {},
   "cell_type": "markdown",
   "source": "# 数据结构2 DataFrame",
   "id": "f8946aa14f300af"
  },
  {
   "metadata": {},
   "cell_type": "code",
   "outputs": [],
   "execution_count": null,
   "source": [
    "\"\"\"\n",
    "DataFrame 是一个表格型的数据结构，它含有一组有序的列，每列可以是不同类\n",
    "型的值。DataFrame 既有行索引也有列索引，它可以被看做是由 Series 组成的字\n",
    "典（共用同一个索引），数据是以二维结构存放的。\n",
    "\"\"\""
   ],
   "id": "71b068bbc9d459d"
  },
  {
   "metadata": {
    "ExecuteTime": {
     "end_time": "2025-01-07T10:42:08.691086Z",
     "start_time": "2025-01-07T10:42:08.681585Z"
    }
   },
   "cell_type": "code",
   "source": [
    "import numpy as np\n",
    "import pandas as pd\n",
    "t = pd.DataFrame(np.arange(12).reshape(3,4))\n",
    "print(t)\n",
    "array = np.random.randn(5,4)\n",
    "print(array)\n",
    "df_obj = pd.DataFrame(array)\n",
    "df_obj"
   ],
   "id": "272ec3f55dfd1f47",
   "outputs": [
    {
     "name": "stdout",
     "output_type": "stream",
     "text": [
      "   0  1   2   3\n",
      "0  0  1   2   3\n",
      "1  4  5   6   7\n",
      "2  8  9  10  11\n",
      "[[-0.91026003  0.75652594 -1.04812291 -2.81479457]\n",
      " [-0.16533743 -1.90675434 -2.09773869 -1.06035998]\n",
      " [-0.99123838 -0.08563115  2.12453906 -0.18381599]\n",
      " [-0.66358751  1.63236568 -1.25371977 -0.70905328]\n",
      " [ 1.01213509 -0.08794235 -0.19383707 -0.43463125]]\n"
     ]
    },
    {
     "data": {
      "text/plain": [
       "          0         1         2         3\n",
       "0 -0.910260  0.756526 -1.048123 -2.814795\n",
       "1 -0.165337 -1.906754 -2.097739 -1.060360\n",
       "2 -0.991238 -0.085631  2.124539 -0.183816\n",
       "3 -0.663588  1.632366 -1.253720 -0.709053\n",
       "4  1.012135 -0.087942 -0.193837 -0.434631"
      ],
      "text/html": [
       "<div>\n",
       "<style scoped>\n",
       "    .dataframe tbody tr th:only-of-type {\n",
       "        vertical-align: middle;\n",
       "    }\n",
       "\n",
       "    .dataframe tbody tr th {\n",
       "        vertical-align: top;\n",
       "    }\n",
       "\n",
       "    .dataframe thead th {\n",
       "        text-align: right;\n",
       "    }\n",
       "</style>\n",
       "<table border=\"1\" class=\"dataframe\">\n",
       "  <thead>\n",
       "    <tr style=\"text-align: right;\">\n",
       "      <th></th>\n",
       "      <th>0</th>\n",
       "      <th>1</th>\n",
       "      <th>2</th>\n",
       "      <th>3</th>\n",
       "    </tr>\n",
       "  </thead>\n",
       "  <tbody>\n",
       "    <tr>\n",
       "      <th>0</th>\n",
       "      <td>-0.910260</td>\n",
       "      <td>0.756526</td>\n",
       "      <td>-1.048123</td>\n",
       "      <td>-2.814795</td>\n",
       "    </tr>\n",
       "    <tr>\n",
       "      <th>1</th>\n",
       "      <td>-0.165337</td>\n",
       "      <td>-1.906754</td>\n",
       "      <td>-2.097739</td>\n",
       "      <td>-1.060360</td>\n",
       "    </tr>\n",
       "    <tr>\n",
       "      <th>2</th>\n",
       "      <td>-0.991238</td>\n",
       "      <td>-0.085631</td>\n",
       "      <td>2.124539</td>\n",
       "      <td>-0.183816</td>\n",
       "    </tr>\n",
       "    <tr>\n",
       "      <th>3</th>\n",
       "      <td>-0.663588</td>\n",
       "      <td>1.632366</td>\n",
       "      <td>-1.253720</td>\n",
       "      <td>-0.709053</td>\n",
       "    </tr>\n",
       "    <tr>\n",
       "      <th>4</th>\n",
       "      <td>1.012135</td>\n",
       "      <td>-0.087942</td>\n",
       "      <td>-0.193837</td>\n",
       "      <td>-0.434631</td>\n",
       "    </tr>\n",
       "  </tbody>\n",
       "</table>\n",
       "</div>"
      ]
     },
     "execution_count": 20,
     "metadata": {},
     "output_type": "execute_result"
    }
   ],
   "execution_count": 20
  },
  {
   "metadata": {},
   "cell_type": "markdown",
   "source": "通过dict字典构建DataFrame",
   "id": "6a7bbf1aaa58c027"
  },
  {
   "metadata": {
    "ExecuteTime": {
     "end_time": "2025-01-07T10:45:40.833967Z",
     "start_time": "2025-01-07T10:45:40.824430Z"
    }
   },
   "cell_type": "code",
   "source": [
    "dict_data = {'A': 1,\n",
    "'B': pd.Timestamp('20190926'),\n",
    "'C': pd.Series(1,\n",
    "index=list(range(4)),dtype='float32'),\n",
    "'D': np.array([3] * 4,dtype='int32'),\n",
    "'E': [\"Python\",\"Java\",\"C++\",\"C\"],\n",
    "'F': 'wangdao' }\n",
    "print(dict_data)\n",
    "\n",
    "#将字典转成df 什么类型都可以转，如果是单个的不可变数据类型，就用这个数据填满一整列\n",
    "df_obj2 = pd.DataFrame(dict_data)\n",
    "print(df_obj2)\n",
    "print('\\n')\n",
    "\n",
    "d2 =[{\"name\" : \"xiaohong\" ,\"age\" :32,\"tel\" :10010},{ \"name\":\n",
    "\"xiaogang\" ,\"tel\": 10000} ,{\"name\":\"xiaowang\" ,\"age\":22}]\n",
    "print(pd.DataFrame(d2))"
   ],
   "id": "bf9c8506dff03936",
   "outputs": [
    {
     "name": "stdout",
     "output_type": "stream",
     "text": [
      "{'A': 1, 'B': Timestamp('2019-09-26 00:00:00'), 'C': 0    1.0\n",
      "1    1.0\n",
      "2    1.0\n",
      "3    1.0\n",
      "dtype: float32, 'D': array([3, 3, 3, 3], dtype=int32), 'E': ['Python', 'Java', 'C++', 'C'], 'F': 'wangdao'}\n",
      "   A          B    C  D       E        F\n",
      "0  1 2019-09-26  1.0  3  Python  wangdao\n",
      "1  1 2019-09-26  1.0  3    Java  wangdao\n",
      "2  1 2019-09-26  1.0  3     C++  wangdao\n",
      "3  1 2019-09-26  1.0  3       C  wangdao\n",
      "\n",
      "\n",
      "       name   age      tel\n",
      "0  xiaohong  32.0  10010.0\n",
      "1  xiaogang   NaN  10000.0\n",
      "2  xiaowang  22.0      NaN\n"
     ]
    }
   ],
   "execution_count": 26
  },
  {
   "metadata": {},
   "cell_type": "markdown",
   "source": "",
   "id": "c26322c371abb3f9"
  },
  {
   "metadata": {},
   "cell_type": "markdown",
   "source": "通过列索引获取列数据（结果为单列，所以是Series类型）\n",
   "id": "3fd7e4b25153da50"
  },
  {
   "metadata": {
    "ExecuteTime": {
     "end_time": "2025-01-07T10:47:29.370275Z",
     "start_time": "2025-01-07T10:47:29.364286Z"
    }
   },
   "cell_type": "code",
   "source": [
    "print(df_obj2['A'])\n",
    "print(type(df_obj2['A']))"
   ],
   "id": "484cd527f762edd",
   "outputs": [
    {
     "name": "stdout",
     "output_type": "stream",
     "text": [
      "0    1\n",
      "1    1\n",
      "2    1\n",
      "3    1\n",
      "Name: A, dtype: int64\n",
      "<class 'pandas.core.series.Series'>\n"
     ]
    }
   ],
   "execution_count": 27
  },
  {
   "metadata": {},
   "cell_type": "markdown",
   "source": "增加列数据",
   "id": "756f352ea8f5046f"
  },
  {
   "metadata": {
    "ExecuteTime": {
     "end_time": "2025-01-07T10:49:23.073065Z",
     "start_time": "2025-01-07T10:49:23.066550Z"
    }
   },
   "cell_type": "code",
   "source": [
    "df_obj2['G'] = df_obj2['D'] + 4  #有广播原理在里吗\n",
    "print(df_obj2.head())"
   ],
   "id": "deb472aef6324b75",
   "outputs": [
    {
     "name": "stdout",
     "output_type": "stream",
     "text": [
      "   A          B    C  D       E        F  G\n",
      "0  1 2019-09-26  1.0  3  Python  wangdao  7\n",
      "1  1 2019-09-26  1.0  3    Java  wangdao  7\n",
      "2  1 2019-09-26  1.0  3     C++  wangdao  7\n",
      "3  1 2019-09-26  1.0  3       C  wangdao  7\n"
     ]
    }
   ],
   "execution_count": 34
  },
  {
   "metadata": {},
   "cell_type": "markdown",
   "source": "删除列",
   "id": "fd560a873d267d28"
  },
  {
   "metadata": {
    "ExecuteTime": {
     "end_time": "2025-01-07T10:49:27.846254Z",
     "start_time": "2025-01-07T10:49:27.843123Z"
    }
   },
   "cell_type": "code",
   "source": [
    "del(df_obj2['G'] )\n",
    "print(df_obj2.head())"
   ],
   "id": "6b75103dff665f06",
   "outputs": [
    {
     "name": "stdout",
     "output_type": "stream",
     "text": [
      "   A          B    C  D       E        F\n",
      "0  1 2019-09-26  1.0  3  Python  wangdao\n",
      "1  1 2019-09-26  1.0  3    Java  wangdao\n",
      "2  1 2019-09-26  1.0  3     C++  wangdao\n",
      "3  1 2019-09-26  1.0  3       C  wangdao\n"
     ]
    }
   ],
   "execution_count": 35
  },
  {
   "metadata": {},
   "cell_type": "markdown",
   "source": [
    "# pandas的索引对象 index\n",
    "Series 和 DataFrame 中的索引都是 Index 对象"
   ],
   "id": "aff6e4ed6b91f2a2"
  },
  {
   "metadata": {
    "ExecuteTime": {
     "end_time": "2025-01-07T10:53:01.205903Z",
     "start_time": "2025-01-07T10:53:01.199923Z"
    }
   },
   "cell_type": "code",
   "source": [
    "import pandas as pd\n",
    "import numpy as np\n",
    "dict_data = {'A': 1,\n",
    "'B': pd.Timestamp('20190926'),\n",
    "'C': pd.Series(1,\n",
    "               \n",
    "index=list(range(4)),dtype='float32'),\n",
    "'D': np.array([3] * 4,dtype='int32'),\n",
    "'E': [\"Python\",\"Java\",\"C++\",\"C\"],\n",
    "'F': 'wangdao' }\n",
    "#print dict_data\n",
    "df_obj2 = pd.DataFrame(dict_data)\n",
    "ser_obj = pd.Series(range(20))\n",
    "print(type(ser_obj.index))\n",
    "print(type(df_obj2.index))\n",
    "print(df_obj2.index)"
   ],
   "id": "f8aa1caa6ed17998",
   "outputs": [
    {
     "name": "stdout",
     "output_type": "stream",
     "text": [
      "<class 'pandas.core.indexes.range.RangeIndex'>\n",
      "<class 'pandas.core.indexes.base.Index'>\n",
      "Index([0, 1, 2, 3], dtype='int64')\n"
     ]
    }
   ],
   "execution_count": 39
  },
  {
   "metadata": {},
   "cell_type": "markdown",
   "source": "",
   "id": "526d03af289638e6"
  },
  {
   "metadata": {},
   "cell_type": "markdown",
   "source": "索引对象不可变，保证了数据的安全",
   "id": "4accab5092b88864"
  },
  {
   "metadata": {
    "ExecuteTime": {
     "end_time": "2025-01-07T10:54:00.694989Z",
     "start_time": "2025-01-07T10:54:00.671369Z"
    }
   },
   "cell_type": "code",
   "source": [
    "df_obj2.index[0] = 2\n",
    "#报错\n",
    "#TypeError: Index does not support mutable operations"
   ],
   "id": "ba45ea8d1951a21b",
   "outputs": [
    {
     "ename": "TypeError",
     "evalue": "Index does not support mutable operations",
     "output_type": "error",
     "traceback": [
      "\u001B[0;31m---------------------------------------------------------------------------\u001B[0m",
      "\u001B[0;31mTypeError\u001B[0m                                 Traceback (most recent call last)",
      "Cell \u001B[0;32mIn[40], line 1\u001B[0m\n\u001B[0;32m----> 1\u001B[0m \u001B[43mdf_obj2\u001B[49m\u001B[38;5;241;43m.\u001B[39;49m\u001B[43mindex\u001B[49m\u001B[43m[\u001B[49m\u001B[38;5;241;43m0\u001B[39;49m\u001B[43m]\u001B[49m \u001B[38;5;241m=\u001B[39m \u001B[38;5;241m2\u001B[39m\n",
      "File \u001B[0;32m/Library/Frameworks/Python.framework/Versions/3.12/lib/python3.12/site-packages/pandas/core/indexes/base.py:5371\u001B[0m, in \u001B[0;36mIndex.__setitem__\u001B[0;34m(self, key, value)\u001B[0m\n\u001B[1;32m   5369\u001B[0m \u001B[38;5;129m@final\u001B[39m\n\u001B[1;32m   5370\u001B[0m \u001B[38;5;28;01mdef\u001B[39;00m \u001B[38;5;21m__setitem__\u001B[39m(\u001B[38;5;28mself\u001B[39m, key, value) \u001B[38;5;241m-\u001B[39m\u001B[38;5;241m>\u001B[39m \u001B[38;5;28;01mNone\u001B[39;00m:\n\u001B[0;32m-> 5371\u001B[0m     \u001B[38;5;28;01mraise\u001B[39;00m \u001B[38;5;167;01mTypeError\u001B[39;00m(\u001B[38;5;124m\"\u001B[39m\u001B[38;5;124mIndex does not support mutable operations\u001B[39m\u001B[38;5;124m\"\u001B[39m)\n",
      "\u001B[0;31mTypeError\u001B[0m: Index does not support mutable operations"
     ]
    }
   ],
   "execution_count": 40
  },
  {
   "metadata": {},
   "cell_type": "markdown",
   "source": "常见的 Index 种类",
   "id": "418918fdcb802fd9"
  },
  {
   "metadata": {},
   "cell_type": "code",
   "outputs": [],
   "execution_count": null,
   "source": [
    "\"\"\"\n",
    "Index，索引\n",
    "• Int64Index，整数索引\n",
    "• MultiIndex，层级索引\n",
    "• DatetimeIndex，时间戳类型\n",
    "\"\"\"\n"
   ],
   "id": "6f5af3e7671712a3"
  },
  {
   "metadata": {},
   "cell_type": "markdown",
   "source": "index 指定行索引名",
   "id": "ad77ae3487e7dfc3"
  },
  {
   "metadata": {
    "ExecuteTime": {
     "end_time": "2025-01-07T10:56:36.735266Z",
     "start_time": "2025-01-07T10:56:36.722335Z"
    }
   },
   "cell_type": "code",
   "source": [
    "ser_obj = pd.Series(range(5), index = ['a', 'b', 'c', 'd', 'e'])\n",
    "print(ser_obj.head())\n",
    "\n",
    "\"\"\"\n",
    "等价于\n",
    "\n",
    "ser_obj = pd.Series(range(5), index = list(\"abcde\"))\n",
    "print(ser_obj)\n",
    "\n",
    "\"\"\""
   ],
   "id": "8ec9e2224325bf8e",
   "outputs": [
    {
     "name": "stdout",
     "output_type": "stream",
     "text": [
      "a    0\n",
      "b    1\n",
      "c    2\n",
      "d    3\n",
      "e    4\n",
      "dtype: int64\n"
     ]
    },
    {
     "data": {
      "text/plain": [
       "'\\n等价于\\n\\nser_obj = pd.Series(range(5), index = list(\"abcde\"))\\nprint(ser_obj)\\n\\n'"
      ]
     },
     "execution_count": 44,
     "metadata": {},
     "output_type": "execute_result"
    }
   ],
   "execution_count": 44
  },
  {
   "metadata": {},
   "cell_type": "markdown",
   "source": "行索引 iloc 和 loc",
   "id": "7a6ff0bdece1b7e"
  },
  {
   "metadata": {
    "ExecuteTime": {
     "end_time": "2025-01-07T11:03:27.193819Z",
     "start_time": "2025-01-07T11:03:27.191676Z"
    }
   },
   "cell_type": "code",
   "source": [
    "\n",
    "# print(ser_obj['b'])\n",
    "print(ser_obj.loc['b'])\n",
    "# print(ser_obj[2])\n",
    "\n",
    "\n",
    "print(ser_obj.iloc[2])"
   ],
   "id": "f97082ffe1e385c4",
   "outputs": [
    {
     "name": "stdout",
     "output_type": "stream",
     "text": [
      "1\n",
      "2\n"
     ]
    }
   ],
   "execution_count": 52
  },
  {
   "metadata": {},
   "cell_type": "markdown",
   "source": "切片索引 （也可以不连续多拿）",
   "id": "887c9ea6450efd29"
  },
  {
   "metadata": {
    "ExecuteTime": {
     "end_time": "2025-01-07T11:09:31.711095Z",
     "start_time": "2025-01-07T11:09:31.705707Z"
    }
   },
   "cell_type": "code",
   "source": [
    "\"\"\"\n",
    "想要拿多个不连续的结果，必须要用iloc 而且要双括号\n",
    "\"\"\"\n",
    "print(ser_obj.iloc[1:3])\n",
    "print(ser_obj.iloc[[1,3]])\n",
    "print(ser_obj['b':'d'])"
   ],
   "id": "becee7b7aa4ea392",
   "outputs": [
    {
     "name": "stdout",
     "output_type": "stream",
     "text": [
      "b    1\n",
      "c    2\n",
      "dtype: int64\n",
      "b    1\n",
      "d    3\n",
      "dtype: int64\n",
      "b    1\n",
      "c    2\n",
      "d    3\n",
      "dtype: int64\n"
     ]
    }
   ],
   "execution_count": 61
  },
  {
   "metadata": {},
   "cell_type": "markdown",
   "source": "",
   "id": "d44027fa903c2a42"
  },
  {
   "metadata": {},
   "cell_type": "markdown",
   "source": "布尔索引",
   "id": "e3f887cf4191bffa"
  },
  {
   "metadata": {},
   "cell_type": "code",
   "outputs": [],
   "execution_count": null,
   "source": [
    "\"\"\"\n",
    "将布尔类型的值放入series的[]中\n",
    "通过 ser_bool = ser_obj > 2 就能获得由ser_obj的index以及ser_obj是否满足表达式的T/F的新数组\n",
    "通过 ser_obj[ser_bool]可以筛选出值为True的结果 \n",
    "\"\"\""
   ],
   "id": "4b9bc1fd9fe5243a"
  },
  {
   "metadata": {
    "ExecuteTime": {
     "end_time": "2025-01-07T11:11:24.956672Z",
     "start_time": "2025-01-07T11:11:24.949788Z"
    }
   },
   "cell_type": "code",
   "source": [
    "ser_bool = ser_obj > 2\n",
    "print(ser_bool)\n",
    "print(ser_obj[ser_bool])\n",
    "print(ser_obj[ser_obj > 2])"
   ],
   "id": "4c648541cdc310a7",
   "outputs": [
    {
     "name": "stdout",
     "output_type": "stream",
     "text": [
      "a    False\n",
      "b    False\n",
      "c    False\n",
      "d     True\n",
      "e     True\n",
      "dtype: bool\n",
      "d    3\n",
      "e    4\n",
      "dtype: int64\n",
      "d    3\n",
      "e    4\n",
      "dtype: int64\n"
     ]
    }
   ],
   "execution_count": 62
  },
  {
   "metadata": {},
   "cell_type": "markdown",
   "source": "# DataFrame 索引",
   "id": "f56eff9798793305"
  },
  {
   "metadata": {},
   "cell_type": "markdown",
   "source": " columns 指定列索引名",
   "id": "4ef8067bf0a713e5"
  },
  {
   "metadata": {
    "ExecuteTime": {
     "end_time": "2025-01-07T11:19:12.435051Z",
     "start_time": "2025-01-07T11:19:12.427578Z"
    }
   },
   "cell_type": "code",
   "source": [
    "import numpy as np\n",
    "df_obj = pd.DataFrame(np.random.randn(5,4), columns = ['a', 'b', 'c', 'd'])\n",
    "print(df_obj.head())\n",
    "\n",
    "\n",
    "#注意一个括号和两个括号的区别\n",
    "print(df_obj['a']) # 返回 Series 类型\n",
    "print(df_obj[['a']]) # 返回 DataFrame 类型\n",
    "print(type(df_obj[['a']])) # 返回 DataFrame 类型"
   ],
   "id": "9d9a6dc298fd0264",
   "outputs": [
    {
     "name": "stdout",
     "output_type": "stream",
     "text": [
      "          a         b         c         d\n",
      "0 -1.452548  0.609084  0.247372 -1.252623\n",
      "1 -0.550220  1.135271  1.566372 -0.193620\n",
      "2  0.490408 -0.189111 -1.360726 -0.110084\n",
      "3 -0.587560  0.557006  0.599129 -0.952008\n",
      "4 -0.648627 -0.687047  0.409833  1.071766\n",
      "0   -1.452548\n",
      "1   -0.550220\n",
      "2    0.490408\n",
      "3   -0.587560\n",
      "4   -0.648627\n",
      "Name: a, dtype: float64\n",
      "          a\n",
      "0 -1.452548\n",
      "1 -0.550220\n",
      "2  0.490408\n",
      "3 -0.587560\n",
      "4 -0.648627\n",
      "<class 'pandas.core.frame.DataFrame'>\n"
     ]
    }
   ],
   "execution_count": 64
  },
  {
   "metadata": {},
   "cell_type": "markdown",
   "source": "不连续索引",
   "id": "499edc6b7c7f1293"
  },
  {
   "metadata": {
    "ExecuteTime": {
     "end_time": "2025-01-07T11:20:13.285420Z",
     "start_time": "2025-01-07T11:20:13.270218Z"
    }
   },
   "cell_type": "code",
   "source": "print(df_obj[['a','c']])",
   "id": "c028fd7a285e2b2b",
   "outputs": [
    {
     "name": "stdout",
     "output_type": "stream",
     "text": [
      "          a         c\n",
      "0 -1.452548  0.247372\n",
      "1 -0.550220  1.566372\n",
      "2  0.490408 -1.360726\n",
      "3 -0.587560  0.599129\n",
      "4 -0.648627  0.409833\n"
     ]
    }
   ],
   "execution_count": 65
  },
  {
   "metadata": {},
   "cell_type": "markdown",
   "source": [
    "# pandas 对齐运算\n",
    "总结：如果是不完全相同格式的两个series or df 进行运算，那么小数组没有的单元格结果为nan，\n"
   ],
   "id": "e8852fcdc44abc8b"
  },
  {
   "metadata": {},
   "cell_type": "markdown",
   "source": "Series 按行、索引对齐",
   "id": "949d64ebcac428b9"
  },
  {
   "metadata": {
    "ExecuteTime": {
     "end_time": "2025-01-07T11:24:08.191735Z",
     "start_time": "2025-01-07T11:24:08.188541Z"
    }
   },
   "cell_type": "code",
   "source": [
    "s1 = pd.Series(range(10, 20), index = range(10))\n",
    "s2 = pd.Series(range(20, 25), index = range(5))\n",
    "print('s1: ' )\n",
    "print(s1)\n",
    "print('')\n",
    "print('s2: ' )\n",
    "print(s2)"
   ],
   "id": "7cad9a60742b1f0a",
   "outputs": [
    {
     "name": "stdout",
     "output_type": "stream",
     "text": [
      "s1: \n",
      "0    10\n",
      "1    11\n",
      "2    12\n",
      "3    13\n",
      "4    14\n",
      "5    15\n",
      "6    16\n",
      "7    17\n",
      "8    18\n",
      "9    19\n",
      "dtype: int64\n",
      "\n",
      "s2: \n",
      "0    20\n",
      "1    21\n",
      "2    22\n",
      "3    23\n",
      "4    24\n",
      "dtype: int64\n"
     ]
    }
   ],
   "execution_count": 67
  },
  {
   "metadata": {},
   "cell_type": "markdown",
   "source": "对齐运算",
   "id": "69c25de1d6e99bd5"
  },
  {
   "metadata": {
    "ExecuteTime": {
     "end_time": "2025-01-07T11:24:51.063887Z",
     "start_time": "2025-01-07T11:24:51.056951Z"
    }
   },
   "cell_type": "code",
   "source": [
    "print('s1+s2: ')\n",
    "print(s1+s2)"
   ],
   "id": "7961e2780c0d50fb",
   "outputs": [
    {
     "name": "stdout",
     "output_type": "stream",
     "text": [
      "s1+s2: \n",
      "0    30.0\n",
      "1    32.0\n",
      "2    34.0\n",
      "3    36.0\n",
      "4    38.0\n",
      "5     NaN\n",
      "6     NaN\n",
      "7     NaN\n",
      "8     NaN\n",
      "9     NaN\n",
      "dtype: float64\n"
     ]
    }
   ],
   "execution_count": 68
  },
  {
   "metadata": {},
   "cell_type": "markdown",
   "source": "DataFrame 按行、列索引对齐",
   "id": "6698e126fd902716"
  },
  {
   "metadata": {
    "ExecuteTime": {
     "end_time": "2025-01-07T11:25:23.505423Z",
     "start_time": "2025-01-07T11:25:23.496723Z"
    }
   },
   "cell_type": "code",
   "source": [
    "df1 = pd.DataFrame(np.ones((2,2)), columns = ['a', 'b'])\n",
    "df2 = pd.DataFrame(np.ones((3,3)), columns = ['a', 'b', 'c'])\n",
    "print('df1: ')\n",
    "print(df1)\n",
    "print('')\n",
    "print('df2: ')\n",
    "print(df2)"
   ],
   "id": "d37c4a19911dcf0f",
   "outputs": [
    {
     "name": "stdout",
     "output_type": "stream",
     "text": [
      "df1: \n",
      "     a    b\n",
      "0  1.0  1.0\n",
      "1  1.0  1.0\n",
      "\n",
      "df2: \n",
      "     a    b    c\n",
      "0  1.0  1.0  1.0\n",
      "1  1.0  1.0  1.0\n",
      "2  1.0  1.0  1.0\n"
     ]
    }
   ],
   "execution_count": 69
  },
  {
   "metadata": {},
   "cell_type": "markdown",
   "source": "DataFrame 的对齐运算",
   "id": "f53a4a709698c5db"
  },
  {
   "metadata": {
    "ExecuteTime": {
     "end_time": "2025-01-07T11:25:50.447846Z",
     "start_time": "2025-01-07T11:25:50.442067Z"
    }
   },
   "cell_type": "code",
   "source": [
    "print('df1+df2: ')\n",
    "print(df1+df2)"
   ],
   "id": "e49c5470f86121af",
   "outputs": [
    {
     "name": "stdout",
     "output_type": "stream",
     "text": [
      "df1+df2: \n",
      "     a    b   c\n",
      "0  2.0  2.0 NaN\n",
      "1  2.0  2.0 NaN\n",
      "2  NaN  NaN NaN\n"
     ]
    }
   ],
   "execution_count": 70
  },
  {
   "metadata": {},
   "cell_type": "markdown",
   "source": "fill_value",
   "id": "d854a886d924be05"
  },
  {
   "metadata": {
    "ExecuteTime": {
     "end_time": "2025-01-07T11:27:23.849862Z",
     "start_time": "2025-01-07T11:27:23.838829Z"
    }
   },
   "cell_type": "code",
   "source": [
    "print(s1)\n",
    "print(s2)\n",
    "\n",
    "# add 操作， 将两个数组相加，有某个数组没有的部分单元格用fill_value来充当\n",
    "print(s1.add(s2, fill_value = 0))\n",
    "print(df1)\n",
    "print(df2)\n",
    "print(df1.sub(df2, fill_value = 2.))"
   ],
   "id": "acddfb4d5e00321c",
   "outputs": [
    {
     "name": "stdout",
     "output_type": "stream",
     "text": [
      "0    10\n",
      "1    11\n",
      "2    12\n",
      "3    13\n",
      "4    14\n",
      "5    15\n",
      "6    16\n",
      "7    17\n",
      "8    18\n",
      "9    19\n",
      "dtype: int64\n",
      "0    20\n",
      "1    21\n",
      "2    22\n",
      "3    23\n",
      "4    24\n",
      "dtype: int64\n",
      "0    30.0\n",
      "1    32.0\n",
      "2    34.0\n",
      "3    36.0\n",
      "4    38.0\n",
      "5    15.0\n",
      "6    16.0\n",
      "7    17.0\n",
      "8    18.0\n",
      "9    19.0\n",
      "dtype: float64\n",
      "     a    b\n",
      "0  1.0  1.0\n",
      "1  1.0  1.0\n",
      "     a    b    c\n",
      "0  1.0  1.0  1.0\n",
      "1  1.0  1.0  1.0\n",
      "2  1.0  1.0  1.0\n",
      "     a    b    c\n",
      "0  0.0  0.0  1.0\n",
      "1  0.0  0.0  1.0\n",
      "2  1.0  1.0  1.0\n"
     ]
    }
   ],
   "execution_count": 71
  },
  {
   "metadata": {},
   "cell_type": "markdown",
   "source": "# Pandas 的函数应用",
   "id": "a9cc7a08942d845d"
  },
  {
   "metadata": {
    "ExecuteTime": {
     "end_time": "2025-01-07T11:30:13.118160Z",
     "start_time": "2025-01-07T11:30:13.103021Z"
    }
   },
   "cell_type": "code",
   "source": [
    "# Numpy ufunc 函数\n",
    "df = pd.DataFrame(np.random.randn(5,4) - 1)\n",
    "print(df)\n",
    "print(np.abs(df))"
   ],
   "id": "1c9849795f982181",
   "outputs": [
    {
     "name": "stdout",
     "output_type": "stream",
     "text": [
      "          0         1         2         3\n",
      "0 -1.228915 -0.908625 -0.869549 -0.337376\n",
      "1 -1.563762 -0.962342 -0.482217  0.641074\n",
      "2 -0.873507 -3.320854 -1.346919 -0.906709\n",
      "3 -0.708836 -2.588101 -1.623267 -1.327921\n",
      "4 -0.403871  0.757705 -0.757759 -0.289624\n",
      "          0         1         2         3\n",
      "0  1.228915  0.908625  0.869549  0.337376\n",
      "1  1.563762  0.962342  0.482217  0.641074\n",
      "2  0.873507  3.320854  1.346919  0.906709\n",
      "3  0.708836  2.588101  1.623267  1.327921\n",
      "4  0.403871  0.757705  0.757759  0.289624\n"
     ]
    }
   ],
   "execution_count": 72
  },
  {
   "metadata": {},
   "cell_type": "markdown",
   "source": "通过 apply 将函数应用到列或行上",
   "id": "7fb52946310575cf"
  },
  {
   "metadata": {
    "ExecuteTime": {
     "end_time": "2025-01-07T11:31:04.865588Z",
     "start_time": "2025-01-07T11:31:04.858052Z"
    }
   },
   "cell_type": "code",
   "source": [
    "#f = lambda x : x.max()\n",
    "print(df.apply(lambda x : x.max()))\n",
    "# 指定轴方向，axis=1，方向是行\n",
    "print(df.apply(lambda x : x.max(), axis=1))"
   ],
   "id": "9f93e5d6852f0899",
   "outputs": [
    {
     "name": "stdout",
     "output_type": "stream",
     "text": [
      "0   -0.403871\n",
      "1    0.757705\n",
      "2   -0.482217\n",
      "3    0.641074\n",
      "dtype: float64\n",
      "0   -0.337376\n",
      "1    0.641074\n",
      "2   -0.873507\n",
      "3   -0.708836\n",
      "4    0.757705\n",
      "dtype: float64\n"
     ]
    }
   ],
   "execution_count": 73
  },
  {
   "metadata": {},
   "cell_type": "markdown",
   "source": "通过 map 将函数应用到每个数据上",
   "id": "d1d97759510ae028"
  },
  {
   "metadata": {
    "ExecuteTime": {
     "end_time": "2025-01-07T11:32:08.426990Z",
     "start_time": "2025-01-07T11:32:08.422843Z"
    }
   },
   "cell_type": "code",
   "source": [
    "# 使用 map 应用到每个数据\n",
    "f2 = lambda x : '%.2f' % x\n",
    "print(df.map(f2))"
   ],
   "id": "c2122a7f026390a6",
   "outputs": [
    {
     "name": "stdout",
     "output_type": "stream",
     "text": [
      "       0      1      2      3\n",
      "0  -1.23  -0.91  -0.87  -0.34\n",
      "1  -1.56  -0.96  -0.48   0.64\n",
      "2  -0.87  -3.32  -1.35  -0.91\n",
      "3  -0.71  -2.59  -1.62  -1.33\n",
      "4  -0.40   0.76  -0.76  -0.29\n"
     ]
    }
   ],
   "execution_count": 74
  },
  {
   "metadata": {},
   "cell_type": "markdown",
   "source": "按索引排序 sort_index(index)",
   "id": "21c35be388db13e4"
  },
  {
   "metadata": {
    "ExecuteTime": {
     "end_time": "2025-01-07T11:34:38.224465Z",
     "start_time": "2025-01-07T11:34:38.219648Z"
    }
   },
   "cell_type": "code",
   "source": [
    "# Series\n",
    "s4 = pd.Series(range(10, 15), index = np.random.randint(5, size=5))\n",
    "print(s4)\n",
    "# 索引排序\n",
    "print(s4.sort_index()) # 0 0 1 3 3\n",
    "\n",
    "# DataFrame (df要考虑选择轴的方向)\n",
    "df4 = pd.DataFrame(np.random.randn(3, 5),\n",
    "index=np.random.randint(3, size=3),\n",
    "columns=np.random.randint(5, size=5))\n",
    "print(df4)\n",
    "df4_isort = df4.sort_index(axis=1, ascending=False)\n",
    "print(df4_isort) # 4 2 1 1 0"
   ],
   "id": "7933580c807a5997",
   "outputs": [
    {
     "name": "stdout",
     "output_type": "stream",
     "text": [
      "2    10\n",
      "1    11\n",
      "3    12\n",
      "4    13\n",
      "2    14\n",
      "dtype: int64\n",
      "1    11\n",
      "2    10\n",
      "2    14\n",
      "3    12\n",
      "4    13\n",
      "dtype: int64\n",
      "          0         3         0         1         3\n",
      "1 -1.181883 -1.084860 -0.502311  0.391148  0.109554\n",
      "2  0.930160  0.700336  1.158347 -0.504704 -0.190440\n",
      "0  1.510712  0.993301 -0.871240 -0.499242  0.210218\n",
      "          3         3         1         0         0\n",
      "1 -1.084860  0.109554  0.391148 -1.181883 -0.502311\n",
      "2  0.700336 -0.190440 -0.504704  0.930160  1.158347\n",
      "0  0.993301  0.210218 -0.499242  1.510712 -0.871240\n"
     ]
    }
   ],
   "execution_count": 81
  },
  {
   "metadata": {},
   "cell_type": "markdown",
   "source": "按值排序 sort_values(by = columnName)",
   "id": "48dbd3be0cc85979"
  },
  {
   "metadata": {
    "ExecuteTime": {
     "end_time": "2025-01-07T11:38:35.005220Z",
     "start_time": "2025-01-07T11:38:34.999678Z"
    }
   },
   "cell_type": "code",
   "source": [
    "df4_vsort = df4.sort_values(by=1, ascending=True)\n",
    "print(df4_vsort)"
   ],
   "id": "241d4d1684039dd3",
   "outputs": [
    {
     "name": "stdout",
     "output_type": "stream",
     "text": [
      "          0         3         0         1         3\n",
      "2  0.930160  0.700336  1.158347 -0.504704 -0.190440\n",
      "0  1.510712  0.993301 -0.871240 -0.499242  0.210218\n",
      "1 -1.181883 -1.084860 -0.502311  0.391148  0.109554\n"
     ]
    }
   ],
   "execution_count": 84
  },
  {
   "metadata": {},
   "cell_type": "markdown",
   "source": "处理缺失数据",
   "id": "1ce3a583becb938e"
  },
  {
   "metadata": {
    "ExecuteTime": {
     "end_time": "2025-01-07T11:39:43.424703Z",
     "start_time": "2025-01-07T11:39:43.419906Z"
    }
   },
   "cell_type": "code",
   "source": [
    "df_data = pd.DataFrame([np.random.randn(3), [1., 2., np.nan],\n",
    "[np.nan, 4., np.nan], [1., 2., 3.]])\n",
    "print(df_data.head())"
   ],
   "id": "18009444142bca3d",
   "outputs": [
    {
     "name": "stdout",
     "output_type": "stream",
     "text": [
      "          0         1         2\n",
      "0 -1.653292 -0.361403 -1.193158\n",
      "1  1.000000  2.000000       NaN\n",
      "2       NaN  4.000000       NaN\n",
      "3  1.000000  2.000000  3.000000\n"
     ]
    }
   ],
   "execution_count": 85
  },
  {
   "metadata": {},
   "cell_type": "markdown",
   "source": [
    "1. 判断是否存在缺失值\n",
    "\n"
   ],
   "id": "ee74d20f4ee01fc1"
  },
  {
   "metadata": {
    "ExecuteTime": {
     "end_time": "2025-01-07T11:40:42.457004Z",
     "start_time": "2025-01-07T11:40:42.452226Z"
    }
   },
   "cell_type": "code",
   "source": "print(df_data.isnull())",
   "id": "14975ac398a1c195",
   "outputs": [
    {
     "name": "stdout",
     "output_type": "stream",
     "text": [
      "       0      1      2\n",
      "0  False  False  False\n",
      "1  False  False   True\n",
      "2   True  False   True\n",
      "3  False  False  False\n"
     ]
    }
   ],
   "execution_count": 86
  },
  {
   "metadata": {},
   "cell_type": "markdown",
   "source": "2. 丢弃缺失数据：dropna()",
   "id": "abcc87b3a3e91aa6"
  },
  {
   "metadata": {
    "ExecuteTime": {
     "end_time": "2025-01-07T11:41:10.786986Z",
     "start_time": "2025-01-07T11:41:10.779214Z"
    }
   },
   "cell_type": "code",
   "source": [
    "# dropna\n",
    "print(df_data.dropna())\n",
    "print(df_data.dropna(axis=1))"
   ],
   "id": "2ed493777f5b6cc6",
   "outputs": [
    {
     "name": "stdout",
     "output_type": "stream",
     "text": [
      "          0         1         2\n",
      "0 -1.653292 -0.361403 -1.193158\n",
      "3  1.000000  2.000000  3.000000\n",
      "          1\n",
      "0 -0.361403\n",
      "1  2.000000\n",
      "2  4.000000\n",
      "3  2.000000\n"
     ]
    }
   ],
   "execution_count": 87
  },
  {
   "metadata": {},
   "cell_type": "markdown",
   "source": "3. 填充缺失数据：fillna()",
   "id": "b9181a12f16f23b2"
  },
  {
   "metadata": {
    "ExecuteTime": {
     "end_time": "2025-01-07T11:42:41.379247Z",
     "start_time": "2025-01-07T11:42:41.375146Z"
    }
   },
   "cell_type": "code",
   "source": [
    "# fillna\n",
    "print(df_data.fillna(-100.))"
   ],
   "id": "2534979c3008f9cf",
   "outputs": [
    {
     "name": "stdout",
     "output_type": "stream",
     "text": [
      "            0         1           2\n",
      "0   -1.653292 -0.361403   -1.193158\n",
      "1    1.000000  2.000000 -100.000000\n",
      "2 -100.000000  4.000000 -100.000000\n",
      "3    1.000000  2.000000    3.000000\n"
     ]
    }
   ],
   "execution_count": 88
  },
  {
   "metadata": {},
   "cell_type": "markdown",
   "source": "# 层级索引（hierarchical indexing）",
   "id": "9526d099a301c40e"
  },
  {
   "metadata": {
    "ExecuteTime": {
     "end_time": "2025-01-07T11:47:10.427346Z",
     "start_time": "2025-01-07T11:47:10.421636Z"
    }
   },
   "cell_type": "code",
   "source": [
    "import pandas as pd\n",
    "import numpy as np\n",
    "ser_obj = pd.Series(np.random.randn(12),index=[\n",
    "    [0, 1, 2, 0, 1, 2, 0, 1, 2, 0, 1, 2],\n",
    "['a', 'a', 'a', 'b', 'b', 'b', 'c', 'c', 'c', 'd', 'd',\n",
    "'d']\n",
    "\n",
    "])\n",
    "print(ser_obj)\n",
    "\n",
    "\n",
    "print(type(ser_obj.index))\n",
    "print(ser_obj.index)"
   ],
   "id": "654c43bba1157cc7",
   "outputs": [
    {
     "name": "stdout",
     "output_type": "stream",
     "text": [
      "0  a    0.769137\n",
      "1  a    1.782282\n",
      "2  a   -0.088519\n",
      "0  b    0.789527\n",
      "1  b    0.428485\n",
      "2  b    0.607451\n",
      "0  c    2.070879\n",
      "1  c   -1.890356\n",
      "2  c   -0.769617\n",
      "0  d   -0.520448\n",
      "1  d    0.523286\n",
      "2  d   -0.616606\n",
      "dtype: float64\n",
      "<class 'pandas.core.indexes.multi.MultiIndex'>\n",
      "MultiIndex([(0, 'a'),\n",
      "            (1, 'a'),\n",
      "            (2, 'a'),\n",
      "            (0, 'b'),\n",
      "            (1, 'b'),\n",
      "            (2, 'b'),\n",
      "            (0, 'c'),\n",
      "            (1, 'c'),\n",
      "            (2, 'c'),\n",
      "            (0, 'd'),\n",
      "            (1, 'd'),\n",
      "            (2, 'd')],\n",
      "           )\n"
     ]
    }
   ],
   "execution_count": 96
  },
  {
   "metadata": {},
   "cell_type": "markdown",
   "source": "如何选取子集(都是通过index名字选，不是下标)",
   "id": "202ab73a796c3445"
  },
  {
   "metadata": {},
   "cell_type": "markdown",
   "source": "1.外层选取",
   "id": "295a2a88b570381b"
  },
  {
   "metadata": {
    "ExecuteTime": {
     "end_time": "2025-01-07T11:47:32.208705Z",
     "start_time": "2025-01-07T11:47:32.205275Z"
    }
   },
   "cell_type": "code",
   "source": [
    "# 外层选取\n",
    "print(ser_obj[1])"
   ],
   "id": "6628ee2a31c77744",
   "outputs": [
    {
     "name": "stdout",
     "output_type": "stream",
     "text": [
      "a    1.782282\n",
      "b    0.428485\n",
      "c   -1.890356\n",
      "d    0.523286\n",
      "dtype: float64\n"
     ]
    }
   ],
   "execution_count": 101
  },
  {
   "metadata": {},
   "cell_type": "markdown",
   "source": "2.内层选取",
   "id": "3181c92bb92d6c7f"
  },
  {
   "metadata": {
    "ExecuteTime": {
     "end_time": "2025-01-07T11:47:18.738354Z",
     "start_time": "2025-01-07T11:47:18.736187Z"
    }
   },
   "cell_type": "code",
   "source": [
    "# 内层选取\n",
    "print(ser_obj[:, 'a'])"
   ],
   "id": "3f8065b368cd5f04",
   "outputs": [
    {
     "name": "stdout",
     "output_type": "stream",
     "text": [
      "0    0.769137\n",
      "1    1.782282\n",
      "2   -0.088519\n",
      "dtype: float64\n"
     ]
    }
   ],
   "execution_count": 99
  },
  {
   "metadata": {},
   "cell_type": "markdown",
   "source": "3.交换分层顺序",
   "id": "103f4bea728722c6"
  },
  {
   "metadata": {
    "ExecuteTime": {
     "end_time": "2025-01-07T11:48:09.015659Z",
     "start_time": "2025-01-07T11:48:09.009100Z"
    }
   },
   "cell_type": "code",
   "source": "print(ser_obj.swaplevel())",
   "id": "36930e71fcf8130d",
   "outputs": [
    {
     "name": "stdout",
     "output_type": "stream",
     "text": [
      "a  0    0.769137\n",
      "   1    1.782282\n",
      "   2   -0.088519\n",
      "b  0    0.789527\n",
      "   1    0.428485\n",
      "   2    0.607451\n",
      "c  0    2.070879\n",
      "   1   -1.890356\n",
      "   2   -0.769617\n",
      "d  0   -0.520448\n",
      "   1    0.523286\n",
      "   2   -0.616606\n",
      "dtype: float64\n"
     ]
    }
   ],
   "execution_count": 102
  },
  {
   "metadata": {},
   "cell_type": "markdown",
   "source": "4.堆叠",
   "id": "ade973d647b2fb75"
  },
  {
   "metadata": {
    "ExecuteTime": {
     "end_time": "2025-01-07T11:49:55.981532Z",
     "start_time": "2025-01-07T11:49:55.975875Z"
    }
   },
   "cell_type": "code",
   "source": [
    "print(ser_obj.unstack(0))\n",
    "ser_obj2 = pd.Series(np.random.randn(12), index = [\n",
    "['a', 'a', 'a', 'b', 'b', 'b', 'c', 'c', 'c', 'd', 'd', 'd'], [0, 1, 2, 0, 1, 2, 0, 1, 2, 0, 1, 2]\n",
    "])\n",
    "print(ser_obj2)"
   ],
   "id": "c10f9f4a404808a0",
   "outputs": [
    {
     "name": "stdout",
     "output_type": "stream",
     "text": [
      "          0         1         2\n",
      "a  0.769137  1.782282 -0.088519\n",
      "b  0.789527  0.428485  0.607451\n",
      "c  2.070879 -1.890356 -0.769617\n",
      "d -0.520448  0.523286 -0.616606\n",
      "a  0   -0.556159\n",
      "   1   -0.945345\n",
      "   2    0.589956\n",
      "b  0   -0.903250\n",
      "   1   -0.767121\n",
      "   2   -0.430723\n",
      "c  0   -0.479303\n",
      "   1    0.802322\n",
      "   2   -0.312037\n",
      "d  0    1.757873\n",
      "   1   -1.265468\n",
      "   2    1.368053\n",
      "dtype: float64\n"
     ]
    }
   ],
   "execution_count": 106
  },
  {
   "metadata": {},
   "cell_type": "markdown",
   "source": "",
   "id": "efae3c4328288711"
  },
  {
   "metadata": {},
   "cell_type": "markdown",
   "source": "unstack 将 Series -> DataFrame",
   "id": "fcfc855625a6f152"
  },
  {
   "metadata": {
    "ExecuteTime": {
     "end_time": "2025-01-07T11:50:48.279191Z",
     "start_time": "2025-01-07T11:50:48.276048Z"
    }
   },
   "cell_type": "code",
   "source": [
    "df_obj = ser_obj2.unstack(0)\n",
    "print(df_obj)"
   ],
   "id": "4da34e8fa60a9d64",
   "outputs": [
    {
     "name": "stdout",
     "output_type": "stream",
     "text": [
      "          a         b         c         d\n",
      "0 -0.556159 -0.903250 -0.479303  1.757873\n",
      "1 -0.945345 -0.767121  0.802322 -1.265468\n",
      "2  0.589956 -0.430723 -0.312037  1.368053\n"
     ]
    }
   ],
   "execution_count": 107
  },
  {
   "metadata": {},
   "cell_type": "markdown",
   "source": "stack() 将 DataFrame -> Series",
   "id": "a5e870c5ee973223"
  },
  {
   "metadata": {
    "ExecuteTime": {
     "end_time": "2025-01-07T11:51:18.720842Z",
     "start_time": "2025-01-07T11:51:18.716201Z"
    }
   },
   "cell_type": "code",
   "source": "print(df_obj.stack())",
   "id": "ad09e2d3e34b2cd3",
   "outputs": [
    {
     "name": "stdout",
     "output_type": "stream",
     "text": [
      "0  a   -0.556159\n",
      "   b   -0.903250\n",
      "   c   -0.479303\n",
      "   d    1.757873\n",
      "1  a   -0.945345\n",
      "   b   -0.767121\n",
      "   c    0.802322\n",
      "   d   -1.265468\n",
      "2  a    0.589956\n",
      "   b   -0.430723\n",
      "   c   -0.312037\n",
      "   d    1.368053\n",
      "dtype: float64\n"
     ]
    }
   ],
   "execution_count": 108
  },
  {
   "metadata": {},
   "cell_type": "markdown",
   "source": "# pandas 统计与描述",
   "id": "62f55325aaa66ea9"
  },
  {
   "metadata": {
    "ExecuteTime": {
     "end_time": "2025-01-07T11:53:39.716445Z",
     "start_time": "2025-01-07T11:53:39.709261Z"
    }
   },
   "cell_type": "code",
   "source": [
    "import numpy as np\n",
    "import pandas as pd\n",
    "df_obj = pd.DataFrame(np.random.randn(5,4), columns = ['a', 'b', 'c', 'd'])\n",
    "print(df_obj)\n",
    "print(df_obj.sum())\n",
    "print(df_obj.max())\n",
    "print(df_obj.min(axis=1, skipna=False))"
   ],
   "id": "d86998d701ad74e7",
   "outputs": [
    {
     "name": "stdout",
     "output_type": "stream",
     "text": [
      "          a         b         c         d\n",
      "0  1.666867 -0.561324 -0.551192  0.347754\n",
      "1 -0.242166 -0.023851  1.536320  0.445073\n",
      "2  0.110112  0.308848  0.348731 -0.406085\n",
      "3 -1.284338 -1.496957  0.354362  0.186617\n",
      "4 -0.274482  0.185534  0.434339  0.925188\n",
      "a   -0.024008\n",
      "b   -1.587749\n",
      "c    2.122560\n",
      "d    1.498546\n",
      "dtype: float64\n",
      "a    1.666867\n",
      "b    0.308848\n",
      "c    1.536320\n",
      "d    0.925188\n",
      "dtype: float64\n",
      "0   -0.561324\n",
      "1   -0.242166\n",
      "2   -0.406085\n",
      "3   -1.496957\n",
      "4   -0.274482\n",
      "dtype: float64\n"
     ]
    }
   ],
   "execution_count": 112
  },
  {
   "metadata": {},
   "cell_type": "markdown",
   "source": "describe 产生多个统计数据",
   "id": "eb70891e2d19b3fe"
  },
  {
   "metadata": {
    "ExecuteTime": {
     "end_time": "2025-01-07T11:54:23.654892Z",
     "start_time": "2025-01-07T11:54:23.648367Z"
    }
   },
   "cell_type": "code",
   "source": "print(df_obj.describe())",
   "id": "119b1db713de4c52",
   "outputs": [
    {
     "name": "stdout",
     "output_type": "stream",
     "text": [
      "              a         b         c         d\n",
      "count  5.000000  5.000000  5.000000  5.000000\n",
      "mean  -0.004802 -0.317550  0.424512  0.299709\n",
      "std    1.069341  0.738606  0.741430  0.481040\n",
      "min   -1.284338 -1.496957 -0.551192 -0.406085\n",
      "25%   -0.274482 -0.561324  0.348731  0.186617\n",
      "50%   -0.242166 -0.023851  0.354362  0.347754\n",
      "75%    0.110112  0.185534  0.434339  0.445073\n",
      "max    1.666867  0.308848  1.536320  0.925188\n"
     ]
    }
   ],
   "execution_count": 113
  },
  {
   "metadata": {
    "ExecuteTime": {
     "end_time": "2025-01-07T12:15:08.658203Z",
     "start_time": "2025-01-07T12:15:08.428634Z"
    }
   },
   "cell_type": "code",
   "source": [
    "import pandas as pd\n",
    "import numpy as np\n",
    "from matplotlib import pyplot as plt\n",
    "file_path = \"IMDB-Movie-Data.csv.xls\"\n",
    "df = pd.read_csv(file_path)\n",
    "# 打印数据信息\n",
    "print(df.info())\n",
    "print(df.head(1))\n",
    "# 获取平均评分\n",
    "print(df[\"Rating\"].mean())\n",
    "# 导演的人数\n",
    "print(len(set(df[\"Director\"].tolist())))\n",
    "# or \n",
    "print(len(df[\"Director\"].unique()))\n",
    "# 获取演员的人数\n",
    "temp_actors_list = df[\"Actors\"].str.split(\", \").tolist()\n",
    "actors_list = [i for j in temp_actors_list for i in j]\n",
    "actors_num = len(set(actors_list))\n",
    "print(actors_num)\n",
    "# rating,runtime 分布情况\n",
    "# 选择图形，直方图\n",
    "# 准备数据\n",
    "runtime_data = df[\"Runtime (Minutes)\"].values\n",
    "max_runtime = runtime_data.max()\n",
    "min_runtime = runtime_data.min()\n",
    "# 计算组数\n",
    "print(max_runtime - min_runtime)\n",
    "num_bin = (max_runtime - min_runtime) // 5\n",
    "# 设置图形的大小\n",
    "plt.figure(figsize=(20, 8), dpi=80)\n",
    "# 第二个 bins 参数必须为 int 或 sequence 或 str，bins 代表划分为多少个单元\n",
    "plt.hist(runtime_data, int(num_bin))\n",
    "plt.xticks(range(min_runtime, max_runtime + 5, 5))\n",
    "plt.show()"
   ],
   "id": "a5250dcc43ebd506",
   "outputs": [
    {
     "name": "stdout",
     "output_type": "stream",
     "text": [
      "<class 'pandas.core.frame.DataFrame'>\n",
      "RangeIndex: 1000 entries, 0 to 999\n",
      "Data columns (total 12 columns):\n",
      " #   Column              Non-Null Count  Dtype  \n",
      "---  ------              --------------  -----  \n",
      " 0   Rank                1000 non-null   int64  \n",
      " 1   Title               1000 non-null   object \n",
      " 2   Genre               1000 non-null   object \n",
      " 3   Description         1000 non-null   object \n",
      " 4   Director            1000 non-null   object \n",
      " 5   Actors              1000 non-null   object \n",
      " 6   Year                1000 non-null   int64  \n",
      " 7   Runtime (Minutes)   1000 non-null   int64  \n",
      " 8   Rating              1000 non-null   float64\n",
      " 9   Votes               1000 non-null   int64  \n",
      " 10  Revenue (Millions)  872 non-null    float64\n",
      " 11  Metascore           936 non-null    float64\n",
      "dtypes: float64(3), int64(4), object(5)\n",
      "memory usage: 93.9+ KB\n",
      "None\n",
      "   Rank                    Title                    Genre  \\\n",
      "0     1  Guardians of the Galaxy  Action,Adventure,Sci-Fi   \n",
      "\n",
      "                                         Description    Director  \\\n",
      "0  A group of intergalactic criminals are forced ...  James Gunn   \n",
      "\n",
      "                                              Actors  Year  Runtime (Minutes)  \\\n",
      "0  Chris Pratt, Vin Diesel, Bradley Cooper, Zoe S...  2014                121   \n",
      "\n",
      "   Rating   Votes  Revenue (Millions)  Metascore  \n",
      "0     8.1  757074              333.13       76.0  \n",
      "6.723199999999999\n",
      "644\n",
      "644\n",
      "2015\n",
      "125\n"
     ]
    },
    {
     "data": {
      "text/plain": [
       "<Figure size 1600x640 with 1 Axes>"
      ],
      "image/png": "[encoded data removed]"
     },
     "metadata": {},
     "output_type": "display_data"
    }
   ],
   "execution_count": 125
  },
  {
   "metadata": {
    "ExecuteTime": {
     "end_time": "2025-01-07T12:23:04.716672Z",
     "start_time": "2025-01-07T12:23:04.634267Z"
    }
   },
   "cell_type": "code",
   "source": [
    "\"\"\"\n",
    "评分的直方图\n",
    "\"\"\"\n",
    "df = pd.read_csv(file_path)\n",
    "# 打印数据信息\n",
    "print(df.info())\n",
    "print(df.head(1))\n",
    "# 获取平均评分\n",
    "print(df[\"Rating\"].mean())\n",
    "# 导演的人数\n",
    "print(len(set(df[\"Director\"].tolist())))\n",
    "print(len(df[\"Director\"].unique()))\n",
    "# 获取演员的人数\n",
    "temp_actors_list = df[\"Actors\"].str.split(\", \").tolist()\n",
    "actors_list = [i for j in temp_actors_list for i in j]\n",
    "actors_num = len(set(actors_list))\n",
    "print(actors_num)\n",
    "# rating,runtime 分布情况\n",
    "# 选择图形，直方图\n",
    "# 准备数据\n",
    "runtime_data = df[\"Rating\"].values\n",
    "max_runtime = runtime_data.max()\n",
    "min_runtime = runtime_data.min()\n",
    "# 计算组数\n",
    "print(max_runtime - min_runtime)\n",
    "num_bin = (max_runtime - min_runtime) // 0.5\n",
    "# 设置图形的大小\n",
    "plt.figure(figsize=(20, 8), dpi=80)\n",
    "# 第二个 bins 参数必须为 int 或 sequence 或 str，bins 代表划分为多少个单元\n",
    "plt.hist(runtime_data, int(num_bin))\n",
    "_x = [min_runtime]\n",
    "i = min_runtime\n",
    "while i <= max_runtime + 0.5:\n",
    "    i = i + 0.5\n",
    "    _x.append(i)\n",
    "plt.xticks(_x)\n",
    "plt.grid()\n",
    "plt.show()"
   ],
   "id": "2201ddcb2b1166b3",
   "outputs": [
    {
     "name": "stdout",
     "output_type": "stream",
     "text": [
      "<class 'pandas.core.frame.DataFrame'>\n",
      "RangeIndex: 1000 entries, 0 to 999\n",
      "Data columns (total 12 columns):\n",
      " #   Column              Non-Null Count  Dtype  \n",
      "---  ------              --------------  -----  \n",
      " 0   Rank                1000 non-null   int64  \n",
      " 1   Title               1000 non-null   object \n",
      " 2   Genre               1000 non-null   object \n",
      " 3   Description         1000 non-null   object \n",
      " 4   Director            1000 non-null   object \n",
      " 5   Actors              1000 non-null   object \n",
      " 6   Year                1000 non-null   int64  \n",
      " 7   Runtime (Minutes)   1000 non-null   int64  \n",
      " 8   Rating              1000 non-null   float64\n",
      " 9   Votes               1000 non-null   int64  \n",
      " 10  Revenue (Millions)  872 non-null    float64\n",
      " 11  Metascore           936 non-null    float64\n",
      "dtypes: float64(3), int64(4), object(5)\n",
      "memory usage: 93.9+ KB\n",
      "None\n",
      "   Rank                    Title                    Genre  \\\n",
      "0     1  Guardians of the Galaxy  Action,Adventure,Sci-Fi   \n",
      "\n",
      "                                         Description    Director  \\\n",
      "0  A group of intergalactic criminals are forced ...  James Gunn   \n",
      "\n",
      "                                              Actors  Year  Runtime (Minutes)  \\\n",
      "0  Chris Pratt, Vin Diesel, Bradley Cooper, Zoe S...  2014                121   \n",
      "\n",
      "   Rating   Votes  Revenue (Millions)  Metascore  \n",
      "0     8.1  757074              333.13       76.0  \n",
      "6.723199999999999\n",
      "644\n",
      "644\n",
      "2015\n",
      "7.1\n"
     ]
    },
    {
     "data": {
      "text/plain": [
       "<Figure size 1600x640 with 1 Axes>"
      ],
      "image/png": "[encoded data removed]"
     },
     "metadata": {},
     "output_type": "display_data"
    }
   ],
   "execution_count": 128
  },
  {
   "metadata": {},
   "cell_type": "markdown",
   "source": "# pandas 分组与聚合",
   "id": "39d328f9f0945d1"
  },
  {
   "metadata": {
    "ExecuteTime": {
     "end_time": "2025-01-07T12:30:06.988606Z",
     "start_time": "2025-01-07T12:30:05.274507Z"
    }
   },
   "cell_type": "code",
   "source": [
    "df = pd.read_csv(\"./911.csv\")\n",
    "print(df.head(5))\n",
    "# 获取分类\n",
    "# print()df[\"title\"].str.split(\": \")\n",
    "temp_list = df[\"title\"].str.split(\": \").tolist()\n",
    "cate_list = list(set([i[0] for i in temp_list]))\n",
    "print(cate_list)\n",
    "print('*' * 50)\n",
    "# 构造全为 0 的数组\n",
    "zeros_df = pd.DataFrame(np.zeros((df.shape[0], len(cate_list))),columns=cate_list)\n",
    "print(zeros_df)\n",
    "# 赋值，对未赋值 True 的地方赋值为 1\n",
    "for cate in cate_list:\n",
    "    zeros_df[cate][df[\"title\"].str.contains(cate)] = 1\n",
    "# break #查看第一列\n",
    "# print(zeros_df)\n",
    "# 求和即可得到\n",
    "sum_ret = zeros_df.sum(axis=0)\n",
    "print(sum_ret)"
   ],
   "id": "ec3a80ebdb9cea76",
   "outputs": [
    {
     "name": "stdout",
     "output_type": "stream",
     "text": [
      "         lat        lng                                               desc  \\\n",
      "0  40.297876 -75.581294  REINDEER CT & DEAD END;  NEW HANOVER; Station ...   \n",
      "1  40.258061 -75.264680  BRIAR PATH & WHITEMARSH LN;  HATFIELD TOWNSHIP...   \n",
      "2  40.121182 -75.351975  HAWS AVE; NORRISTOWN; 2015-12-10 @ 14:39:21-St...   \n",
      "3  40.116153 -75.343513  AIRY ST & SWEDE ST;  NORRISTOWN; Station 308A;...   \n",
      "4  40.251492 -75.603350  CHERRYWOOD CT & DEAD END;  LOWER POTTSGROVE; S...   \n",
      "\n",
      "       zip                    title            timeStamp                twp  \\\n",
      "0  19525.0   EMS: BACK PAINS/INJURY  2015-12-10 17:10:52        NEW HANOVER   \n",
      "1  19446.0  EMS: DIABETIC EMERGENCY  2015-12-10 17:29:21  HATFIELD TOWNSHIP   \n",
      "2  19401.0      Fire: GAS-ODOR/LEAK  2015-12-10 14:39:21         NORRISTOWN   \n",
      "3  19401.0   EMS: CARDIAC EMERGENCY  2015-12-10 16:47:36         NORRISTOWN   \n",
      "4      NaN           EMS: DIZZINESS  2015-12-10 16:56:52   LOWER POTTSGROVE   \n",
      "\n",
      "                         addr  e  \n",
      "0      REINDEER CT & DEAD END  1  \n",
      "1  BRIAR PATH & WHITEMARSH LN  1  \n",
      "2                    HAWS AVE  1  \n",
      "3          AIRY ST & SWEDE ST  1  \n",
      "4    CHERRYWOOD CT & DEAD END  1  \n",
      "['Fire', 'Traffic', 'EMS']\n"
     ]
    }
   ],
   "execution_count": 130
  },
  {
   "metadata": {
    "ExecuteTime": {
     "end_time": "2025-01-07T12:31:06.810214Z",
     "start_time": "2025-01-07T12:31:06.795119Z"
    }
   },
   "cell_type": "code",
   "source": "",
   "id": "246172647418ab25",
   "outputs": [
    {
     "data": {
      "text/plain": [
       "        Fire  Traffic  EMS\n",
       "0        0.0      0.0  0.0\n",
       "1        0.0      0.0  0.0\n",
       "2        0.0      0.0  0.0\n",
       "3        0.0      0.0  0.0\n",
       "4        0.0      0.0  0.0\n",
       "...      ...      ...  ...\n",
       "663517   0.0      0.0  0.0\n",
       "663518   0.0      0.0  0.0\n",
       "663519   0.0      0.0  0.0\n",
       "663520   0.0      0.0  0.0\n",
       "663521   0.0      0.0  0.0\n",
       "\n",
       "[663522 rows x 3 columns]"
      ],
      "text/html": [
       "<div>\n",
       "<style scoped>\n",
       "    .dataframe tbody tr th:only-of-type {\n",
       "        vertical-align: middle;\n",
       "    }\n",
       "\n",
       "    .dataframe tbody tr th {\n",
       "        vertical-align: top;\n",
       "    }\n",
       "\n",
       "    .dataframe thead th {\n",
       "        text-align: right;\n",
       "    }\n",
       "</style>\n",
       "<table border=\"1\" class=\"dataframe\">\n",
       "  <thead>\n",
       "    <tr style=\"text-align: right;\">\n",
       "      <th></th>\n",
       "      <th>Fire</th>\n",
       "      <th>Traffic</th>\n",
       "      <th>EMS</th>\n",
       "    </tr>\n",
       "  </thead>\n",
       "  <tbody>\n",
       "    <tr>\n",
       "      <th>0</th>\n",
       "      <td>0.0</td>\n",
       "      <td>0.0</td>\n",
       "      <td>0.0</td>\n",
       "    </tr>\n",
       "    <tr>\n",
       "      <th>1</th>\n",
       "      <td>0.0</td>\n",
       "      <td>0.0</td>\n",
       "      <td>0.0</td>\n",
       "    </tr>\n",
       "    <tr>\n",
       "      <th>2</th>\n",
       "      <td>0.0</td>\n",
       "      <td>0.0</td>\n",
       "      <td>0.0</td>\n",
       "    </tr>\n",
       "    <tr>\n",
       "      <th>3</th>\n",
       "      <td>0.0</td>\n",
       "      <td>0.0</td>\n",
       "      <td>0.0</td>\n",
       "    </tr>\n",
       "    <tr>\n",
       "      <th>4</th>\n",
       "      <td>0.0</td>\n",
       "      <td>0.0</td>\n",
       "      <td>0.0</td>\n",
       "    </tr>\n",
       "    <tr>\n",
       "      <th>...</th>\n",
       "      <td>...</td>\n",
       "      <td>...</td>\n",
       "      <td>...</td>\n",
       "    </tr>\n",
       "    <tr>\n",
       "      <th>663517</th>\n",
       "      <td>0.0</td>\n",
       "      <td>0.0</td>\n",
       "      <td>0.0</td>\n",
       "    </tr>\n",
       "    <tr>\n",
       "      <th>663518</th>\n",
       "      <td>0.0</td>\n",
       "      <td>0.0</td>\n",
       "      <td>0.0</td>\n",
       "    </tr>\n",
       "    <tr>\n",
       "      <th>663519</th>\n",
       "      <td>0.0</td>\n",
       "      <td>0.0</td>\n",
       "      <td>0.0</td>\n",
       "    </tr>\n",
       "    <tr>\n",
       "      <th>663520</th>\n",
       "      <td>0.0</td>\n",
       "      <td>0.0</td>\n",
       "      <td>0.0</td>\n",
       "    </tr>\n",
       "    <tr>\n",
       "      <th>663521</th>\n",
       "      <td>0.0</td>\n",
       "      <td>0.0</td>\n",
       "      <td>0.0</td>\n",
       "    </tr>\n",
       "  </tbody>\n",
       "</table>\n",
       "<p>663522 rows × 3 columns</p>\n",
       "</div>"
      ]
     },
     "execution_count": 132,
     "metadata": {},
     "output_type": "execute_result"
    }
   ],
   "execution_count": 132
  },
  {
   "metadata": {},
   "cell_type": "markdown",
   "source": "# 时间序列",
   "id": "4ace489806a1442a"
  },
  {
   "metadata": {
    "ExecuteTime": {
     "end_time": "2025-01-07T12:37:54.609006Z",
     "start_time": "2025-01-07T12:37:53.323223Z"
    }
   },
   "cell_type": "code",
   "source": [
    "# 把时间字符串转为时间类型设置为索引\n",
    "df = pd.read_csv(\"./911.csv\")\n",
    "print(df['timeStamp'])\n",
    "df[\"timeStamp\"] = pd.to_datetime(df[\"timeStamp\"])\n",
    "\n"
   ],
   "id": "e2edd7462c216900",
   "outputs": [
    {
     "name": "stdout",
     "output_type": "stream",
     "text": [
      "0         2015-12-10 17:10:52\n",
      "1         2015-12-10 17:29:21\n",
      "2         2015-12-10 14:39:21\n",
      "3         2015-12-10 16:47:36\n",
      "4         2015-12-10 16:56:52\n",
      "                 ...         \n",
      "663517    2020-07-29 15:46:51\n",
      "663518    2020-07-29 15:52:19\n",
      "663519    2020-07-29 15:52:52\n",
      "663520    2020-07-29 15:54:08\n",
      "663521    2020-07-29 15:52:46\n",
      "Name: timeStamp, Length: 663522, dtype: object\n"
     ]
    }
   ],
   "execution_count": 135
  }
 ],
 "metadata": {
  "kernelspec": {
   "display_name": "Python 3",
   "language": "python",
   "name": "python3"
  },
  "language_info": {
   "codemirror_mode": {
    "name": "ipython",
    "version": 2
   },
   "file_extension": ".py",
   "mimetype": "text/x-python",
   "name": "python",
   "nbconvert_exporter": "python",
   "pygments_lexer": "ipython2",
   "version": "2.7.6"
  }
 },
 "nbformat": 4,
 "nbformat_minor": 5
}
