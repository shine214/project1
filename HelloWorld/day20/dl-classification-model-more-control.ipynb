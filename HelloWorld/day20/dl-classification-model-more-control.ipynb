{
 "cells": [
  {
   "cell_type": "code",
   "id": "initial_id",
   "metadata": {
    "collapsed": true,
    "ExecuteTime": {
     "end_time": "2025-02-03T12:00:26.945453Z",
     "start_time": "2025-02-03T12:00:26.914193Z"
    }
   },
   "source": [
    "import matplotlib as mpl\n",
    "import matplotlib.pyplot as plt\n",
    "%matplotlib inline\n",
    "import numpy as np\n",
    "import sklearn\n",
    "import pandas as pd\n",
    "import os\n",
    "import sys\n",
    "import time\n",
    "from tqdm.auto import tqdm\n",
    "import torch\n",
    "import torch.nn as nn\n",
    "import torch.nn.functional as F\n",
    "\n",
    "print(sys.version_info)\n",
    "for module in mpl, np, pd, sklearn, torch:\n",
    "    print(module.__name__, module.__version__)\n",
    "    \n",
    "device = torch.device(\"mps\") if torch.backends.mps.i## 数据准备s_available() else torch.device(\"cpu\")\n",
    "print(device)  #设备是cuda:0，即GPU，如果没有GPU则是cpu\n"
   ],
   "outputs": [
    {
     "name": "stdout",
     "output_type": "stream",
     "text": [
      "sys.version_info(major=3, minor=12, micro=3, releaselevel='final', serial=0)\n",
      "matplotlib 3.10.0\n",
      "numpy 2.2.1\n",
      "pandas 2.2.3\n",
      "sklearn 1.6.0\n",
      "torch 2.6.0\n",
      "mps\n"
     ]
    }
   ],
   "execution_count": 2
  },
  {
   "metadata": {},
   "cell_type": "markdown",
   "source": "## 数据准备",
   "id": "ee9a482a5e19cb77"
  },
  {
   "metadata": {
    "ExecuteTime": {
     "end_time": "2025-02-03T12:01:22.866992Z",
     "start_time": "2025-02-03T12:01:06.939790Z"
    }
   },
   "cell_type": "code",
   "source": [
    "from torchvision import datasets\n",
    "from torchvision.transforms import ToTensor\n",
    "\n",
    "# fashion_mnist图像分类数据集\n",
    "train_ds = datasets.FashionMNIST(\n",
    "    root=\"data\",\n",
    "    train=True,\n",
    "    download=True,\n",
    "    transform=ToTensor()\n",
    ")\n",
    "\n",
    "test_ds = datasets.FashionMNIST(\n",
    "    root=\"data\",\n",
    "    train=False,\n",
    "    download=True,\n",
    "    transform=ToTensor()\n",
    ")\n",
    "\n",
    "# torchvision 数据集里没有提供训练集和验证集的划分\n",
    "# 当然也可以用 torch.utils.data.Dataset 实现人为划分"
   ],
   "id": "23826860b0c70d5d",
   "outputs": [
    {
     "name": "stderr",
     "output_type": "stream",
     "text": [
      "100%|██████████| 26.4M/26.4M [00:04<00:00, 5.45MB/s]\n",
      "100%|██████████| 29.5k/29.5k [00:00<00:00, 79.3kB/s]\n",
      "100%|██████████| 4.42M/4.42M [00:02<00:00, 1.69MB/s]\n",
      "100%|██████████| 5.15k/5.15k [00:00<00:00, 5.36MB/s]\n"
     ]
    }
   ],
   "execution_count": 3
  },
  {
   "metadata": {
    "ExecuteTime": {
     "end_time": "2025-02-03T12:01:23.433047Z",
     "start_time": "2025-02-03T12:01:23.428500Z"
    }
   },
   "cell_type": "code",
   "source": [
    "# 从数据集到dataloader\n",
    "train_loader = torch.utils.data.DataLoader(train_ds, batch_size=32, shuffle=True)\n",
    "val_loader = torch.utils.data.DataLoader(test_ds, batch_size=32, shuffle=False)"
   ],
   "id": "79303ba9be96d473",
   "outputs": [],
   "execution_count": 4
  },
  {
   "metadata": {
    "ExecuteTime": {
     "end_time": "2025-02-03T12:01:34.475100Z",
     "start_time": "2025-02-03T12:01:34.466548Z"
    }
   },
   "cell_type": "code",
   "source": [
    "# 查看数据\n",
    "for datas, labels in train_loader:\n",
    "    print(datas.shape)\n",
    "    print(labels.shape)\n",
    "    break\n",
    "#查看val_loader\n",
    "for datas, labels in val_loader:\n",
    "    print(datas.shape)\n",
    "    print(labels.shape)\n",
    "    break"
   ],
   "id": "fb37886a5351b9e1",
   "outputs": [
    {
     "name": "stdout",
     "output_type": "stream",
     "text": [
      "torch.Size([32, 1, 28, 28])\n",
      "torch.Size([32])\n",
      "torch.Size([32, 1, 28, 28])\n",
      "torch.Size([32])\n"
     ]
    }
   ],
   "execution_count": 5
  },
  {
   "metadata": {},
   "cell_type": "markdown",
   "source": "## 定义模型",
   "id": "2958eda5a381e84c"
  },
  {
   "metadata": {
    "ExecuteTime": {
     "end_time": "2025-02-03T12:03:57.799950Z",
     "start_time": "2025-02-03T12:03:57.793735Z"
    }
   },
   "cell_type": "code",
   "source": [
    "class NeuralNetwork(nn.Module):\n",
    "    def __init__(self):\n",
    "        super().__init__()\n",
    "        self.flatten = nn.Flatten()\n",
    "        self.linear_relu_stack = nn.Sequential(\n",
    "            nn.Linear(28 * 28, 300),  # in_features=784, out_features=300\n",
    "            nn.ReLU(),\n",
    "            nn.Linear(300, 100),\n",
    "            nn.ReLU(),\n",
    "            nn.Linear(100, 10),\n",
    "        )\n",
    "\n",
    "    def forward(self, x):\n",
    "        # x.shape [batch size, 1, 28, 28]\n",
    "        x = self.flatten(x)  \n",
    "        # 展平后 x.shape [batch size, 28 * 28]\n",
    "        logits = self.linear_relu_stack(x)\n",
    "        # logits.shape [batch size, 10]\n",
    "        return logits\n",
    "    \n",
    "model = NeuralNetwork()"
   ],
   "id": "a3055ccfb6e8dbe",
   "outputs": [],
   "execution_count": 7
  },
  {
   "metadata": {},
   "cell_type": "markdown",
   "source": "evaluating",
   "id": "9cd7421ced120a39"
  },
  {
   "metadata": {
    "ExecuteTime": {
     "end_time": "2025-02-03T12:14:12.490410Z",
     "start_time": "2025-02-03T12:14:12.427083Z"
    }
   },
   "cell_type": "code",
   "source": [
    "from sklearn.metrics import accuracy_score\n",
    "\n",
    "@torch.no_grad()\n",
    "def evaluating(model, dataloader, loss_fct):\n",
    "    loss_list = []\n",
    "    pred_list = []\n",
    "    label_list = []\n",
    "    for datas, labels in dataloader:\n",
    "        #datas.shape [batch size, 1, 28, 28]\n",
    "        #labels.shape [batch size]\n",
    "        datas = datas.to(device)\n",
    "        labels = labels.to(device)\n",
    "        # 前向计算\n",
    "        logits = model(datas)\n",
    "        loss = loss_fct(logits, labels)         # 验证集损失\n",
    "        loss_list.append(loss.item()) # tensor.item() 获取tensor的数值，loss是只有一个元素的tensor\n",
    "        \n",
    "        preds = logits.argmax(axis=-1)    # 验证集预测, axis=-1 表示最后一个维度,因为logits.shape [batch size, 10]，所以axis=-1表示对最后一个维度求argmax，即对每个样本的10个类别的概率求argmax，得到最大概率的类别, preds.shape [batch size]\n",
    "        pred_list.extend(preds.cpu().numpy().tolist()) # tensor转numpy，再转list\n",
    "        label_list.extend(labels.cpu().numpy().tolist())\n",
    "        \n",
    "    acc = accuracy_score(label_list, pred_list) # 验证集准确率\n",
    "    return np.mean(loss_list), acc # 返回验证集平均损失和准确率\n"
   ],
   "id": "5b88de35bd17b5a8",
   "outputs": [],
   "execution_count": 11
  },
  {
   "metadata": {},
   "cell_type": "markdown",
   "source": "### Save Best\n",
   "id": "bf61feb1bc7a5434"
  },
  {
   "metadata": {
    "ExecuteTime": {
     "end_time": "2025-02-03T12:04:19.774964Z",
     "start_time": "2025-02-03T12:04:19.769214Z"
    }
   },
   "cell_type": "code",
   "source": [
    "class SaveCheckpointsCallback:\n",
    "    def __init__(self, save_dir, save_step=500, save_best_only=True):\n",
    "        \"\"\"\n",
    "        Save checkpoints each save_epoch epoch. \n",
    "        We save checkpoint by epoch in this implementation.\n",
    "        Usually, training scripts with pytorch evaluating model and save checkpoint by step.\n",
    "\n",
    "        Args:\n",
    "            save_dir (str): dir to save checkpoint\n",
    "            save_epoch (int, optional): the frequency to save checkpoint. Defaults to 1.\n",
    "            save_best_only (bool, optional): If True, only save the best model or save each model at every epoch.\n",
    "        \"\"\"\n",
    "        self.save_dir = save_dir # 保存路径\n",
    "        self.save_step = save_step # 保存步数\n",
    "        self.save_best_only = save_best_only # 是否只保存最好的模型\n",
    "        self.best_metrics = -1 # 最好的指标，指标不可能为负数，所以初始化为-1\n",
    "        \n",
    "        # mkdir\n",
    "        if not os.path.exists(self.save_dir): # 如果不存在保存路径，则创建\n",
    "            os.mkdir(self.save_dir)\n",
    "        \n",
    "    def __call__(self, step, state_dict, metric=None):\n",
    "        if step % self.save_step > 0: #每隔save_step步保存一次\n",
    "            return\n",
    "        \n",
    "        if self.save_best_only:\n",
    "            assert metric is not None # 必须传入metric\n",
    "            if metric >= self.best_metrics:\n",
    "                # save checkpoints\n",
    "                torch.save(state_dict, os.path.join(self.save_dir, \"best.ckpt\")) # 保存最好的模型，覆盖之前的模型，不保存step，只保存state_dict，即模型参数，不保存优化器参数\n",
    "                # update best metrics\n",
    "                self.best_metrics = metric\n",
    "        else:\n",
    "            torch.save(state_dict, os.path.join(self.save_dir, f\"{step}.ckpt\")) # 保存每个step的模型，不覆盖之前的模型，保存step，保存state_dict，即模型参数，不保存优化器参数\n",
    "\n"
   ],
   "id": "d055b7cd42215082",
   "outputs": [],
   "execution_count": 8
  },
  {
   "metadata": {},
   "cell_type": "markdown",
   "source": "## Early Stop",
   "id": "af6fe019740d1c16"
  },
  {
   "metadata": {
    "ExecuteTime": {
     "end_time": "2025-02-03T12:04:37.825379Z",
     "start_time": "2025-02-03T12:04:37.822240Z"
    }
   },
   "cell_type": "code",
   "source": [
    "class EarlyStopCallback:\n",
    "    def __init__(self, patience=5, min_delta=0.01):\n",
    "        \"\"\"\n",
    "\n",
    "        Args:\n",
    "            patience (int, optional): Number of epochs with no improvement after which training will be stopped.. Defaults to 5.\n",
    "            min_delta (float, optional): Minimum change in the monitored quantity to qualify as an improvement, i.e. an absolute \n",
    "                change of less than min_delta, will count as no improvement. Defaults to 0.01.\n",
    "        \"\"\"\n",
    "        self.patience = patience # 多少个epoch没有提升就停止训练\n",
    "        self.min_delta = min_delta # 最小的提升幅度\n",
    "        self.best_metric = -1\n",
    "        self.counter = 0\n",
    "        \n",
    "    def __call__(self, metric):\n",
    "        if metric >= self.best_metric + self.min_delta:#用准确率\n",
    "            # update best metric\n",
    "            self.best_metric = metric\n",
    "            # reset counter \n",
    "            self.counter = 0\n",
    "        else: \n",
    "            self.counter += 1 # 计数器加1，下面的patience判断用到\n",
    "            \n",
    "    @property\n",
    "    def early_stop(self):\n",
    "        return self.counter >= self.patience\n"
   ],
   "id": "bd4aa4abcf005884",
   "outputs": [],
   "execution_count": 9
  },
  {
   "metadata": {},
   "cell_type": "markdown",
   "source": "加入了早停和保存模型后的训练",
   "id": "4e5897f59a65e3ac"
  },
  {
   "metadata": {
    "ExecuteTime": {
     "end_time": "2025-02-03T12:13:09.100539Z",
     "start_time": "2025-02-03T12:13:09.091651Z"
    }
   },
   "cell_type": "code",
   "source": [
    "# 训练\n",
    "def training(\n",
    "    model, \n",
    "    train_loader, \n",
    "    val_loader, \n",
    "    epoch, \n",
    "    loss_fct, \n",
    "    optimizer, \n",
    "    tensorboard_callback=None,\n",
    "    save_ckpt_callback=None,\n",
    "    early_stop_callback=None,\n",
    "    eval_step=500,\n",
    "    ):\n",
    "    record_dict = {\n",
    "        \"train\": [],\n",
    "        \"val\": []\n",
    "    }\n",
    "    \n",
    "    global_step = 0\n",
    "    model.train()\n",
    "    with tqdm(total=epoch * len(train_loader)) as pbar:\n",
    "        for epoch_id in range(epoch):\n",
    "            # training\n",
    "            for datas, labels in train_loader:\n",
    "                datas = datas.to(device) # 数据放到device上\n",
    "                labels = labels.to(device) # 标签放到device上\n",
    "                # 梯度清空\n",
    "                optimizer.zero_grad()\n",
    "                # 模型前向计算\n",
    "                logits = model(datas)\n",
    "                # 计算损失\n",
    "                loss = loss_fct(logits, labels)\n",
    "                # 梯度回传，计算梯度，更新参数，这里是更新模型参数\n",
    "                loss.backward()\n",
    "                # 调整优化器，包括学习率的变动等\n",
    "                optimizer.step()\n",
    "                preds = logits.argmax(axis=-1)\n",
    "            \n",
    "                acc = accuracy_score(labels.cpu().numpy(), preds.cpu().numpy())    \n",
    "                loss = loss.cpu().item()\n",
    "                # record\n",
    "                \n",
    "                record_dict[\"train\"].append({\n",
    "                    \"loss\": loss, \"acc\": acc, \"step\": global_step\n",
    "                })\n",
    "                \n",
    "                # evaluating\n",
    "                if global_step % eval_step == 0:\n",
    "                    model.eval()  # 切换到验证集模式\n",
    "                    val_loss, val_acc = evaluating(model, val_loader, loss_fct)\n",
    "                    record_dict[\"val\"].append({\n",
    "                        \"loss\": val_loss, \"acc\": val_acc, \"step\": global_step\n",
    "                    })\n",
    "                    model.train() # 切换回训练集模式\n",
    "                    \n",
    "                    # 1. 使用 tensorboard 可视化\n",
    "                    if tensorboard_callback is not None:\n",
    "                        tensorboard_callback(\n",
    "                            global_step, \n",
    "                            loss=loss, val_loss=val_loss,\n",
    "                            acc=acc, val_acc=val_acc,\n",
    "                            lr=optimizer.param_groups[0][\"lr\"], # 取出当前学习率\n",
    "                            )\n",
    "                    \n",
    "                    # 2. 保存模型权重 save model checkpoint\n",
    "                    if save_ckpt_callback is not None:\n",
    "                        save_ckpt_callback(global_step, model.state_dict(), metric=val_acc) # 保存最好的模型，覆盖之前的模型，保存step，保存state_dict,通过metric判断是否保存最好的模型\n",
    "\n",
    "                    # 3. 早停 Early Stop\n",
    "                    if early_stop_callback is not None:\n",
    "                        early_stop_callback(val_acc) # 验证集准确率不再提升，则停止训练\n",
    "                        if early_stop_callback.early_stop:# 验证集准确率不再提升，则停止训练\n",
    "                            print(f\"Early stop at epoch {epoch_id} / global_step {global_step}\")\n",
    "                            return record_dict\n",
    "                    \n",
    "                # udate step\n",
    "                global_step += 1\n",
    "                pbar.update(1)\n",
    "                pbar.set_postfix({\"epoch\": epoch_id})\n",
    "        \n",
    "    return record_dict"
   ],
   "id": "d07f34b7c190cf7f",
   "outputs": [],
   "execution_count": 10
  },
  {
   "metadata": {},
   "cell_type": "markdown",
   "source": "开始训练模型",
   "id": "dbdf549689866bc1"
  },
  {
   "metadata": {
    "ExecuteTime": {
     "end_time": "2025-02-03T12:35:35.749342Z",
     "start_time": "2025-02-03T12:35:35.741667Z"
    }
   },
   "cell_type": "code",
   "source": [
    "epoch = 100\n",
    "\n",
    "model = NeuralNetwork()\n",
    "\n",
    "# 1. 定义损失函数 采用MSE损失\n",
    "loss_fct = nn.CrossEntropyLoss()\n",
    "# 2. 定义优化器 采用SGD\n",
    "# Optimizers specified in the torch.optim package\n",
    "optimizer = torch.optim.SGD(model.parameters(), lr=0.001, momentum=0.9)\n",
    "\n",
    "# 1. tensorboard 可视化\n",
    "# tensorboard_callback = TensorBoardCallback(\"runs\")\n",
    "# tensorboard_callback.draw_model(model, [1, 28, 28])\n",
    "\n",
    "# 2. save best\n",
    "save_ckpt_callback = SaveCheckpointsCallback(\"checkpoints\", save_best_only=True)\n",
    "# 3. early stop\n",
    "early_stop_callback = EarlyStopCallback(patience=10)\n"
   ],
   "id": "c6b22c3a1406820",
   "outputs": [],
   "execution_count": 12
  },
  {
   "metadata": {
    "ExecuteTime": {
     "end_time": "2025-02-03T12:35:54.528202Z",
     "start_time": "2025-02-03T12:35:54.522898Z"
    }
   },
   "cell_type": "code",
   "source": "list(model.parameters())[1] #可学习的模型参数",
   "id": "2e778455a1bf6044",
   "outputs": [
    {
     "data": {
      "text/plain": [
       "Parameter containing:\n",
       "tensor([ 1.2576e-02,  6.1034e-04,  2.7069e-02,  3.2409e-03,  2.9103e-02,\n",
       "         1.0259e-02,  3.4272e-02, -2.0830e-02, -1.3837e-03, -2.0965e-02,\n",
       "        -2.4632e-02,  2.7329e-04,  2.1611e-02, -1.2194e-02,  7.6570e-03,\n",
       "         8.7688e-03, -1.5137e-02,  1.1470e-02,  9.6610e-03,  1.2117e-03,\n",
       "         3.3377e-03,  2.4717e-02,  2.1170e-02, -1.2310e-02,  1.9144e-02,\n",
       "        -1.4407e-02, -4.1525e-04,  7.1696e-03,  8.7214e-03,  2.4818e-02,\n",
       "         8.8795e-04,  1.6698e-02,  2.1183e-02, -1.1752e-02,  6.6822e-03,\n",
       "        -2.0605e-02, -8.5846e-03,  3.8010e-04, -3.0895e-02,  7.6551e-03,\n",
       "         1.3887e-02,  7.2349e-03,  3.5151e-02, -2.4243e-02,  3.2963e-02,\n",
       "         9.8362e-03,  1.0380e-02,  3.1893e-02,  2.6724e-02,  8.0603e-04,\n",
       "         3.5443e-02, -2.2039e-02,  2.7588e-02, -2.6311e-02,  1.5492e-02,\n",
       "        -3.4320e-02, -1.4642e-02,  2.7643e-03, -2.0554e-02, -3.4575e-02,\n",
       "         2.8972e-02,  1.1456e-02, -3.0419e-02, -1.1477e-02, -4.2035e-03,\n",
       "         1.1040e-02, -1.2981e-03, -3.0335e-02,  3.3488e-02, -1.1936e-02,\n",
       "        -1.1139e-02, -2.5861e-02, -2.8962e-02, -3.4962e-02,  1.2796e-02,\n",
       "         2.7428e-02,  2.3772e-02, -9.3488e-03,  1.3346e-02, -3.1072e-02,\n",
       "        -2.7304e-02,  2.5637e-02, -1.4193e-02, -3.2061e-02, -3.3056e-02,\n",
       "        -3.0425e-02, -7.5792e-05, -9.0235e-03,  2.6783e-02,  2.3266e-03,\n",
       "        -1.0596e-02,  3.4769e-02,  4.8814e-03,  9.6584e-03, -2.1824e-02,\n",
       "         1.0208e-02, -2.8723e-02, -1.9001e-02,  2.1248e-02, -1.6361e-02,\n",
       "        -1.9982e-02,  1.1458e-02,  2.2170e-02, -1.8417e-02, -1.8513e-02,\n",
       "        -2.7315e-02, -9.8598e-03,  1.8582e-02, -3.5701e-02,  6.8001e-03,\n",
       "         2.7282e-02, -2.6774e-02, -2.1406e-02, -2.2251e-02, -2.6807e-02,\n",
       "         1.2931e-02, -3.0193e-02,  1.4420e-02,  1.9475e-02,  1.3654e-02,\n",
       "         2.4873e-02,  8.1438e-03, -3.3293e-02, -2.1398e-02, -3.3274e-02,\n",
       "        -1.0113e-02, -2.7505e-02,  7.4995e-03, -2.7459e-02, -3.4643e-02,\n",
       "        -4.2229e-03,  3.4985e-02, -1.2357e-02, -1.2581e-02,  3.4457e-02,\n",
       "         3.1682e-02,  1.5203e-02,  2.2219e-02, -1.4843e-02,  1.9329e-02,\n",
       "        -1.6073e-02,  6.0192e-03, -8.3856e-03, -2.6729e-02, -2.8736e-03,\n",
       "        -3.2834e-02,  1.3929e-02,  2.1321e-03,  2.0635e-02, -1.0492e-02,\n",
       "         1.7743e-02,  7.6077e-03, -9.6408e-04, -3.0155e-02,  2.1367e-03,\n",
       "         1.0996e-02,  2.6260e-02, -2.0935e-02,  2.6098e-02,  2.5837e-02,\n",
       "         2.4263e-02, -4.5819e-04,  3.0662e-03, -1.9029e-03,  1.6709e-02,\n",
       "         2.9599e-02,  1.1030e-02,  2.5198e-03,  1.6187e-03, -2.7453e-02,\n",
       "        -1.9643e-02, -2.0864e-02,  1.0641e-02,  2.0742e-04, -1.7166e-03,\n",
       "         2.7657e-02,  2.6496e-02,  1.0196e-02,  8.0789e-03,  1.3960e-02,\n",
       "         1.7860e-02,  1.3256e-02, -1.0298e-02, -2.5676e-02, -9.9035e-03,\n",
       "        -2.0795e-02,  1.6417e-03,  3.3502e-02,  4.8796e-03, -2.3685e-02,\n",
       "         1.7437e-02, -2.3831e-02, -5.1693e-04, -3.2595e-02, -2.6095e-02,\n",
       "         3.0430e-02, -2.5549e-03,  2.4424e-02, -2.8676e-02, -1.3850e-02,\n",
       "        -2.8070e-02, -1.6391e-02, -1.9414e-02, -3.2047e-02, -2.7066e-02,\n",
       "         1.3622e-03,  3.3524e-02,  2.2933e-02, -3.0715e-02, -2.8040e-02,\n",
       "        -1.5370e-02,  3.0042e-02, -3.8375e-03,  3.1143e-02,  5.4190e-03,\n",
       "        -2.7277e-02, -1.9419e-02,  3.2240e-02, -1.8384e-02,  3.2990e-02,\n",
       "         2.4655e-02,  8.6603e-03, -3.7279e-03,  7.0373e-03, -2.3096e-02,\n",
       "         1.8947e-03,  2.6023e-02, -2.3393e-02, -2.1572e-02,  2.9261e-02,\n",
       "         3.0372e-02,  3.0377e-02, -3.0197e-02,  5.8215e-03,  9.9888e-03,\n",
       "         3.4234e-02,  6.3541e-03,  2.0524e-02,  1.8388e-02, -7.1249e-04,\n",
       "         4.8478e-03,  1.1276e-02, -2.5258e-02, -1.9011e-02,  1.5923e-02,\n",
       "         1.6181e-02,  2.1530e-02, -3.4790e-02,  3.1415e-02, -5.1478e-03,\n",
       "         4.8304e-03,  3.2226e-02, -3.9356e-03,  2.6749e-02,  1.7855e-02,\n",
       "         7.5406e-03,  5.6794e-03,  5.6250e-03, -4.0800e-03,  2.1802e-02,\n",
       "         2.2096e-03, -1.1222e-02, -2.3939e-04, -5.4498e-03, -4.0494e-03,\n",
       "         1.2281e-02,  1.6777e-02, -2.7363e-02, -3.0844e-02, -1.7892e-02,\n",
       "        -1.5347e-02, -1.3264e-02,  9.8999e-03, -1.8257e-02, -5.0569e-03,\n",
       "         1.2717e-03,  7.2101e-03,  2.0407e-02,  2.6988e-02, -1.4426e-02,\n",
       "         1.7135e-02,  3.5133e-02,  1.4307e-02,  1.6682e-02,  1.3321e-02,\n",
       "        -2.7729e-02, -2.8625e-02, -2.4723e-02, -2.0346e-02,  2.8393e-02,\n",
       "         7.7877e-03, -2.9000e-02,  1.2858e-02,  5.7849e-03,  2.7979e-03,\n",
       "         3.4299e-02,  2.4355e-02,  2.3808e-02,  8.5835e-03,  3.2823e-02],\n",
       "       requires_grad=True)"
      ]
     },
     "execution_count": 13,
     "metadata": {},
     "output_type": "execute_result"
    }
   ],
   "execution_count": 13
  },
  {
   "metadata": {
    "ExecuteTime": {
     "end_time": "2025-02-03T12:46:54.231292Z",
     "start_time": "2025-02-03T12:46:53.016974Z"
    }
   },
   "cell_type": "code",
   "source": [
    "model = model.to(device)\n",
    "record = training(\n",
    "    model,\n",
    "    train_loader,\n",
    "    val_loader,\n",
    "    epoch,\n",
    "    loss_fct,\n",
    "    optimizer,\n",
    "    # tensorboard_callback=tensorboard_callback,\n",
    "    save_ckpt_callback=save_ckpt_callback,\n",
    "    early_stop_callback=early_stop_callback,\n",
    "    eval_step=1000\n",
    "    )"
   ],
   "id": "95372f7729762879",
   "outputs": [
    {
     "data": {
      "text/plain": [
       "  0%|          | 0/187500 [00:00<?, ?it/s]"
      ],
      "application/vnd.jupyter.widget-view+json": {
       "version_major": 2,
       "version_minor": 0,
       "model_id": "4aa096990fff490fafac9e12afd28d9a"
      }
     },
     "metadata": {},
     "output_type": "display_data"
    },
    {
     "name": "stdout",
     "output_type": "stream",
     "text": [
      "Early stop at epoch 0 / global_step 0\n"
     ]
    }
   ],
   "execution_count": 17
  },
  {
   "metadata": {},
   "cell_type": "code",
   "outputs": [],
   "execution_count": null,
   "source": [
    "#enumerate可以同时获得索引和值\n",
    "for i, item in enumerate([\"a\", \"b\", \"c\"]):\n",
    "    print(i, item)"
   ],
   "id": "440ee9469c05ecef"
  },
  {
   "metadata": {
    "ExecuteTime": {
     "end_time": "2025-02-03T12:41:21.653276Z",
     "start_time": "2025-02-03T12:41:21.509296Z"
    }
   },
   "cell_type": "code",
   "source": [
    "#画线要注意的是损失是不一定在零到1之间的\n",
    "def plot_learning_curves(record_dict, sample_step=500):\n",
    "    # build DataFrame\n",
    "    train_df = pd.DataFrame(record_dict[\"train\"]).set_index(\"step\").iloc[::sample_step]\n",
    "    val_df = pd.DataFrame(record_dict[\"val\"]).set_index(\"step\")\n",
    "\n",
    "    # plot\n",
    "    fig_num = len(train_df.columns) #因为有loss和acc两个指标，所以画个子图\n",
    "    fig, axs = plt.subplots(1, fig_num, figsize=(5 * fig_num, 5)) #fig_num个子图，figsize是子图大小\n",
    "    for idx, item in enumerate(train_df.columns):    \n",
    "        axs[idx].plot(train_df.index, train_df[item], label=f\"train_{item}\")\n",
    "        axs[idx].plot(val_df.index, val_df[item], label=f\"val_{item}\")\n",
    "        axs[idx].grid()\n",
    "        axs[idx].legend()\n",
    "        x_data=range(0, train_df.index[-1], 5000) #每隔5000步标出一个点\n",
    "        axs[idx].set_xticks(x_data)\n",
    "        axs[idx].set_xticklabels(map(lambda x: f\"{int(x/1000)}k\", x_data)) #map生成labal\n",
    "        axs[idx].set_xlabel(\"step\")\n",
    "    \n",
    "    plt.show()\n",
    "\n",
    "plot_learning_curves(record, sample_step=500)  #横坐标是 steps"
   ],
   "id": "f2d36e0ad87fcc15",
   "outputs": [
    {
     "data": {
      "text/plain": [
       "<Figure size 1000x500 with 2 Axes>"
      ],
      "image/png": "[encoded data removed]"
     },
     "metadata": {},
     "output_type": "display_data"
    }
   ],
   "execution_count": 16
  },
  {
   "metadata": {},
   "cell_type": "code",
   "outputs": [],
   "execution_count": null,
   "source": [
    "model = NeuralNetwork() #上线时加载模型\n",
    "model = model.to(device)"
   ],
   "id": "43109f475dc3b36f"
  },
  {
   "metadata": {},
   "cell_type": "code",
   "outputs": [],
   "execution_count": null,
   "source": [
    "# dataload for evaluating\n",
    "\n",
    "# load checkpoints\n",
    "model.load_state_dict(torch.load(\"checkpoints/best.ckpt\", map_location=\"cpu\"))\n",
    "\n",
    "model.eval()\n",
    "loss, acc = evaluating(model, val_loader, loss_fct)\n",
    "print(f\"loss:     {loss:.4f}\\naccuracy: {acc:.4f}\")"
   ],
   "id": "968a56f13dbdaed4"
  }
 ],
 "metadata": {
  "kernelspec": {
   "display_name": "Python 3",
   "language": "python",
   "name": "python3"
  },
  "language_info": {
   "codemirror_mode": {
    "name": "ipython",
    "version": 2
   },
   "file_extension": ".py",
   "mimetype": "text/x-python",
   "name": "python",
   "nbconvert_exporter": "python",
   "pygments_lexer": "ipython2",
   "version": "2.7.6"
  }
 },
 "nbformat": 4,
 "nbformat_minor": 5
}
