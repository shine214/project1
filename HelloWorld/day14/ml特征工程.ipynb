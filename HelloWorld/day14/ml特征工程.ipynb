{
 "cells": [
  {
   "metadata": {},
   "cell_type": "markdown",
   "source": "# 1 字符串处理成特征矩阵",
   "id": "96059c40c0e386b9"
  },
  {
   "metadata": {
    "ExecuteTime": {
     "end_time": "2025-01-09T10:18:57.149346Z",
     "start_time": "2025-01-09T10:18:57.029841Z"
    }
   },
   "cell_type": "code",
   "source": [
    "from sklearn.feature_extraction import DictVectorizer\n",
    "from sklearn.feature_extraction.text import CountVectorizer, TfidfVectorizer\n",
    "from sklearn.preprocessing import MinMaxScaler, StandardScaler\n",
    "from sklearn.feature_selection import VarianceThreshold\n",
    "from sklearn.decomposition import PCA\n",
    "import jieba\n",
    "import numpy as np\n",
    "from sklearn.impute import SimpleImputer"
   ],
   "id": "516b1491cb62d57c",
   "outputs": [],
   "execution_count": 9
  },
  {
   "metadata": {},
   "cell_type": "markdown",
   "source": "### 1.1 Dictvectorizer",
   "id": "7bf0c214a93edc8a"
  },
  {
   "metadata": {},
   "cell_type": "code",
   "outputs": [],
   "execution_count": null,
   "source": [
    "\"\"\"\n",
    "\n",
    "    dictvectorizer用于将字典类型转为特征矩阵\n",
    "    类别型用独热码，数值型占一列，生成特征矩阵\n",
    "    特征矩阵的列排行按照特征名（也就是字典的key）来，前前后后的也无关紧要，特征名通过vector容器的get_feature_names_out()查看\n",
    "    sparse 参数决定形成特征矩阵是矩阵还是三元组\n",
    "    \n",
    "\n",
    "\"\"\""
   ],
   "id": "1268a1c117fcd513"
  },
  {
   "metadata": {},
   "cell_type": "code",
   "outputs": [
    {
     "name": "stdout",
     "output_type": "stream",
     "text": [
      "['age' 'gender=female' 'gender=male' 'name=a' 'name=b']\n",
      "[[18.  0.  1.  1.  0.]\n",
      " [20.  1.  0.  1.  0.]\n",
      " [30.  0.  1.  0.  1.]]\n"
     ]
    }
   ],
   "execution_count": 8,
   "source": [
    "from sklearn.feature_extraction import DictVectorizer\n",
    "\n",
    "# 输入数据\n",
    "data = [\n",
    "    {'name': 'a', 'gender': 'male', 'age': 18},\n",
    "    {'name': 'a', 'gender': 'female', 'age': 20},\n",
    "    {'name': 'b', 'gender': 'male', 'age': 30}\n",
    "]\n",
    "\n",
    "# 创建 DictVectorizer 对象\n",
    "vectorizer = DictVectorizer(sparse = False)\n",
    "\n",
    "# 将字典数据转换为特征矩阵\n",
    "X = vectorizer.fit_transform(data)\n",
    "\n",
    "# 输出稀疏矩阵的密集表示\n",
    "# print(X.toarray())\n",
    "\n",
    "# 输出特征名（即独热编码后的列名）\n",
    "print(vectorizer.get_feature_names_out())\n",
    "print(X)"
   ],
   "id": "initial_id"
  },
  {
   "metadata": {},
   "cell_type": "markdown",
   "source": "### 1.2 Countvectorizer",
   "id": "fa338644db8f7447"
  },
  {
   "metadata": {},
   "cell_type": "code",
   "outputs": [],
   "execution_count": null,
   "source": [
    "\"\"\"\n",
    "\n",
    "    count的fit_transform会将文本串里的所有单词提取（空格分割），完了以后计算每个单词在每个文档（这里句子）出现次数\n",
    "    返回词频表\n",
    "    \n",
    "    通过vector的get_feature_names_out()方法来查看容器所提取到的所有单词\n",
    "\"\"\""
   ],
   "id": "92af2fc77aacc400"
  },
  {
   "metadata": {
    "ExecuteTime": {
     "end_time": "2025-01-09T10:40:32.401186Z",
     "start_time": "2025-01-09T10:40:32.396993Z"
    }
   },
   "cell_type": "code",
   "source": [
    "vector = CountVectorizer(min_df=2)\n",
    "res = vector.fit_transform(\n",
    "        [\"life is  short,i like python life\",\n",
    "         \"life is too long,i dislike python\",\n",
    "         \"life is short\"])\n",
    "# print(res.toarray())\n",
    "print(res)\n",
    "print('-'*50)\n",
    "print(vector.get_feature_names_out())\n"
   ],
   "id": "bce5dabe55353b4f",
   "outputs": [
    {
     "name": "stdout",
     "output_type": "stream",
     "text": [
      "<Compressed Sparse Row sparse matrix of dtype 'int64'\n",
      "\twith 10 stored elements and shape (3, 4)>\n",
      "  Coords\tValues\n",
      "  (0, 1)\t2\n",
      "  (0, 0)\t1\n",
      "  (0, 3)\t1\n",
      "  (0, 2)\t1\n",
      "  (1, 1)\t1\n",
      "  (1, 0)\t1\n",
      "  (1, 2)\t1\n",
      "  (2, 1)\t1\n",
      "  (2, 0)\t1\n",
      "  (2, 3)\t1\n",
      "--------------------------------------------------\n",
      "['is' 'life' 'python' 'short']\n"
     ]
    }
   ],
   "execution_count": 18
  },
  {
   "metadata": {},
   "cell_type": "code",
   "outputs": [],
   "execution_count": null,
   "source": "",
   "id": "2be3aa286525e91c"
  },
  {
   "metadata": {},
   "cell_type": "markdown",
   "source": "### 1.3 汉字的处理",
   "id": "d1a5e5994f10537b"
  },
  {
   "metadata": {},
   "cell_type": "code",
   "outputs": [],
   "execution_count": null,
   "source": [
    "\"\"\"\n",
    "\n",
    "    汉字的处理有点异于单词，毕竟汉字词语并不以空格分割，这时就需要调用现有工具jieba\n",
    "    通过jieba内置方法.cut将文本转化为生成器再转为列表，通过' '.join方法插入空格\n",
    "    再交由countvectorizer处理\n",
    "    \n",
    "\"\"\""
   ],
   "id": "ea1d4277222c1fb"
  },
  {
   "metadata": {
    "ExecuteTime": {
     "end_time": "2025-01-09T11:02:07.472789Z",
     "start_time": "2025-01-09T11:02:07.465683Z"
    }
   },
   "cell_type": "code",
   "source": [
    "def cutword():\n",
    "    \"\"\"\n",
    "    通过jieba对中文进行分词\n",
    "    :return:\n",
    "    \"\"\"\n",
    "    con1 = jieba.cut(\"今天很残酷，明天更残酷，后天很美好，但绝对大部分是死在明天晚上，所以每个人不要放弃今天。\")\n",
    "\n",
    "    con2 = jieba.cut(\"我们看到的从很远星系来的光是在几百万年之前发出的，这样当我们看到宇宙时，我们是在看它的过去。\")\n",
    "\n",
    "    con3 = jieba.cut(\"如果只用一种方式了解某样事物，你就不会真正了解它。了解事物真正含义的秘密取决于如何将其与我们所了解的事物相联系。\")\n",
    "\n",
    "    # 转换成列表\n",
    "    print(type(con1))\n",
    "    print('-' * 50)\n",
    "    # 把生成器转换成列表\n",
    "    content1 = list(con1)\n",
    "    content2 = list(con2)\n",
    "    content3 = list(con3)\n",
    "    print(content1)\n",
    "    print(content2)\n",
    "    print(content3)\n",
    "    # 把列表转换成字符串,每个词之间用空格隔开\n",
    "    print('-' * 50)\n",
    "    c1 = ' '.join(content1)\n",
    "    c2 = ' '.join(content2)\n",
    "    c3 = ' '.join(content3)\n",
    "\n",
    "    return c1, c2, c3\n",
    "\n",
    "def hanzivec():\n",
    "    \"\"\"\n",
    "    中文特征值化\n",
    "    :return: None\n",
    "    \"\"\"\n",
    "    c1, c2, c3 = cutword() #jieba分词好的中文文本\n",
    "    print('-'*50)\n",
    "    print(c1)\n",
    "    print(c2)\n",
    "    print(c3)\n",
    "    print('-'*50)\n",
    "\n",
    "    cv = CountVectorizer()\n",
    "\n",
    "    data = cv.fit_transform([c1, c2, c3])\n",
    "\n",
    "    print(cv.get_feature_names_out())\n",
    "\n",
    "    print(data.toarray())\n",
    "\n",
    "    return None\n",
    "\n",
    "# cutword()\n",
    "hanzivec()"
   ],
   "id": "93eb6af3dff4dcbb",
   "outputs": [
    {
     "name": "stdout",
     "output_type": "stream",
     "text": [
      "<class 'generator'>\n",
      "--------------------------------------------------\n",
      "['今天', '很', '残酷', '，', '明天', '更', '残酷', '，', '后天', '很', '美好', '，', '但', '绝对', '大部分', '是', '死', '在', '明天', '晚上', '，', '所以', '每个', '人', '不要', '放弃', '今天', '。']\n",
      "['我们', '看到', '的', '从', '很', '远', '星系', '来', '的', '光是在', '几百万年', '之前', '发出', '的', '，', '这样', '当', '我们', '看到', '宇宙', '时', '，', '我们', '是', '在', '看', '它', '的', '过去', '。']\n",
      "['如果', '只用', '一种', '方式', '了解', '某样', '事物', '，', '你', '就', '不会', '真正', '了解', '它', '。', '了解', '事物', '真正', '含义', '的', '秘密', '取决于', '如何', '将', '其', '与', '我们', '所', '了解', '的', '事物', '相', '联系', '。']\n",
      "--------------------------------------------------\n",
      "--------------------------------------------------\n",
      "今天 很 残酷 ， 明天 更 残酷 ， 后天 很 美好 ， 但 绝对 大部分 是 死 在 明天 晚上 ， 所以 每个 人 不要 放弃 今天 。\n",
      "我们 看到 的 从 很 远 星系 来 的 光是在 几百万年 之前 发出 的 ， 这样 当 我们 看到 宇宙 时 ， 我们 是 在 看 它 的 过去 。\n",
      "如果 只用 一种 方式 了解 某样 事物 ， 你 就 不会 真正 了解 它 。 了解 事物 真正 含义 的 秘密 取决于 如何 将 其 与 我们 所 了解 的 事物 相 联系 。\n",
      "--------------------------------------------------\n",
      "['一种' '不会' '不要' '之前' '了解' '事物' '今天' '光是在' '几百万年' '发出' '取决于' '只用' '后天' '含义'\n",
      " '大部分' '如何' '如果' '宇宙' '我们' '所以' '放弃' '方式' '明天' '星系' '晚上' '某样' '残酷' '每个'\n",
      " '看到' '真正' '秘密' '绝对' '美好' '联系' '过去' '这样']\n",
      "[[0 0 1 0 0 0 2 0 0 0 0 0 1 0 1 0 0 0 0 1 1 0 2 0 1 0 2 1 0 0 0 1 1 0 0 0]\n",
      " [0 0 0 1 0 0 0 1 1 1 0 0 0 0 0 0 0 1 3 0 0 0 0 1 0 0 0 0 2 0 0 0 0 0 1 1]\n",
      " [1 1 0 0 4 3 0 0 0 0 1 1 0 1 0 1 1 0 1 0 0 1 0 0 0 1 0 0 0 2 1 0 0 1 0 0]]\n"
     ]
    }
   ],
   "execution_count": 23
  },
  {
   "metadata": {},
   "cell_type": "markdown",
   "source": "### 1.4 TF-IDF Tfidfvectorizer",
   "id": "a1f46fea192807b7"
  },
  {
   "metadata": {},
   "cell_type": "code",
   "outputs": [],
   "execution_count": null,
   "source": [
    "\"\"\"\n",
    "    内部算法实现：\n",
    "                TF：term-frequency 词频\n",
    "                TF(t,d) = f(t,d)             // 简单模式 词t在文档d中出现的频次\n",
    "                TF(t,d) = f(t,d) / 总频次     // 复杂模式 词t在文档d中出现的次数 除以 所有文档中t出现的次数\n",
    "              \n",
    "                IDF：inverse-document-frequency 逆文档频率\n",
    "                IDF = log( N / 1+df(t) )      // N为语料库中总文档数\n",
    "                                                 df(t) = 包含t的文档数\n",
    "                                                 +1 为了处理零分裂情况\n",
    "                                                    \n",
    "    Tfidfvectorizer()的fit_transform用于在文本分类中处理那些在每一个文档中都出现的垃圾词 比如“this”“and”等\n",
    "    默认返回稀疏矩阵\n",
    "\"\"\""
   ],
   "id": "fceb8d0f2ed4fbb3"
  },
  {
   "metadata": {
    "ExecuteTime": {
     "end_time": "2025-01-09T11:24:02.602813Z",
     "start_time": "2025-01-09T11:24:02.595393Z"
    }
   },
   "cell_type": "code",
   "source": [
    "c1,c2,c3 = cutword()\n",
    "tf = TfidfVectorizer(smooth_idf=True)\n",
    "data = tf.fit_transform([c1,c2,c3])     \n",
    "print(tf.get_feature_names_out())       #这个叼毛自己就会每隔一个文档生成一个50*‘-’\n",
    "print('-'*100)\n",
    "print(type(data))         #<class 'scipy.sparse._csr.csr_matrix'>   可以看到这就是一个稀疏矩阵\n",
    "print('-'*100)\n",
    "print(data.toarray())"
   ],
   "id": "6ee76bc9cb0cceb8",
   "outputs": [
    {
     "name": "stdout",
     "output_type": "stream",
     "text": [
      "<class 'generator'>\n",
      "--------------------------------------------------\n",
      "['今天', '很', '残酷', '，', '明天', '更', '残酷', '，', '后天', '很', '美好', '，', '但', '绝对', '大部分', '是', '死', '在', '明天', '晚上', '，', '所以', '每个', '人', '不要', '放弃', '今天', '。']\n",
      "['我们', '看到', '的', '从', '很', '远', '星系', '来', '的', '光是在', '几百万年', '之前', '发出', '的', '，', '这样', '当', '我们', '看到', '宇宙', '时', '，', '我们', '是', '在', '看', '它', '的', '过去', '。']\n",
      "['如果', '只用', '一种', '方式', '了解', '某样', '事物', '，', '你', '就', '不会', '真正', '了解', '它', '。', '了解', '事物', '真正', '含义', '的', '秘密', '取决于', '如何', '将', '其', '与', '我们', '所', '了解', '的', '事物', '相', '联系', '。']\n",
      "--------------------------------------------------\n",
      "['一种' '不会' '不要' '之前' '了解' '事物' '今天' '光是在' '几百万年' '发出' '取决于' '只用' '后天' '含义'\n",
      " '大部分' '如何' '如果' '宇宙' '我们' '所以' '放弃' '方式' '明天' '星系' '晚上' '某样' '残酷' '每个'\n",
      " '看到' '真正' '秘密' '绝对' '美好' '联系' '过去' '这样']\n",
      "----------------------------------------------------------------------------------------------------\n",
      "<class 'scipy.sparse._csr.csr_matrix'>\n",
      "----------------------------------------------------------------------------------------------------\n",
      "[[0.         0.         0.21821789 0.         0.         0.\n",
      "  0.43643578 0.         0.         0.         0.         0.\n",
      "  0.21821789 0.         0.21821789 0.         0.         0.\n",
      "  0.         0.21821789 0.21821789 0.         0.43643578 0.\n",
      "  0.21821789 0.         0.43643578 0.21821789 0.         0.\n",
      "  0.         0.21821789 0.21821789 0.         0.         0.        ]\n",
      " [0.         0.         0.         0.2410822  0.         0.\n",
      "  0.         0.2410822  0.2410822  0.2410822  0.         0.\n",
      "  0.         0.         0.         0.         0.         0.2410822\n",
      "  0.55004769 0.         0.         0.         0.         0.2410822\n",
      "  0.         0.         0.         0.         0.48216441 0.\n",
      "  0.         0.         0.         0.         0.2410822  0.2410822 ]\n",
      " [0.15698297 0.15698297 0.         0.         0.62793188 0.47094891\n",
      "  0.         0.         0.         0.         0.15698297 0.15698297\n",
      "  0.         0.15698297 0.         0.15698297 0.15698297 0.\n",
      "  0.1193896  0.         0.         0.15698297 0.         0.\n",
      "  0.         0.15698297 0.         0.         0.         0.31396594\n",
      "  0.15698297 0.         0.         0.15698297 0.         0.        ]]\n"
     ]
    }
   ],
   "execution_count": 26
  },
  {
   "metadata": {},
   "cell_type": "markdown",
   "source": "# 2 特征处理，不同的特征拉到到同一个量纲",
   "id": "f12f952e1c5c04ae"
  },
  {
   "metadata": {},
   "cell_type": "markdown",
   "source": "### 2.1 归一化处理 MinMaxScaler()",
   "id": "410ba1ecb20b5760"
  },
  {
   "metadata": {},
   "cell_type": "code",
   "outputs": [],
   "execution_count": null,
   "source": [
    "\"\"\"\n",
    "\n",
    "    归一化主要目的是为了消除量纲，即不同特征值单位、值域范围不同时 可以消除影响，使不同尺度的特征具有相同的权重\n",
    "    MinMaxScaler归一化:通过将特征值线性映射到指定的范围，通常是[0,1]，来实现归一化\n",
    "    \n",
    "    公式：X' = （ X - Xmin ）/ （ Xmax - Xmin ）*( b- a ) + a   \n",
    "    \n",
    "    归一化结果就是[a,b]的范围，默认结果就是0，1 \n",
    "    \n",
    "    缺点：容易受到极值的影响，因为对比标准化，它减去的是 xmin 差值更大\n",
    "    \n",
    "    ** 在MinMaxScaler中transform和fit_transform的区别是transform用于测试集，而且不会重新找最小值和最大值\n",
    "    ** 所以这也导致了即使归一化结果是0,1，在测试集测试过程中也可能由于异常值而导致结果出现负数\n",
    "    \n",
    "    **对于含有异常值的数据，可以使用 RobustScaler（它通过中位数和四分位数来进行缩放）来减少异常值的影响，或者在使用 MinMaxScaler 前进行数据清理（例如去除或修正异常值）。\n",
    "\n",
    "\n",
    "\"\"\""
   ],
   "id": "d58136a53e244044"
  },
  {
   "metadata": {
    "ExecuteTime": {
     "end_time": "2025-01-09T11:45:48.257415Z",
     "start_time": "2025-01-09T11:45:48.248303Z"
    }
   },
   "cell_type": "code",
   "source": [
    "def mm():\n",
    "\n",
    "    # 归一化缺点 容易受极值的影响\n",
    "    #feature_range代表特征值范围，一般设置为(0,1),或者(-1,1),默认是(0,1)\n",
    "    mm = MinMaxScaler(feature_range=(0, 1))\n",
    "\n",
    "    data = mm.fit_transform([[90, 2, 10, 40], [60, 4, 15, 45], [75, 3, 13, 46]])\n",
    "\n",
    "    print(data)\n",
    "    print('-'*50)\n",
    "    out=mm.transform([[1, 2, 3, 4],[6, 5, 8, 7]])\n",
    "    print(out)\n",
    "    return None\n",
    "    #transform和fit_transform不同是，transform用于测试集，而且不会重新找最小值和最大值\n",
    "\n",
    "mm()"
   ],
   "id": "e30d240e883ac03c",
   "outputs": [
    {
     "name": "stdout",
     "output_type": "stream",
     "text": [
      "[[1.         0.         0.         0.        ]\n",
      " [0.         1.         1.         0.83333333]\n",
      " [0.5        0.5        0.6        1.        ]]\n",
      "--------------------------------------------------\n",
      "[[-1.96666667  0.         -1.4        -6.        ]\n",
      " [-1.8         1.5        -0.4        -5.5       ]]\n"
     ]
    }
   ],
   "execution_count": 27
  },
  {
   "metadata": {},
   "cell_type": "markdown",
   "source": "### 2.2标准化 StanderScaler()",
   "id": "efc6439bb3954197"
  },
  {
   "metadata": {},
   "cell_type": "code",
   "outputs": [],
   "execution_count": null,
   "source": [
    "\"\"\"\n",
    "\n",
    "    标准化处理\n",
    "    \n",
    "    公式： X' = (X - μ) / σ       // μ是特征值组的均值，σ是特征值组标准差\n",
    "    \n",
    "    由于对数据集的每个特征值都减去均值，就会导致结果的数据集组的均值为0，标准差和方差为1\n",
    "    \n",
    "\n",
    "\"\"\""
   ],
   "id": "9fae02749682fbde"
  },
  {
   "metadata": {},
   "cell_type": "code",
   "outputs": [
    {
     "name": "stdout",
     "output_type": "stream",
     "text": [
      "[[-1.06904497 -1.35873244  0.98058068]\n",
      " [-0.26726124  0.33968311  0.39223227]\n",
      " [ 1.33630621  1.01904933 -1.37281295]]\n",
      "--------------------------------------------------\n",
      "[2.33333333 3.         1.33333333]\n",
      "--------------------------------------------------\n",
      "[1.55555556 8.66666667 2.88888889]\n",
      "3\n"
     ]
    },
    {
     "data": {
      "text/plain": [
       "numpy.ndarray"
      ]
     },
     "execution_count": 30,
     "metadata": {},
     "output_type": "execute_result"
    }
   ],
   "execution_count": 30,
   "source": [
    "def stand():\n",
    "    std = StandardScaler()\n",
    "\n",
    "    data = std.fit_transform([[1., -1., 3.], [2., 4., 2.], [4., 6., -1.]])\n",
    "\n",
    "\n",
    "\n",
    "    ##注意这里的std的mean_和var_、n_samples_seen_方法，只有给std传入过数据以后才有意义\n",
    "    \n",
    "    print(data)\n",
    "    print('-' * 50)\n",
    "    print(std.mean_)\n",
    "    print('-' * 50)\n",
    "    print(std.var_)\n",
    "    print(std.n_samples_seen_)  # 样本数\n",
    "    return data\n",
    "\n",
    "\n",
    "data=stand()\n",
    "type(data)\n",
    "\n",
    "\n",
    "\n"
   ],
   "id": "38fdd32be66c85d7"
  },
  {
   "metadata": {},
   "cell_type": "markdown",
   "source": [
    "# 3 缺失值处理\n",
    "\n"
   ],
   "id": "c0fcdf21ec31ecc9"
  },
  {
   "metadata": {},
   "cell_type": "markdown",
   "source": "### 3.1 填补 SimpleImputer()",
   "id": "98244ad9e5a67425"
  },
  {
   "metadata": {},
   "cell_type": "code",
   "outputs": [],
   "execution_count": null,
   "source": [
    "\"\"\" \n",
    "    SimpleInputer()可以通过strategy方法选择用均值、中位数、众数或是constant来填补缺失值\n",
    "    \n",
    "    常数填补法还需补一个参数 fill_value = 参数（这个参数可以是任何类型，字符串啥的）\n",
    "    \n",
    "    当数据类型不是数值时，就可以用const或是众数\n",
    "\"\"\""
   ],
   "id": "29bc3ab9d5648945"
  },
  {
   "metadata": {
    "ExecuteTime": {
     "end_time": "2025-01-09T12:22:51.653970Z",
     "start_time": "2025-01-09T12:22:51.638068Z"
    }
   },
   "cell_type": "code",
   "source": [
    "\n",
    "def im():\n",
    "    # NaN, nan,缺失值必须是这种形式，如果是？号(或者其他符号)，就要replace换成这种\n",
    "    \n",
    "    im = SimpleImputer(missing_values=np.nan, strategy='mean')\n",
    "\n",
    "    data = im.fit_transform([[1, 2], [np.nan, 3], [7, 6], [3, 2]])\n",
    "\n",
    "    print(data)\n",
    "\n",
    "    return None\n",
    "\n",
    "\n",
    "im()"
   ],
   "id": "7b76b651efdb3303",
   "outputs": [
    {
     "name": "stdout",
     "output_type": "stream",
     "text": [
      "[[1.         2.        ]\n",
      " [3.66666667 3.        ]\n",
      " [7.         6.        ]\n",
      " [3.         2.        ]]\n"
     ]
    }
   ],
   "execution_count": 31
  },
  {
   "metadata": {},
   "cell_type": "markdown",
   "source": "# 4 降维",
   "id": "5017f0bd06cb7fdb"
  },
  {
   "metadata": {},
   "cell_type": "code",
   "outputs": [],
   "execution_count": null,
   "source": [
    "\"\"\"\n",
    "    降维顾名思义就是将特征数的维度（这里的维度指的就是特征矩阵里的列数）减少，增加计算效率\n",
    "\"\"\""
   ],
   "id": "5e15ad8669287e4f"
  },
  {
   "metadata": {},
   "cell_type": "markdown",
   "source": "### 4.1 过滤式降维：特征选择-删除低方差的特征 VarianceThreshold(threshold = 0.1) （无监督）",
   "id": "2730de48ec146995"
  },
  {
   "metadata": {},
   "cell_type": "code",
   "outputs": [],
   "execution_count": null,
   "source": [
    "\"\"\"\n",
    "    用于去除低方差的特征 因为他对模型训练带来的贡献小，可以去除\n",
    "    threshold：指定方差的最小阈值，只有方差大于该值的特征才会被保留。\n",
    "    threshold=0（默认）会去除所有方差为 0 的特征，即去除常量特征。\n",
    "    get_supprot() 用于输出被保留下来的特征列\n",
    "\"\"\""
   ],
   "id": "a22af09a26f2331b"
  },
  {
   "metadata": {
    "ExecuteTime": {
     "end_time": "2025-01-09T12:34:17.935431Z",
     "start_time": "2025-01-09T12:34:17.924048Z"
    }
   },
   "cell_type": "code",
   "source": [
    "def var():\n",
    "\n",
    "    #默认只删除方差为0,threshold是方差阈值，删除比这个值小的那些特征\n",
    "    var = VarianceThreshold(threshold=0.1)\n",
    "\n",
    "    data = var.fit_transform([[0, 2, 0, 3],\n",
    "                              [0, 1, 4, 3],\n",
    "                              [0, 1, 1, 3]])\n",
    "\n",
    "    print(data)\n",
    "    # 获得剩余的特征的列编号\n",
    "    print('The surport is %s' % var.get_support(True))\n",
    "    return None\n",
    "\n",
    "\n",
    "var()\n"
   ],
   "id": "7a3a09c4ecb89828",
   "outputs": [
    {
     "name": "stdout",
     "output_type": "stream",
     "text": [
      "[[2 0]\n",
      " [1 4]\n",
      " [1 1]]\n",
      "The surport is [1 2]\n"
     ]
    }
   ],
   "execution_count": 32
  },
  {
   "metadata": {},
   "cell_type": "markdown",
   "source": "### 4.2 主成分分析 PCA\n",
   "id": "aab3f046977d5b47"
  },
  {
   "metadata": {},
   "cell_type": "code",
   "outputs": [],
   "execution_count": null,
   "source": [
    "\"\"\"\n",
    "    主成分分析 pca\n",
    "    \n",
    "    n_ components:小数 0~1 90% 业界选择 90~95%\n",
    "\n",
    "    当n_components的值为0到1之间的浮点数时，表示我们希望保留的主成分解释的方差比例。方差比例是指 得到输出的每一列的方差值和除以原有数据方差之和。\n",
    "    具体而言，n_components=0.9表示我们希望选择足够的主成分，以使它们解释数据方差的90%。\n",
    "\n",
    "    n_components如果是整数   减少到的特征数量\n",
    "    原始数据方差\n",
    "\"\"\""
   ],
   "id": "7ef44c0c9c540922"
  },
  {
   "metadata": {},
   "cell_type": "code",
   "outputs": [],
   "execution_count": null,
   "source": [
    "\"\"\"\n",
    "    PCA 的原理\n",
    "    PCA 主要通过以下几个步骤实现数据的降维：\n",
    "\n",
    "    1.标准化数据：如果数据的各个特征具有不同的尺度，首先对数据进行标准化处理，使得每个特征的均值为 0，方差为 1（即转换为标准正态分布）。这一步骤非常重要，因为 PCA 对不同尺度的特征非常敏感。\n",
    "    2.计算协方差矩阵：计算数据集中各个特征之间的协方差，用于衡量特征之间的相关性。\n",
    "    3.计算特征值和特征向量：通过特征分解协方差矩阵，得到特征值和特征向量。特征向量表示数据的新轴方向，特征值表示该方向上数据的变异性。\n",
    "    4.选择主成分：根据特征值的大小，选择前几个特征值对应的特征向量作为主成分。特征值越大，表示该主成分方向上的数据变异性越大，越重要。\n",
    "    5.投影数据：将数据投影到这些选定的主成分上，得到降维后的数据。\n",
    "    \n",
    "\"\"\""
   ],
   "id": "e1f9f303e4e82f21"
  },
  {
   "metadata": {},
   "cell_type": "markdown",
   "source": "#### 4.2.1 试例1  2维降1维",
   "id": "c40470f0bdd33dab"
  },
  {
   "metadata": {
    "ExecuteTime": {
     "end_time": "2025-01-09T13:03:06.360928Z",
     "start_time": "2025-01-09T13:03:06.357081Z"
    }
   },
   "cell_type": "code",
   "source": [
    "from sklearn.decomposition import PCA\n",
    "from sklearn.preprocessing import StandardScaler\n",
    "import numpy as np\n",
    "\n",
    "# 示例数据\n",
    "X = np.array([[2.5, 2.4],\n",
    "              [0.5, 0.7],\n",
    "              [2.2, 2.9],\n",
    "              [1.9, 2.2],\n",
    "              [3.1, 3.0]])\n",
    "\n",
    "# 数据标准化\n",
    "std = StandardScaler()\n",
    "X_std = std.fit_transform(X)\n",
    "\n",
    "# 创建 PCA 对象，降到 1 维\n",
    "pca = PCA(n_components=1)\n",
    "\n",
    "# 拟合并转换数据\n",
    "X_pca = pca.fit_transform(X_std)\n",
    "\n",
    "print(\"降维后的数据：\")\n",
    "print(X_pca)\n",
    "\n",
    "print(pca.explained_variance_ratio_)\n",
    "\n"
   ],
   "id": "d046c130f272b963",
   "outputs": [
    {
     "name": "stdout",
     "output_type": "stream",
     "text": [
      "降维后的数据：\n",
      "[[ 0.5124457 ]\n",
      " [-2.57528445]\n",
      " [ 0.69555387]\n",
      " [-0.1485184 ]\n",
      " [ 1.51580328]]\n",
      "[0.96982031]\n"
     ]
    }
   ],
   "execution_count": 42
  },
  {
   "metadata": {},
   "cell_type": "markdown",
   "source": "查看pca降维前后对比",
   "id": "a68ad08415063bc8"
  },
  {
   "metadata": {
    "ExecuteTime": {
     "end_time": "2025-01-09T12:50:18.741944Z",
     "start_time": "2025-01-09T12:50:18.737828Z"
    }
   },
   "cell_type": "code",
   "source": [
    "# 创建 PCA 对象，保留所有主成分 \n",
    "# X_std.shape[1]就是x_std原来的1维的数据量，也就是列数 主要还是二维的处理办法(先挖坑)\n",
    "pca = PCA(n_components=X_std.shape[1])\n",
    "\n",
    "# 拟合数据\n",
    "pca.fit(X_std)\n",
    "\n",
    "# 查看各主成分的方差贡献比例\n",
    "print(\"各主成分的方差贡献比例：\")\n",
    "print(pca.explained_variance_ratio_)\n",
    "\n",
    "# 查看总方差贡献\n",
    "print(\"总方差贡献：\", sum(pca.explained_variance_ratio_))"
   ],
   "id": "7b07170390f0a19a",
   "outputs": [
    {
     "name": "stdout",
     "output_type": "stream",
     "text": [
      "各主成分的方差贡献比例：\n",
      "[0.96982031 0.03017969]\n",
      "总方差贡献： 1.0\n"
     ]
    }
   ],
   "execution_count": 38
  },
  {
   "metadata": {
    "ExecuteTime": {
     "end_time": "2025-01-09T12:51:51.001856Z",
     "start_time": "2025-01-09T12:51:50.994661Z"
    }
   },
   "cell_type": "code",
   "source": [
    "arr = np.array([[[1, 2], [3, 4], [5, 6]],\n",
    "                [[7, 8], [9, 10], [11, 12]],\n",
    "                [[13, 14], [15, 16], [17, 18]],\n",
    "                [[19, 20], [21, 22], [23, 24]]])\n",
    "arr.shape[1]"
   ],
   "id": "95097fd82e9b43b7",
   "outputs": [
    {
     "data": {
      "text/plain": [
       "3"
      ]
     },
     "execution_count": 39,
     "metadata": {},
     "output_type": "execute_result"
    }
   ],
   "execution_count": 39
  },
  {
   "metadata": {},
   "cell_type": "markdown",
   "source": "# 均匀分布",
   "id": "7f847601363abe00"
  },
  {
   "metadata": {
    "ExecuteTime": {
     "end_time": "2025-01-09T12:58:34.663150Z",
     "start_time": "2025-01-09T12:58:34.034555Z"
    }
   },
   "cell_type": "code",
   "source": [
    "from matplotlib import pyplot as plt\n",
    "x = np.random.rand(10000) #每个的概率\n",
    "t = np.arange(len(x))\n",
    "plt.plot(t,x,'g.',label=\"Uniform Distribution\")\n",
    "plt.legend(loc=\"upper left\")\n",
    "plt.grid()\n",
    "plt.show()"
   ],
   "id": "b7ea166043506745",
   "outputs": [
    {
     "data": {
      "text/plain": [
       "<Figure size 640x480 with 1 Axes>"
      ],
      "image/png": "[encoded data removed]"
     },
     "metadata": {},
     "output_type": "display_data"
    }
   ],
   "execution_count": 40
  }
 ],
 "metadata": {
  "kernelspec": {
   "display_name": "Python 3",
   "language": "python",
   "name": "python3"
  },
  "language_info": {
   "codemirror_mode": {
    "name": "ipython",
    "version": 2
   },
   "file_extension": ".py",
   "mimetype": "text/x-python",
   "name": "python",
   "nbconvert_exporter": "python",
   "pygments_lexer": "ipython2",
   "version": "2.7.6"
  }
 },
 "nbformat": 4,
 "nbformat_minor": 5
}
