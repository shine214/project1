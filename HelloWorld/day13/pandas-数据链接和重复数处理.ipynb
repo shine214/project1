{
 "cells": [
  {
   "metadata": {},
   "cell_type": "markdown",
   "source": "# 层级索引创建多维df",
   "id": "817d6c7a443616bb"
  },
  {
   "metadata": {},
   "cell_type": "code",
   "outputs": [
    {
     "name": "stdout",
     "output_type": "stream",
     "text": [
      "              Value\n",
      "Dim1 Dim2          \n",
      "A    2    -0.150791\n",
      "     2     1.515344\n"
     ]
    }
   ],
   "execution_count": 14,
   "source": [
    "import pandas as pd\n",
    "import numpy as np\n",
    "\n",
    "# 创建 3x3x2 的三维数据\n",
    "data = np.random.randn(3, 3, 2)  # 3x3x2 数据，18个元素\n",
    "\n",
    "# 创建 MultiIndex （确保索引数量与数据数量一致）\n",
    "arrays = [\n",
    "    ['A', 'A', 'A', 'B', 'B', 'B', 'C', 'C', 'C', 'A', 'A', 'A', 'B', 'B', 'B', 'C', 'C', 'C'],  # Dim1\n",
    "    ['1', '2', '3', '1', '2', '3', '1', '2', '3', '1', '2', '3', '1', '2', '3', '1', '2', '3'],  # Dim2\n",
    "]\n",
    "\n",
    "# 创建 MultiIndex\n",
    "index = pd.MultiIndex.from_arrays(arrays, names=('Dim1', 'Dim2'))\n",
    "\n",
    "# 创建 DataFrame，确保数据与索引数量匹配\n",
    "df = pd.DataFrame(data.flatten(), index=index, columns=['Value'])\n",
    "df = df.sort_index()\n",
    "# print(df)\n",
    "df_a_2 = df.loc['A','2']\n",
    "print(df_a_2)\n",
    "# print(df_a.loc['2'])"
   ],
   "id": "initial_id"
  },
  {
   "metadata": {},
   "cell_type": "markdown",
   "source": "# 数据链接 Merge",
   "id": "8a4f989b7840da1a"
  },
  {
   "metadata": {},
   "cell_type": "code",
   "outputs": [],
   "execution_count": null,
   "source": [
    "\"\"\"\n",
    "参数1： 链接方式 how ：\n",
    "        1.how = 'ineer' 即内连接，会选择在两个df中都存在的key\n",
    "        2.how = 'outer' 外链接，会返回两个df中的所有行，如有一侧没匹配，就会填入nan\n",
    "        3.how = 'left'  左连接，保留左侧的所有行，右侧如果没有，就填nan\n",
    "        4.how = 'right' 右连接，保留右侧行，左侧如果没有就nan\n",
    "        \n",
    "参数2   基于哪个列 on:\n",
    "        1. on = 'key' 搭配inner就是 两侧都有key的行\n",
    "        2. left_on = 'key' 搭配inner就是等于 left，on\n",
    "        3. right_on = 'key' 同理\n",
    "\"\"\""
   ],
   "id": "ea82573d2629c31a"
  },
  {
   "metadata": {
    "ExecuteTime": {
     "end_time": "2025-01-08T05:59:07.012337Z",
     "start_time": "2025-01-08T05:59:07.000519Z"
    }
   },
   "cell_type": "code",
   "source": [
    "import pandas as pd\n",
    "import numpy as np\n",
    "df_obj1 = pd.DataFrame({'key': ['b', 'b', 'a', 'c', 'a', 'a', 'b'],'data1' : np.random.randint(0,10,7)})\n",
    "df_obj2 = pd.DataFrame({'key': ['a', 'b', 'd'],\n",
    "'data2' : np.random.randint(0,10,3)})\n",
    "print(df_obj1)\n",
    "print(df_obj2)\n",
    "print(df_obj1.merge(df_obj2))"
   ],
   "id": "1eeb059c82803a7b",
   "outputs": [
    {
     "name": "stdout",
     "output_type": "stream",
     "text": [
      "  key  data1\n",
      "0   b      1\n",
      "1   b      1\n",
      "2   a      7\n",
      "3   c      8\n",
      "4   a      8\n",
      "5   a      4\n",
      "6   b      5\n",
      "  key  data2\n",
      "0   a      8\n",
      "1   b      6\n",
      "2   d      2\n",
      "  key  data1  data2\n",
      "0   b      1      6\n",
      "1   b      1      6\n",
      "2   a      7      8\n",
      "3   a      8      8\n",
      "4   a      4      8\n",
      "5   b      5      6\n"
     ]
    }
   ],
   "execution_count": 16
  },
  {
   "metadata": {
    "ExecuteTime": {
     "end_time": "2025-01-08T06:10:35.281551Z",
     "start_time": "2025-01-08T06:10:35.259353Z"
    }
   },
   "cell_type": "code",
   "source": [
    "# on 显示指定“外键”\n",
    "print(pd.merge(df_obj1, df_obj2, on='key'))"
   ],
   "id": "d169ebd2e6bd25b",
   "outputs": [
    {
     "name": "stdout",
     "output_type": "stream",
     "text": [
      "  key  data1  data2\n",
      "0   b      1      6\n",
      "1   b      1      6\n",
      "2   a      7      8\n",
      "3   a      8      8\n",
      "4   a      4      8\n",
      "5   b      5      6\n"
     ]
    }
   ],
   "execution_count": 17
  },
  {
   "metadata": {
    "ExecuteTime": {
     "end_time": "2025-01-08T06:19:42.820972Z",
     "start_time": "2025-01-08T06:19:42.813061Z"
    }
   },
   "cell_type": "code",
   "source": [
    "# left_on，right_on 分别指定左侧数据和右侧数据的“外键”\n",
    "# 更改列名\n",
    "df_obj1 = df_obj1.rename(columns={'key':'key1'})\n",
    "df_obj2 = df_obj2.rename(columns={'key':'key2'})\n",
    "merge_df = pd.merge(df_obj1, df_obj2, left_on='key1', right_on='key2')\n",
    "print(merge_df)"
   ],
   "id": "2bb8e0827de059ae",
   "outputs": [
    {
     "name": "stdout",
     "output_type": "stream",
     "text": [
      "  key1  data1 key2  data2\n",
      "0    b      1    b      6\n",
      "1    b      1    b      6\n",
      "2    a      7    a      8\n",
      "3    a      8    a      8\n",
      "4    a      4    a      8\n",
      "5    b      5    b      6\n"
     ]
    }
   ],
   "execution_count": 30
  },
  {
   "metadata": {},
   "cell_type": "markdown",
   "source": "如果已经得到了 key1 data1 key2 data2这样的上述df，怎样回到key data1 data2的形式",
   "id": "edc8f14e2704c624"
  },
  {
   "metadata": {
    "ExecuteTime": {
     "end_time": "2025-01-08T06:23:31.142992Z",
     "start_time": "2025-01-08T06:23:31.096309Z"
    }
   },
   "cell_type": "code",
   "source": [
    "merge_df = merge_df.drop(columns=['key1'])\n",
    "merge_df = merge_df.rename(columns = {'key2':'key'})\n",
    "print(merge_df)"
   ],
   "id": "5bb75fb211899b6b",
   "outputs": [
    {
     "ename": "KeyError",
     "evalue": "\"['key1'] not found in axis\"",
     "output_type": "error",
     "traceback": [
      "\u001B[0;31m---------------------------------------------------------------------------\u001B[0m",
      "\u001B[0;31mKeyError\u001B[0m                                  Traceback (most recent call last)",
      "Cell \u001B[0;32mIn[32], line 1\u001B[0m\n\u001B[0;32m----> 1\u001B[0m merge_df \u001B[38;5;241m=\u001B[39m \u001B[43mmerge_df\u001B[49m\u001B[38;5;241;43m.\u001B[39;49m\u001B[43mdrop\u001B[49m\u001B[43m(\u001B[49m\u001B[43mcolumns\u001B[49m\u001B[38;5;241;43m=\u001B[39;49m\u001B[43m[\u001B[49m\u001B[38;5;124;43m'\u001B[39;49m\u001B[38;5;124;43mkey1\u001B[39;49m\u001B[38;5;124;43m'\u001B[39;49m\u001B[43m]\u001B[49m\u001B[43m)\u001B[49m\n\u001B[1;32m      2\u001B[0m merge_df \u001B[38;5;241m=\u001B[39m merge_df\u001B[38;5;241m.\u001B[39mrename(columns \u001B[38;5;241m=\u001B[39m {\u001B[38;5;124m'\u001B[39m\u001B[38;5;124mkey2\u001B[39m\u001B[38;5;124m'\u001B[39m:\u001B[38;5;124m'\u001B[39m\u001B[38;5;124mkey\u001B[39m\u001B[38;5;124m'\u001B[39m})\n\u001B[1;32m      3\u001B[0m \u001B[38;5;28mprint\u001B[39m(merge_df)\n",
      "File \u001B[0;32m/Library/Frameworks/Python.framework/Versions/3.12/lib/python3.12/site-packages/pandas/core/frame.py:5581\u001B[0m, in \u001B[0;36mDataFrame.drop\u001B[0;34m(self, labels, axis, index, columns, level, inplace, errors)\u001B[0m\n\u001B[1;32m   5433\u001B[0m \u001B[38;5;28;01mdef\u001B[39;00m \u001B[38;5;21mdrop\u001B[39m(\n\u001B[1;32m   5434\u001B[0m     \u001B[38;5;28mself\u001B[39m,\n\u001B[1;32m   5435\u001B[0m     labels: IndexLabel \u001B[38;5;241m|\u001B[39m \u001B[38;5;28;01mNone\u001B[39;00m \u001B[38;5;241m=\u001B[39m \u001B[38;5;28;01mNone\u001B[39;00m,\n\u001B[0;32m   (...)\u001B[0m\n\u001B[1;32m   5442\u001B[0m     errors: IgnoreRaise \u001B[38;5;241m=\u001B[39m \u001B[38;5;124m\"\u001B[39m\u001B[38;5;124mraise\u001B[39m\u001B[38;5;124m\"\u001B[39m,\n\u001B[1;32m   5443\u001B[0m ) \u001B[38;5;241m-\u001B[39m\u001B[38;5;241m>\u001B[39m DataFrame \u001B[38;5;241m|\u001B[39m \u001B[38;5;28;01mNone\u001B[39;00m:\n\u001B[1;32m   5444\u001B[0m \u001B[38;5;250m    \u001B[39m\u001B[38;5;124;03m\"\"\"\u001B[39;00m\n\u001B[1;32m   5445\u001B[0m \u001B[38;5;124;03m    Drop specified labels from rows or columns.\u001B[39;00m\n\u001B[1;32m   5446\u001B[0m \n\u001B[0;32m   (...)\u001B[0m\n\u001B[1;32m   5579\u001B[0m \u001B[38;5;124;03m            weight  1.0     0.8\u001B[39;00m\n\u001B[1;32m   5580\u001B[0m \u001B[38;5;124;03m    \"\"\"\u001B[39;00m\n\u001B[0;32m-> 5581\u001B[0m     \u001B[38;5;28;01mreturn\u001B[39;00m \u001B[38;5;28;43msuper\u001B[39;49m\u001B[43m(\u001B[49m\u001B[43m)\u001B[49m\u001B[38;5;241;43m.\u001B[39;49m\u001B[43mdrop\u001B[49m\u001B[43m(\u001B[49m\n\u001B[1;32m   5582\u001B[0m \u001B[43m        \u001B[49m\u001B[43mlabels\u001B[49m\u001B[38;5;241;43m=\u001B[39;49m\u001B[43mlabels\u001B[49m\u001B[43m,\u001B[49m\n\u001B[1;32m   5583\u001B[0m \u001B[43m        \u001B[49m\u001B[43maxis\u001B[49m\u001B[38;5;241;43m=\u001B[39;49m\u001B[43maxis\u001B[49m\u001B[43m,\u001B[49m\n\u001B[1;32m   5584\u001B[0m \u001B[43m        \u001B[49m\u001B[43mindex\u001B[49m\u001B[38;5;241;43m=\u001B[39;49m\u001B[43mindex\u001B[49m\u001B[43m,\u001B[49m\n\u001B[1;32m   5585\u001B[0m \u001B[43m        \u001B[49m\u001B[43mcolumns\u001B[49m\u001B[38;5;241;43m=\u001B[39;49m\u001B[43mcolumns\u001B[49m\u001B[43m,\u001B[49m\n\u001B[1;32m   5586\u001B[0m \u001B[43m        \u001B[49m\u001B[43mlevel\u001B[49m\u001B[38;5;241;43m=\u001B[39;49m\u001B[43mlevel\u001B[49m\u001B[43m,\u001B[49m\n\u001B[1;32m   5587\u001B[0m \u001B[43m        \u001B[49m\u001B[43minplace\u001B[49m\u001B[38;5;241;43m=\u001B[39;49m\u001B[43minplace\u001B[49m\u001B[43m,\u001B[49m\n\u001B[1;32m   5588\u001B[0m \u001B[43m        \u001B[49m\u001B[43merrors\u001B[49m\u001B[38;5;241;43m=\u001B[39;49m\u001B[43merrors\u001B[49m\u001B[43m,\u001B[49m\n\u001B[1;32m   5589\u001B[0m \u001B[43m    \u001B[49m\u001B[43m)\u001B[49m\n",
      "File \u001B[0;32m/Library/Frameworks/Python.framework/Versions/3.12/lib/python3.12/site-packages/pandas/core/generic.py:4788\u001B[0m, in \u001B[0;36mNDFrame.drop\u001B[0;34m(self, labels, axis, index, columns, level, inplace, errors)\u001B[0m\n\u001B[1;32m   4786\u001B[0m \u001B[38;5;28;01mfor\u001B[39;00m axis, labels \u001B[38;5;129;01min\u001B[39;00m axes\u001B[38;5;241m.\u001B[39mitems():\n\u001B[1;32m   4787\u001B[0m     \u001B[38;5;28;01mif\u001B[39;00m labels \u001B[38;5;129;01mis\u001B[39;00m \u001B[38;5;129;01mnot\u001B[39;00m \u001B[38;5;28;01mNone\u001B[39;00m:\n\u001B[0;32m-> 4788\u001B[0m         obj \u001B[38;5;241m=\u001B[39m \u001B[43mobj\u001B[49m\u001B[38;5;241;43m.\u001B[39;49m\u001B[43m_drop_axis\u001B[49m\u001B[43m(\u001B[49m\u001B[43mlabels\u001B[49m\u001B[43m,\u001B[49m\u001B[43m \u001B[49m\u001B[43maxis\u001B[49m\u001B[43m,\u001B[49m\u001B[43m \u001B[49m\u001B[43mlevel\u001B[49m\u001B[38;5;241;43m=\u001B[39;49m\u001B[43mlevel\u001B[49m\u001B[43m,\u001B[49m\u001B[43m \u001B[49m\u001B[43merrors\u001B[49m\u001B[38;5;241;43m=\u001B[39;49m\u001B[43merrors\u001B[49m\u001B[43m)\u001B[49m\n\u001B[1;32m   4790\u001B[0m \u001B[38;5;28;01mif\u001B[39;00m inplace:\n\u001B[1;32m   4791\u001B[0m     \u001B[38;5;28mself\u001B[39m\u001B[38;5;241m.\u001B[39m_update_inplace(obj)\n",
      "File \u001B[0;32m/Library/Frameworks/Python.framework/Versions/3.12/lib/python3.12/site-packages/pandas/core/generic.py:4830\u001B[0m, in \u001B[0;36mNDFrame._drop_axis\u001B[0;34m(self, labels, axis, level, errors, only_slice)\u001B[0m\n\u001B[1;32m   4828\u001B[0m         new_axis \u001B[38;5;241m=\u001B[39m axis\u001B[38;5;241m.\u001B[39mdrop(labels, level\u001B[38;5;241m=\u001B[39mlevel, errors\u001B[38;5;241m=\u001B[39merrors)\n\u001B[1;32m   4829\u001B[0m     \u001B[38;5;28;01melse\u001B[39;00m:\n\u001B[0;32m-> 4830\u001B[0m         new_axis \u001B[38;5;241m=\u001B[39m \u001B[43maxis\u001B[49m\u001B[38;5;241;43m.\u001B[39;49m\u001B[43mdrop\u001B[49m\u001B[43m(\u001B[49m\u001B[43mlabels\u001B[49m\u001B[43m,\u001B[49m\u001B[43m \u001B[49m\u001B[43merrors\u001B[49m\u001B[38;5;241;43m=\u001B[39;49m\u001B[43merrors\u001B[49m\u001B[43m)\u001B[49m\n\u001B[1;32m   4831\u001B[0m     indexer \u001B[38;5;241m=\u001B[39m axis\u001B[38;5;241m.\u001B[39mget_indexer(new_axis)\n\u001B[1;32m   4833\u001B[0m \u001B[38;5;66;03m# Case for non-unique axis\u001B[39;00m\n\u001B[1;32m   4834\u001B[0m \u001B[38;5;28;01melse\u001B[39;00m:\n",
      "File \u001B[0;32m/Library/Frameworks/Python.framework/Versions/3.12/lib/python3.12/site-packages/pandas/core/indexes/base.py:7070\u001B[0m, in \u001B[0;36mIndex.drop\u001B[0;34m(self, labels, errors)\u001B[0m\n\u001B[1;32m   7068\u001B[0m \u001B[38;5;28;01mif\u001B[39;00m mask\u001B[38;5;241m.\u001B[39many():\n\u001B[1;32m   7069\u001B[0m     \u001B[38;5;28;01mif\u001B[39;00m errors \u001B[38;5;241m!=\u001B[39m \u001B[38;5;124m\"\u001B[39m\u001B[38;5;124mignore\u001B[39m\u001B[38;5;124m\"\u001B[39m:\n\u001B[0;32m-> 7070\u001B[0m         \u001B[38;5;28;01mraise\u001B[39;00m \u001B[38;5;167;01mKeyError\u001B[39;00m(\u001B[38;5;124mf\u001B[39m\u001B[38;5;124m\"\u001B[39m\u001B[38;5;132;01m{\u001B[39;00mlabels[mask]\u001B[38;5;241m.\u001B[39mtolist()\u001B[38;5;132;01m}\u001B[39;00m\u001B[38;5;124m not found in axis\u001B[39m\u001B[38;5;124m\"\u001B[39m)\n\u001B[1;32m   7071\u001B[0m     indexer \u001B[38;5;241m=\u001B[39m indexer[\u001B[38;5;241m~\u001B[39mmask]\n\u001B[1;32m   7072\u001B[0m \u001B[38;5;28;01mreturn\u001B[39;00m \u001B[38;5;28mself\u001B[39m\u001B[38;5;241m.\u001B[39mdelete(indexer)\n",
      "\u001B[0;31mKeyError\u001B[0m: \"['key1'] not found in axis\""
     ]
    }
   ],
   "execution_count": 32
  },
  {
   "metadata": {
    "ExecuteTime": {
     "end_time": "2025-01-08T06:29:22.009114Z",
     "start_time": "2025-01-08T06:29:22.003448Z"
    }
   },
   "cell_type": "code",
   "source": [
    "# “外连接”\n",
    "print(pd.merge(df_obj1, df_obj2, left_on='key1', right_on='key2', how='outer'))"
   ],
   "id": "c6c470b3c1b84d38",
   "outputs": [
    {
     "name": "stdout",
     "output_type": "stream",
     "text": [
      "  key1  data1 key2  data2\n",
      "0    a    7.0    a    8.0\n",
      "1    a    8.0    a    8.0\n",
      "2    a    4.0    a    8.0\n",
      "3    b    1.0    b    6.0\n",
      "4    b    1.0    b    6.0\n",
      "5    b    5.0    b    6.0\n",
      "6    c    8.0  NaN    NaN\n",
      "7  NaN    NaN    d    2.0\n"
     ]
    }
   ],
   "execution_count": 37
  },
  {
   "metadata": {
    "ExecuteTime": {
     "end_time": "2025-01-08T06:29:49.300293Z",
     "start_time": "2025-01-08T06:29:49.295998Z"
    }
   },
   "cell_type": "code",
   "source": [
    "# 左连接\n",
    "print(pd.merge(df_obj1, df_obj2, left_on='key1', right_on='key2', how='left'))"
   ],
   "id": "964e67bac4889f99",
   "outputs": [
    {
     "name": "stdout",
     "output_type": "stream",
     "text": [
      "  key1  data1 key2  data2\n",
      "0    b      1    b    6.0\n",
      "1    b      1    b    6.0\n",
      "2    a      7    a    8.0\n",
      "3    c      8  NaN    NaN\n",
      "4    a      8    a    8.0\n",
      "5    a      4    a    8.0\n",
      "6    b      5    b    6.0\n"
     ]
    }
   ],
   "execution_count": 38
  },
  {
   "metadata": {
    "ExecuteTime": {
     "end_time": "2025-01-08T06:30:05.320663Z",
     "start_time": "2025-01-08T06:30:05.311676Z"
    }
   },
   "cell_type": "code",
   "source": [
    "# 右连接\n",
    "print(pd.merge(df_obj1, df_obj2, left_on='key1', right_on='key2', how='right'))"
   ],
   "id": "8ce2b0d659a5b511",
   "outputs": [
    {
     "name": "stdout",
     "output_type": "stream",
     "text": [
      "  key1  data1 key2  data2\n",
      "0    a    7.0    a      8\n",
      "1    a    8.0    a      8\n",
      "2    a    4.0    a      8\n",
      "3    b    1.0    b      6\n",
      "4    b    1.0    b      6\n",
      "5    b    5.0    b      6\n",
      "6  NaN    NaN    d      2\n"
     ]
    }
   ],
   "execution_count": 39
  },
  {
   "metadata": {
    "ExecuteTime": {
     "end_time": "2025-01-08T06:30:19.499767Z",
     "start_time": "2025-01-08T06:30:19.491244Z"
    }
   },
   "cell_type": "code",
   "source": [
    "# 处理重复列名\n",
    "\n",
    "\"\"\"\n",
    "这里的重复列名指的是除了要用于合并的key之外的重复列名，然后分别添上_left 和_right的后缀\n",
    "而且这个suffix厉害在他可以把所有相同的列都加上后缀，\n",
    "\"\"\"\n",
    "df_obj1 = pd.DataFrame({'key': ['b', 'b', 'a', 'c', 'a', 'a', 'b'],\n",
    "'data' : np.random.randint(0,10,7)})\n",
    "df_obj2 = pd.DataFrame({'key': ['a', 'b', 'd'],\n",
    "'data' : np.random.randint(0,10,3)})\n",
    "print(pd.merge(df_obj1, df_obj2, on='key', suffixes=('_left', '_right')))"
   ],
   "id": "386bb6d062a025fe",
   "outputs": [
    {
     "name": "stdout",
     "output_type": "stream",
     "text": [
      "  key  data_left  data_right\n",
      "0   b          4           6\n",
      "1   b          5           6\n",
      "2   a          4           1\n",
      "3   a          3           1\n",
      "4   a          1           1\n",
      "5   b          4           6\n"
     ]
    }
   ],
   "execution_count": 40
  },
  {
   "metadata": {
    "ExecuteTime": {
     "end_time": "2025-01-08T06:38:37.997217Z",
     "start_time": "2025-01-08T06:38:37.988650Z"
    }
   },
   "cell_type": "code",
   "source": [
    "# 按索引连接\n",
    "df_obj1 = pd.DataFrame({'key': ['b', 'b', 'a', 'c', 'a', 'a', 'b'],\n",
    "'data1' : np.random.randint(0,10,7)})\n",
    "df_obj2 = pd.DataFrame({'data2' : np.random.randint(0,10,3)}, index=['a', 'b', 'd'])\n",
    "print(df_obj1)\n",
    "print(df_obj2)\n",
    "print(pd.merge(df_obj1, df_obj2, left_on='key', right_index=True))"
   ],
   "id": "f7918924492132c",
   "outputs": [
    {
     "name": "stdout",
     "output_type": "stream",
     "text": [
      "  key  data1\n",
      "0   b      3\n",
      "1   b      5\n",
      "2   a      0\n",
      "3   c      0\n",
      "4   a      9\n",
      "5   a      3\n",
      "6   b      6\n",
      "   data2\n",
      "a      5\n",
      "b      1\n",
      "d      5\n",
      "  key  data1  data2\n",
      "0   b      3      1\n",
      "1   b      5      1\n",
      "2   a      0      5\n",
      "4   a      9      5\n",
      "5   a      3      5\n",
      "6   b      6      1\n"
     ]
    }
   ],
   "execution_count": 42
  },
  {
   "metadata": {},
   "cell_type": "markdown",
   "source": "# 重复数据处理",
   "id": "23ecb57648768780"
  },
  {
   "metadata": {
    "ExecuteTime": {
     "end_time": "2025-01-08T06:46:55.889778Z",
     "start_time": "2025-01-08T06:46:55.881582Z"
    }
   },
   "cell_type": "code",
   "source": [
    "\n",
    "import numpy as np\n",
    "import pandas as pd\n",
    "\n",
    "df_obj = pd.DataFrame({'data1' : ['a'] * 4 + ['b'] * 4,\n",
    "'data2' : np.random.randint(0, 4, 8)})\n",
    "print(df_obj)\n",
    "print('\\n')\n",
    "print(df_obj.duplicated())\n",
    "print('\\n')\n",
    "\n",
    "#丢掉重复 drop_duplicates,默认全部列，也可以选择指定列\n",
    "print(df_obj.drop_duplicates())\n",
    "print(df_obj.drop_duplicates('data2'))\n",
    "\n"
   ],
   "id": "1514deae2819b870",
   "outputs": [
    {
     "name": "stdout",
     "output_type": "stream",
     "text": [
      "  data1  data2\n",
      "0     a      3\n",
      "1     a      2\n",
      "2     a      0\n",
      "3     a      2\n",
      "4     b      3\n",
      "5     b      3\n",
      "6     b      3\n",
      "7     b      3\n",
      "\n",
      "\n",
      "0    False\n",
      "1    False\n",
      "2    False\n",
      "3     True\n",
      "4    False\n",
      "5     True\n",
      "6     True\n",
      "7     True\n",
      "dtype: bool\n",
      "\n",
      "\n",
      "  data1  data2\n",
      "0     a      3\n",
      "1     a      2\n",
      "2     a      0\n",
      "4     b      3\n",
      "  data1  data2\n",
      "0     a      3\n",
      "1     a      2\n",
      "2     a      0\n"
     ]
    }
   ],
   "execution_count": 51
  },
  {
   "metadata": {
    "ExecuteTime": {
     "end_time": "2025-01-08T06:51:42.898344Z",
     "start_time": "2025-01-08T06:51:42.886334Z"
    }
   },
   "cell_type": "code",
   "source": [
    "#. 根据 map 传入的函数对每行或每列进行转换\n",
    "ser_obj = pd.Series(np.random.randint(0,10,10))\n",
    "print(ser_obj)\n",
    "print(ser_obj.map(lambda x : x ** 2))"
   ],
   "id": "f301683984860fff",
   "outputs": [
    {
     "name": "stdout",
     "output_type": "stream",
     "text": [
      "0    3\n",
      "1    5\n",
      "2    7\n",
      "3    3\n",
      "4    8\n",
      "5    0\n",
      "6    5\n",
      "7    3\n",
      "8    3\n",
      "9    8\n",
      "dtype: int64\n",
      "0     9\n",
      "1    25\n",
      "2    49\n",
      "3     9\n",
      "4    64\n",
      "5     0\n",
      "6    25\n",
      "7     9\n",
      "8     9\n",
      "9    64\n",
      "dtype: int64\n"
     ]
    }
   ],
   "execution_count": 52
  },
  {
   "metadata": {},
   "cell_type": "markdown",
   "source": "数据替换",
   "id": "35e828d5d3897373"
  },
  {
   "metadata": {
    "ExecuteTime": {
     "end_time": "2025-01-08T06:52:15.913793Z",
     "start_time": "2025-01-08T06:52:15.907699Z"
    }
   },
   "cell_type": "code",
   "source": [
    "# 单个值替换单个值\n",
    "print(ser_obj.replace(1, -100))\n",
    "# 多个值替换一个值\n",
    "print(ser_obj.replace([6,8], -100))\n",
    "# 多个值替换多个值\n",
    "print(ser_obj.replace([4, 7], [-100, -200]))"
   ],
   "id": "978837b3d470aff0",
   "outputs": [
    {
     "name": "stdout",
     "output_type": "stream",
     "text": [
      "0    3\n",
      "1    5\n",
      "2    7\n",
      "3    3\n",
      "4    8\n",
      "5    0\n",
      "6    5\n",
      "7    3\n",
      "8    3\n",
      "9    8\n",
      "dtype: int64\n",
      "0      3\n",
      "1      5\n",
      "2      7\n",
      "3      3\n",
      "4   -100\n",
      "5      0\n",
      "6      5\n",
      "7      3\n",
      "8      3\n",
      "9   -100\n",
      "dtype: int64\n",
      "0      3\n",
      "1      5\n",
      "2   -200\n",
      "3      3\n",
      "4      8\n",
      "5      0\n",
      "6      5\n",
      "7      3\n",
      "8      3\n",
      "9      8\n",
      "dtype: int64\n"
     ]
    }
   ],
   "execution_count": 53
  },
  {
   "metadata": {},
   "cell_type": "code",
   "outputs": [],
   "execution_count": null,
   "source": "",
   "id": "c9d0910ca09166a7"
  }
 ],
 "metadata": {
  "kernelspec": {
   "display_name": "Python 3",
   "language": "python",
   "name": "python3"
  },
  "language_info": {
   "codemirror_mode": {
    "name": "ipython",
    "version": 2
   },
   "file_extension": ".py",
   "mimetype": "text/x-python",
   "name": "python",
   "nbconvert_exporter": "python",
   "pygments_lexer": "ipython2",
   "version": "2.7.6"
  }
 },
 "nbformat": 4,
 "nbformat_minor": 5
}
