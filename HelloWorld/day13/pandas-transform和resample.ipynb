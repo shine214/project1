{
 "cells": [
  {
   "metadata": {},
   "cell_type": "markdown",
   "source": "# resample 降采样",
   "id": "8b6c05b7a4641f51"
  },
  {
   "metadata": {},
   "cell_type": "code",
   "outputs": [],
   "execution_count": null,
   "source": [
    "\"\"\"\n",
    "降采样的原理就是假如本来是一小时一个数据，然后展开的话就会有很多\n",
    "然后现在把它简化为一天统计一次，这样数据量就会少很多了\n",
    "resample处理的df或series必须以日期为index\n",
    "\n",
    "inplace参数是说是否在原的参数上做修改， \n",
    "\"\"\""
   ],
   "id": "774ea85df893cec7"
  },
  {
   "metadata": {
    "ExecuteTime": {
     "end_time": "2025-01-09T05:04:32.676617Z",
     "start_time": "2025-01-09T05:04:32.666723Z"
    }
   },
   "cell_type": "code",
   "source": [
    "import pandas as pd\n",
    "\n",
    "# 创建一个包含日期时间的 DataFrame\n",
    "date_rng = pd.date_range(start='2025-01-01', end='2025-01-10', freq='h')\n",
    "print(date_rng)\n",
    "df = pd.DataFrame(date_rng, columns=['date'])\n",
    "print(df)\n",
    "df['data'] = range(len(df))\n",
    "print(df)\n",
    "# 将数据框的日期列设为索引\n",
    "df.set_index('date', inplace=True)\n",
    "\n",
    "# 使用 resample 方法按天重采样，并计算每一天的平均值\n",
    "df_resampled = df.resample('D').mean()\n",
    "print(df_resampled)"
   ],
   "id": "initial_id",
   "outputs": [
    {
     "name": "stdout",
     "output_type": "stream",
     "text": [
      "DatetimeIndex(['2025-01-01 00:00:00', '2025-01-01 01:00:00',\n",
      "               '2025-01-01 02:00:00', '2025-01-01 03:00:00',\n",
      "               '2025-01-01 04:00:00', '2025-01-01 05:00:00',\n",
      "               '2025-01-01 06:00:00', '2025-01-01 07:00:00',\n",
      "               '2025-01-01 08:00:00', '2025-01-01 09:00:00',\n",
      "               ...\n",
      "               '2025-01-09 15:00:00', '2025-01-09 16:00:00',\n",
      "               '2025-01-09 17:00:00', '2025-01-09 18:00:00',\n",
      "               '2025-01-09 19:00:00', '2025-01-09 20:00:00',\n",
      "               '2025-01-09 21:00:00', '2025-01-09 22:00:00',\n",
      "               '2025-01-09 23:00:00', '2025-01-10 00:00:00'],\n",
      "              dtype='datetime64[ns]', length=217, freq='h')\n",
      "                   date\n",
      "0   2025-01-01 00:00:00\n",
      "1   2025-01-01 01:00:00\n",
      "2   2025-01-01 02:00:00\n",
      "3   2025-01-01 03:00:00\n",
      "4   2025-01-01 04:00:00\n",
      "..                  ...\n",
      "212 2025-01-09 20:00:00\n",
      "213 2025-01-09 21:00:00\n",
      "214 2025-01-09 22:00:00\n",
      "215 2025-01-09 23:00:00\n",
      "216 2025-01-10 00:00:00\n",
      "\n",
      "[217 rows x 1 columns]\n",
      "                   date  data\n",
      "0   2025-01-01 00:00:00     0\n",
      "1   2025-01-01 01:00:00     1\n",
      "2   2025-01-01 02:00:00     2\n",
      "3   2025-01-01 03:00:00     3\n",
      "4   2025-01-01 04:00:00     4\n",
      "..                  ...   ...\n",
      "212 2025-01-09 20:00:00   212\n",
      "213 2025-01-09 21:00:00   213\n",
      "214 2025-01-09 22:00:00   214\n",
      "215 2025-01-09 23:00:00   215\n",
      "216 2025-01-10 00:00:00   216\n",
      "\n",
      "[217 rows x 2 columns]\n",
      "             data\n",
      "date             \n",
      "2025-01-01   11.5\n",
      "2025-01-02   35.5\n",
      "2025-01-03   59.5\n",
      "2025-01-04   83.5\n",
      "2025-01-05  107.5\n",
      "2025-01-06  131.5\n",
      "2025-01-07  155.5\n",
      "2025-01-08  179.5\n",
      "2025-01-09  203.5\n",
      "2025-01-10  216.0\n"
     ]
    }
   ],
   "execution_count": 14
  },
  {
   "metadata": {},
   "cell_type": "markdown",
   "source": "# transform",
   "id": "c63ffab811376e2c"
  },
  {
   "metadata": {
    "ExecuteTime": {
     "end_time": "2025-01-09T05:23:57.563526Z",
     "start_time": "2025-01-09T05:23:57.557214Z"
    }
   },
   "cell_type": "code",
   "source": [
    "import pandas as pd\n",
    "\n",
    "# 创建示例数据\n",
    "data = {\n",
    "    'Category': ['A', 'A', 'A', 'B', 'B', 'B'],\n",
    "    'Value': [10, 20, 30, 40, 50, 60]\n",
    "}\n",
    "df = pd.DataFrame(data)\n",
    "grouped = df.groupby('Category')['Value']\n",
    "# 使用 groupby 对数据按 'Category' 分组，然后对 'Value' 列进行标准化处理\n",
    "df['Standardized'] = df.groupby('Category')['Value'].transform(lambda x: (x - x.mean()) / x.std())\n",
    "\n",
    "print(df)"
   ],
   "id": "4a5732e34e98a880",
   "outputs": [
    {
     "name": "stdout",
     "output_type": "stream",
     "text": [
      "  Category  Value  Standardized\n",
      "0        A     10          -1.0\n",
      "1        A     20           0.0\n",
      "2        A     30           1.0\n",
      "3        B     40          -1.0\n",
      "4        B     50           0.0\n",
      "5        B     60           1.0\n"
     ]
    }
   ],
   "execution_count": 26
  }
 ],
 "metadata": {
  "kernelspec": {
   "display_name": "Python 3",
   "language": "python",
   "name": "python3"
  },
  "language_info": {
   "codemirror_mode": {
    "name": "ipython",
    "version": 2
   },
   "file_extension": ".py",
   "mimetype": "text/x-python",
   "name": "python",
   "nbconvert_exporter": "python",
   "pygments_lexer": "ipython2",
   "version": "2.7.6"
  }
 },
 "nbformat": 4,
 "nbformat_minor": 5
}
